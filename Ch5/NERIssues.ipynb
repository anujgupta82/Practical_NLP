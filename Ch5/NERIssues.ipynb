{
 "cells": [
  {
   "cell_type": "code",
   "execution_count": 1,
   "metadata": {},
   "outputs": [
    {
     "name": "stdout",
     "output_type": "stream",
     "text": [
      "SAN \t GPE\n",
      "Apple \t ORG\n",
      "last year \t DATE\n",
      "$252 billion \t MONEY\n",
      "$100 billion \t MONEY\n",
      "\n",
      "\n",
      " \t CARDINAL\n",
      "Tuesday \t DATE\n",
      "Apple \t ORG\n",
      "$75 billion \t MONEY\n",
      "\n",
      "\n",
      " \t CARDINAL\n",
      "first \t ORDINAL\n",
      "Luca Maestri \t PERSON\n",
      "Apple \t ORG\n",
      "Apple \t ORG\n"
     ]
    }
   ],
   "source": [
    "#Problems of NER illustration through Spacy.\n",
    "import spacy\n",
    "nlp = spacy.load(\"en_core_web_lg\")\n",
    "mytext = \"\"\"SAN FRANCISCO — Shortly after Apple used a new tax law last year to bring back most of the $252 billion it had held abroad, the company said it would buy back $100 billion of its stock.\n",
    "\n",
    "On Tuesday, Apple announced its plans for another major chunk of the money: It will buy back a further $75 billion in stock.\n",
    "\n",
    "“Our first priority is always looking after the business and making sure we continue to grow and invest,” Luca Maestri, Apple’s finance chief, said in an interview. “If there is excess cash, then obviously we want to return it to investors.”\n",
    "\n",
    "Apple’s record buybacks should be welcome news to shareholders, as the stock price is likely to climb. But the buybacks could also expose the company to more criticism that the tax cuts it received have mostly benefited investors and executives.\n",
    "\"\"\"\n",
    "doc = nlp(mytext)\n",
    "for ent in doc.ents:\n",
    "    print(ent.text, \"\\t\", ent.label_)"
   ]
  },
  {
   "cell_type": "code",
   "execution_count": 2,
   "metadata": {},
   "outputs": [
    {
     "name": "stdout",
     "output_type": "stream",
     "text": [
      "SAN FRANCISCO —\n",
      "***End of sent****\n",
      "Shortly after Apple used a new tax law last year to bring back most of the $252 billion it had held abroad, the company said it would buy back $100 billion of its stock.\n",
      "\n",
      "\n",
      "***End of sent****\n",
      "On Tuesday, Apple announced its plans for another major chunk of the money: It will buy back a further $75 billion in stock.\n",
      "\n",
      "\n",
      "***End of sent****\n",
      "“\n",
      "***End of sent****\n",
      "Our first priority is always looking after the business and making sure we continue to grow and invest,” Luca Maestri, Apple’s finance chief, said in an interview.\n",
      "***End of sent****\n",
      "“\n",
      "***End of sent****\n",
      "If there is excess cash, then obviously we want to return it to investors.\n",
      "***End of sent****\n",
      "”\n",
      "\n",
      "\n",
      "***End of sent****\n",
      "Apple’s record buybacks should be welcome news to shareholders, as the stock price is likely to climb.\n",
      "***End of sent****\n",
      "But the buybacks could also expose the company to more criticism that the tax cuts it received have mostly benefited investors and executives.\n",
      "\n",
      "***End of sent****\n",
      "Total sentences:  10\n"
     ]
    }
   ],
   "source": [
    "count=0 #We see 6 sentences as humans in this text. How many does Spacy see? \n",
    "for sent in doc.sents:\n",
    "    print(sent.text)\n",
    "    print(\"***End of sent****\")\n",
    "    count = count+1\n",
    "print(\"Total sentences: \", count)"
   ]
  },
  {
   "cell_type": "code",
   "execution_count": null,
   "metadata": {},
   "outputs": [],
   "source": []
  }
 ],
 "metadata": {
  "kernelspec": {
   "display_name": "Python 3",
   "language": "python",
   "name": "python3"
  },
  "language_info": {
   "codemirror_mode": {
    "name": "ipython",
    "version": 3
   },
   "file_extension": ".py",
   "mimetype": "text/x-python",
   "name": "python",
   "nbconvert_exporter": "python",
   "pygments_lexer": "ipython3",
   "version": "3.6.5"
  }
 },
 "nbformat": 4,
 "nbformat_minor": 2
}
