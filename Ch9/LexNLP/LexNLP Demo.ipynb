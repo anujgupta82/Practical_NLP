{
  "nbformat": 4,
  "nbformat_minor": 0,
  "metadata": {
    "colab": {
      "name": "lexnlp-1.ipynb",
      "provenance": [],
      "collapsed_sections": []
    },
    "kernelspec": {
      "name": "python3",
      "display_name": "Python 3"
    }
  },
  "cells": [
    {
      "cell_type": "code",
      "metadata": {
        "id": "9N42o6gmX4mt",
        "colab_type": "code",
        "outputId": "f16eef81-5773-4692-bf4a-3b4613817d78",
        "colab": {
          "base_uri": "https://localhost:8080/",
          "height": 1000
        }
      },
      "source": [
        "!pip3 install lexnlp\n",
        "!pip3 install textract"
      ],
      "execution_count": 1,
      "outputs": [
        {
          "output_type": "stream",
          "text": [
            "Collecting lexnlp\n",
            "\u001b[?25l  Downloading https://files.pythonhosted.org/packages/f3/69/754eae7606ed58f3d5e11f86c9ced6a0c99ecaab460e628af62d7e0e2202/lexnlp-1.4.0-py3-none-any.whl (9.7MB)\n",
            "\u001b[K     |████████████████████████████████| 9.7MB 4.1MB/s \n",
            "\u001b[?25hCollecting scikit-learn==0.21.3\n",
            "\u001b[?25l  Downloading https://files.pythonhosted.org/packages/a0/c5/d2238762d780dde84a20b8c761f563fe882b88c5a5fb03c056547c442a19/scikit_learn-0.21.3-cp36-cp36m-manylinux1_x86_64.whl (6.7MB)\n",
            "\u001b[K     |████████████████████████████████| 6.7MB 41.8MB/s \n",
            "\u001b[?25hCollecting gensim==3.4.0\n",
            "\u001b[?25l  Downloading https://files.pythonhosted.org/packages/33/33/df6cb7acdcec5677ed130f4800f67509d24dbec74a03c329fcbf6b0864f0/gensim-3.4.0-cp36-cp36m-manylinux1_x86_64.whl (22.6MB)\n",
            "\u001b[K     |████████████████████████████████| 22.6MB 170kB/s \n",
            "\u001b[?25hCollecting scipy==1.0.0\n",
            "\u001b[?25l  Downloading https://files.pythonhosted.org/packages/d8/5e/caa01ba7be11600b6a9d39265440d7b3be3d69206da887c42bef049521f2/scipy-1.0.0-cp36-cp36m-manylinux1_x86_64.whl (50.0MB)\n",
            "\u001b[K     |████████████████████████████████| 50.0MB 75kB/s \n",
            "\u001b[?25hCollecting pandas==0.23.4\n",
            "\u001b[?25l  Downloading https://files.pythonhosted.org/packages/e1/d8/feeb346d41f181e83fba45224ab14a8d8af019b48af742e047f3845d8cff/pandas-0.23.4-cp36-cp36m-manylinux1_x86_64.whl (8.9MB)\n",
            "\u001b[K     |████████████████████████████████| 8.9MB 43.5MB/s \n",
            "\u001b[?25hCollecting nltk==3.4.5\n",
            "\u001b[?25l  Downloading https://files.pythonhosted.org/packages/f6/1d/d925cfb4f324ede997f6d47bea4d9babba51b49e87a767c170b77005889d/nltk-3.4.5.zip (1.5MB)\n",
            "\u001b[K     |████████████████████████████████| 1.5MB 36.5MB/s \n",
            "\u001b[?25hCollecting datefinder-lexpredict==0.6.2\n",
            "  Downloading https://files.pythonhosted.org/packages/27/47/9a38724045b30e2e4d1c5e3e08fd3b0770dedb2e9ca92c1347b9e2182470/datefinder_lexpredict-0.6.2-py2.py3-none-any.whl\n",
            "Collecting reporters-db==1.0.12.1\n",
            "\u001b[?25l  Downloading https://files.pythonhosted.org/packages/0d/6c/16c7c3849a25d2c3af5ef6e05d768d8e86e74aa9051df4728325c5f31f46/reporters_db-1.0.12.1-py2.py3-none-any.whl (60kB)\n",
            "\u001b[K     |████████████████████████████████| 61kB 8.1MB/s \n",
            "\u001b[?25hCollecting pycountry==18.5.26\n",
            "\u001b[?25l  Downloading https://files.pythonhosted.org/packages/c5/c0/8ce9d2b55347867900edbe4d18f790571130c16f882b4891a0f08627dcdc/pycountry-18.5.26-py2.py3-none-any.whl (10.3MB)\n",
            "\u001b[K     |████████████████████████████████| 10.3MB 36.4MB/s \n",
            "\u001b[?25hCollecting Unidecode==0.4.21\n",
            "\u001b[?25l  Downloading https://files.pythonhosted.org/packages/01/a1/9d7f3138ee3d79a1ab865a2cb38200ca778d85121db19fe264c76c981184/Unidecode-0.04.21-py2.py3-none-any.whl (228kB)\n",
            "\u001b[K     |████████████████████████████████| 235kB 58.1MB/s \n",
            "\u001b[?25hCollecting typing==3.6.2\n",
            "  Downloading https://files.pythonhosted.org/packages/44/88/d09c6a7fe1af4a02f16d2f1766212bec752aadb04e5699a9706a10a1a37d/typing-3.6.2-py3-none-any.whl\n",
            "Collecting regex==2017.9.23\n",
            "\u001b[?25l  Downloading https://files.pythonhosted.org/packages/d7/65/91b43adad1dc45d7374521422270490128a2f289e1c3e1036b231b521507/regex-2017.09.23.tar.gz (607kB)\n",
            "\u001b[K     |████████████████████████████████| 614kB 34.9MB/s \n",
            "\u001b[?25hCollecting us==1.0.0\n",
            "  Downloading https://files.pythonhosted.org/packages/72/83/8731cbf5afcf3434c0b24cfc520c11fd27bfc8a6878114662f4e3dbdab71/us-1.0.0.tar.gz\n",
            "Collecting num2words==0.5.7\n",
            "\u001b[?25l  Downloading https://files.pythonhosted.org/packages/bc/9a/31a9151abd891ab7387d8d74cb0d84c4e77674735dbf85a63dfeb8eed6a6/num2words-0.5.7.tar.gz (94kB)\n",
            "\u001b[K     |████████████████████████████████| 102kB 9.7MB/s \n",
            "\u001b[?25hCollecting dateparser==0.7.0\n",
            "\u001b[?25l  Downloading https://files.pythonhosted.org/packages/ac/9e/1aa87c0c59f9731820bfd20a8b148d97b315530c2c92d1fb300328c8c42f/dateparser-0.7.0-py2.py3-none-any.whl (357kB)\n",
            "\u001b[K     |████████████████████████████████| 358kB 51.3MB/s \n",
            "\u001b[?25hCollecting requests==2.22.0\n",
            "\u001b[?25l  Downloading https://files.pythonhosted.org/packages/51/bd/23c926cd341ea6b7dd0b2a00aba99ae0f828be89d72b2190f27c11d4b7fb/requests-2.22.0-py2.py3-none-any.whl (57kB)\n",
            "\u001b[K     |████████████████████████████████| 61kB 6.8MB/s \n",
            "\u001b[?25hRequirement already satisfied: numpy>=1.11.0 in /usr/local/lib/python3.6/dist-packages (from scikit-learn==0.21.3->lexnlp) (1.17.5)\n",
            "Requirement already satisfied: joblib>=0.11 in /usr/local/lib/python3.6/dist-packages (from scikit-learn==0.21.3->lexnlp) (0.14.1)\n",
            "Requirement already satisfied: six>=1.5.0 in /usr/local/lib/python3.6/dist-packages (from gensim==3.4.0->lexnlp) (1.12.0)\n",
            "Requirement already satisfied: smart-open>=1.2.1 in /usr/local/lib/python3.6/dist-packages (from gensim==3.4.0->lexnlp) (1.9.0)\n",
            "Requirement already satisfied: pytz>=2011k in /usr/local/lib/python3.6/dist-packages (from pandas==0.23.4->lexnlp) (2018.9)\n",
            "Requirement already satisfied: python-dateutil>=2.5.0 in /usr/local/lib/python3.6/dist-packages (from pandas==0.23.4->lexnlp) (2.6.1)\n",
            "Collecting jellyfish==0.5.6\n",
            "\u001b[?25l  Downloading https://files.pythonhosted.org/packages/94/48/ddb1458d966f0a84e472d059d87a9d1527df7768a725132fc1d810728386/jellyfish-0.5.6.tar.gz (132kB)\n",
            "\u001b[K     |████████████████████████████████| 133kB 44.2MB/s \n",
            "\u001b[?25hRequirement already satisfied: tzlocal in /usr/local/lib/python3.6/dist-packages (from dateparser==0.7.0->lexnlp) (1.5.1)\n",
            "Requirement already satisfied: certifi>=2017.4.17 in /usr/local/lib/python3.6/dist-packages (from requests==2.22.0->lexnlp) (2019.11.28)\n",
            "Requirement already satisfied: chardet<3.1.0,>=3.0.2 in /usr/local/lib/python3.6/dist-packages (from requests==2.22.0->lexnlp) (3.0.4)\n",
            "Requirement already satisfied: idna<2.9,>=2.5 in /usr/local/lib/python3.6/dist-packages (from requests==2.22.0->lexnlp) (2.8)\n",
            "Requirement already satisfied: urllib3!=1.25.0,!=1.25.1,<1.26,>=1.21.1 in /usr/local/lib/python3.6/dist-packages (from requests==2.22.0->lexnlp) (1.24.3)\n",
            "Requirement already satisfied: boto3 in /usr/local/lib/python3.6/dist-packages (from smart-open>=1.2.1->gensim==3.4.0->lexnlp) (1.11.10)\n",
            "Requirement already satisfied: boto>=2.32 in /usr/local/lib/python3.6/dist-packages (from smart-open>=1.2.1->gensim==3.4.0->lexnlp) (2.49.0)\n",
            "Requirement already satisfied: s3transfer<0.4.0,>=0.3.0 in /usr/local/lib/python3.6/dist-packages (from boto3->smart-open>=1.2.1->gensim==3.4.0->lexnlp) (0.3.2)\n",
            "Requirement already satisfied: jmespath<1.0.0,>=0.7.1 in /usr/local/lib/python3.6/dist-packages (from boto3->smart-open>=1.2.1->gensim==3.4.0->lexnlp) (0.9.4)\n",
            "Requirement already satisfied: botocore<1.15.0,>=1.14.10 in /usr/local/lib/python3.6/dist-packages (from boto3->smart-open>=1.2.1->gensim==3.4.0->lexnlp) (1.14.10)\n",
            "Requirement already satisfied: docutils<0.16,>=0.10 in /usr/local/lib/python3.6/dist-packages (from botocore<1.15.0,>=1.14.10->boto3->smart-open>=1.2.1->gensim==3.4.0->lexnlp) (0.15.2)\n",
            "Building wheels for collected packages: nltk, regex, us, num2words, jellyfish\n",
            "  Building wheel for nltk (setup.py) ... \u001b[?25l\u001b[?25hdone\n",
            "  Created wheel for nltk: filename=nltk-3.4.5-cp36-none-any.whl size=1449907 sha256=cdbd4a4b99cc042775491e50ef75f1e4ca049cdb66eac813240d1759e550b154\n",
            "  Stored in directory: /root/.cache/pip/wheels/96/86/f6/68ab24c23f207c0077381a5e3904b2815136b879538a24b483\n",
            "  Building wheel for regex (setup.py) ... \u001b[?25l\u001b[?25hdone\n",
            "  Created wheel for regex: filename=regex-2017.9.23-cp36-cp36m-linux_x86_64.whl size=538782 sha256=0671b6ad68a1aff71e7d50128703c10c06b1180b29ba2ecffe131308724ed7d8\n",
            "  Stored in directory: /root/.cache/pip/wheels/57/19/41/e7d239b4a53386fe9de49f9e4328799569bbeac8b8b3748876\n",
            "  Building wheel for us (setup.py) ... \u001b[?25l\u001b[?25hdone\n",
            "  Created wheel for us: filename=us-1.0.0-cp36-none-any.whl size=11833 sha256=826a481d6c76b046c14447dbd06786976384cc402ef78b2d52cc8ea2d3c60c96\n",
            "  Stored in directory: /root/.cache/pip/wheels/b3/98/40/cb8be35d7779a0ae4372c84e7a585c947bfc41540fd8999e53\n",
            "  Building wheel for num2words (setup.py) ... \u001b[?25l\u001b[?25hdone\n",
            "  Created wheel for num2words: filename=num2words-0.5.7-cp36-none-any.whl size=84777 sha256=37f88945f72d0c67b3f25c6a5385fb10b82dee8c17b76f8ce1202e55074941a7\n",
            "  Stored in directory: /root/.cache/pip/wheels/e5/f6/a1/78cb080e8529bfa0c6ee2461563a4ff96efc0b6fe89cb31457\n",
            "  Building wheel for jellyfish (setup.py) ... \u001b[?25l\u001b[?25hdone\n",
            "  Created wheel for jellyfish: filename=jellyfish-0.5.6-cp36-cp36m-linux_x86_64.whl size=74536 sha256=caa10f792e629de0ec756949e3046df0eec410ff8ca54de8083c025fa9ddbf17\n",
            "  Stored in directory: /root/.cache/pip/wheels/3b/29/06/8d686d24f742cb89e7bde7f26f18cb9e89b3c8bcd6999cb12a\n",
            "Successfully built nltk regex us num2words jellyfish\n",
            "\u001b[31mERROR: xarray 0.14.1 has requirement pandas>=0.24, but you'll have pandas 0.23.4 which is incompatible.\u001b[0m\n",
            "\u001b[31mERROR: seaborn 0.10.0 has requirement scipy>=1.0.1, but you'll have scipy 1.0.0 which is incompatible.\u001b[0m\n",
            "\u001b[31mERROR: plotnine 0.6.0 has requirement pandas>=0.25.0, but you'll have pandas 0.23.4 which is incompatible.\u001b[0m\n",
            "\u001b[31mERROR: plotnine 0.6.0 has requirement scipy>=1.2.0, but you'll have scipy 1.0.0 which is incompatible.\u001b[0m\n",
            "\u001b[31mERROR: mizani 0.6.0 has requirement pandas>=0.25.0, but you'll have pandas 0.23.4 which is incompatible.\u001b[0m\n",
            "\u001b[31mERROR: google-colab 1.0.0 has requirement pandas~=0.25.0; python_version >= \"3.0\", but you'll have pandas 0.23.4 which is incompatible.\u001b[0m\n",
            "\u001b[31mERROR: google-colab 1.0.0 has requirement requests~=2.21.0, but you'll have requests 2.22.0 which is incompatible.\u001b[0m\n",
            "\u001b[31mERROR: datascience 0.10.6 has requirement folium==0.2.1, but you'll have folium 0.8.3 which is incompatible.\u001b[0m\n",
            "\u001b[31mERROR: cvxpy 1.0.25 has requirement scipy>=1.1.0, but you'll have scipy 1.0.0 which is incompatible.\u001b[0m\n",
            "\u001b[31mERROR: albumentations 0.1.12 has requirement imgaug<0.2.7,>=0.2.5, but you'll have imgaug 0.2.9 which is incompatible.\u001b[0m\n",
            "Installing collected packages: scipy, scikit-learn, gensim, pandas, nltk, regex, datefinder-lexpredict, reporters-db, pycountry, Unidecode, typing, jellyfish, us, num2words, dateparser, requests, lexnlp\n",
            "  Found existing installation: scipy 1.4.1\n",
            "    Uninstalling scipy-1.4.1:\n",
            "      Successfully uninstalled scipy-1.4.1\n",
            "  Found existing installation: scikit-learn 0.22.1\n",
            "    Uninstalling scikit-learn-0.22.1:\n",
            "      Successfully uninstalled scikit-learn-0.22.1\n",
            "  Found existing installation: gensim 3.6.0\n",
            "    Uninstalling gensim-3.6.0:\n",
            "      Successfully uninstalled gensim-3.6.0\n",
            "  Found existing installation: pandas 0.25.3\n",
            "    Uninstalling pandas-0.25.3:\n",
            "      Successfully uninstalled pandas-0.25.3\n",
            "  Found existing installation: nltk 3.2.5\n",
            "    Uninstalling nltk-3.2.5:\n",
            "      Successfully uninstalled nltk-3.2.5\n",
            "  Found existing installation: regex 2019.12.20\n",
            "    Uninstalling regex-2019.12.20:\n",
            "      Successfully uninstalled regex-2019.12.20\n",
            "  Found existing installation: typing 3.6.6\n",
            "    Uninstalling typing-3.6.6:\n",
            "      Successfully uninstalled typing-3.6.6\n",
            "  Found existing installation: requests 2.21.0\n",
            "    Uninstalling requests-2.21.0:\n",
            "      Successfully uninstalled requests-2.21.0\n",
            "Successfully installed Unidecode-0.4.21 datefinder-lexpredict-0.6.2 dateparser-0.7.0 gensim-3.4.0 jellyfish-0.5.6 lexnlp-1.4.0 nltk-3.4.5 num2words-0.5.7 pandas-0.23.4 pycountry-18.5.26 regex-2017.9.23 reporters-db-1.0.12.1 requests-2.22.0 scikit-learn-0.21.3 scipy-1.0.0 typing-3.6.2 us-1.0.0\n"
          ],
          "name": "stdout"
        },
        {
          "output_type": "display_data",
          "data": {
            "application/vnd.colab-display-data+json": {
              "pip_warning": {
                "packages": [
                  "pandas",
                  "requests",
                  "typing"
                ]
              }
            }
          },
          "metadata": {
            "tags": []
          }
        },
        {
          "output_type": "stream",
          "text": [
            "Collecting textract\n",
            "  Downloading https://files.pythonhosted.org/packages/32/31/ef9451e6e48a1a57e337c5f20d4ef58c1a13d91560d2574c738b1320bb8d/textract-1.6.3-py3-none-any.whl\n",
            "Requirement already satisfied: six==1.12.0 in /usr/local/lib/python3.6/dist-packages (from textract) (1.12.0)\n",
            "Collecting EbookLib==0.17.1\n",
            "\u001b[?25l  Downloading https://files.pythonhosted.org/packages/00/38/7d6ab2e569a9165249619d73b7bc6be0e713a899a3bc2513814b6598a84c/EbookLib-0.17.1.tar.gz (111kB)\n",
            "\u001b[K     |████████████████████████████████| 112kB 7.5MB/s \n",
            "\u001b[?25hCollecting SpeechRecognition==3.8.1\n",
            "\u001b[?25l  Downloading https://files.pythonhosted.org/packages/26/e1/7f5678cd94ec1234269d23756dbdaa4c8cfaed973412f88ae8adf7893a50/SpeechRecognition-3.8.1-py2.py3-none-any.whl (32.8MB)\n",
            "\u001b[K     |████████████████████████████████| 32.8MB 125kB/s \n",
            "\u001b[?25hRequirement already satisfied: chardet==3.0.4 in /usr/local/lib/python3.6/dist-packages (from textract) (3.0.4)\n",
            "Collecting xlrd==1.2.0\n",
            "\u001b[?25l  Downloading https://files.pythonhosted.org/packages/b0/16/63576a1a001752e34bf8ea62e367997530dc553b689356b9879339cf45a4/xlrd-1.2.0-py2.py3-none-any.whl (103kB)\n",
            "\u001b[K     |████████████████████████████████| 112kB 55.2MB/s \n",
            "\u001b[?25hCollecting argcomplete==1.10.0\n",
            "  Downloading https://files.pythonhosted.org/packages/4d/82/f44c9661e479207348a979b1f6f063625d11dc4ca6256af053719bbb0124/argcomplete-1.10.0-py2.py3-none-any.whl\n",
            "Collecting extract-msg==0.23.1\n",
            "\u001b[?25l  Downloading https://files.pythonhosted.org/packages/a1/90/84485a914ed90adb5e87df17e626be04162fbba146dfecf34643659a4633/extract_msg-0.23.1-py2.py3-none-any.whl (45kB)\n",
            "\u001b[K     |████████████████████████████████| 51kB 7.2MB/s \n",
            "\u001b[?25hCollecting pdfminer.six==20181108\n",
            "\u001b[?25l  Downloading https://files.pythonhosted.org/packages/8a/fd/6e8746e6965d1a7ea8e97253e3d79e625da5547e8f376f88de5d024bacb9/pdfminer.six-20181108-py2.py3-none-any.whl (5.6MB)\n",
            "\u001b[K     |████████████████████████████████| 5.6MB 43.4MB/s \n",
            "\u001b[?25hCollecting python-pptx==0.6.18\n",
            "\u001b[?25l  Downloading https://files.pythonhosted.org/packages/bf/86/eb979f7b0333ec769041aae36df8b9f1bd8bea5bbad44620663890dce561/python-pptx-0.6.18.tar.gz (8.9MB)\n",
            "\u001b[K     |████████████████████████████████| 8.9MB 46.5MB/s \n",
            "\u001b[?25hCollecting docx2txt==0.8\n",
            "  Downloading https://files.pythonhosted.org/packages/7d/7d/60ee3f2b16d9bfdfa72e8599470a2c1a5b759cb113c6fe1006be28359327/docx2txt-0.8.tar.gz\n",
            "Collecting beautifulsoup4==4.8.0\n",
            "\u001b[?25l  Downloading https://files.pythonhosted.org/packages/1a/b7/34eec2fe5a49718944e215fde81288eec1fa04638aa3fb57c1c6cd0f98c3/beautifulsoup4-4.8.0-py3-none-any.whl (97kB)\n",
            "\u001b[K     |████████████████████████████████| 102kB 10.9MB/s \n",
            "\u001b[?25hRequirement already satisfied: lxml in /usr/local/lib/python3.6/dist-packages (from EbookLib==0.17.1->textract) (4.2.6)\n",
            "Requirement already satisfied: tzlocal==1.5.1 in /usr/local/lib/python3.6/dist-packages (from extract-msg==0.23.1->textract) (1.5.1)\n",
            "Collecting olefile==0.46\n",
            "\u001b[?25l  Downloading https://files.pythonhosted.org/packages/34/81/e1ac43c6b45b4c5f8d9352396a14144bba52c8fec72a80f425f6a4d653ad/olefile-0.46.zip (112kB)\n",
            "\u001b[K     |████████████████████████████████| 112kB 61.6MB/s \n",
            "\u001b[?25hCollecting imapclient==2.1.0\n",
            "\u001b[?25l  Downloading https://files.pythonhosted.org/packages/dc/39/e1c2c2c6e2356ab6ea81fcfc0a74b044b311d6a91a45300811d9a6077ef7/IMAPClient-2.1.0-py2.py3-none-any.whl (73kB)\n",
            "\u001b[K     |████████████████████████████████| 81kB 10.1MB/s \n",
            "\u001b[?25hCollecting pycryptodome\n",
            "\u001b[?25l  Downloading https://files.pythonhosted.org/packages/54/e4/72132c31a4cedc58848615502c06cedcce1e1ff703b4c506a7171f005a75/pycryptodome-3.9.6-cp36-cp36m-manylinux1_x86_64.whl (13.7MB)\n",
            "\u001b[K     |████████████████████████████████| 13.7MB 41.6MB/s \n",
            "\u001b[?25hRequirement already satisfied: sortedcontainers in /usr/local/lib/python3.6/dist-packages (from pdfminer.six==20181108->textract) (2.1.0)\n",
            "Requirement already satisfied: Pillow>=3.3.2 in /usr/local/lib/python3.6/dist-packages (from python-pptx==0.6.18->textract) (6.2.2)\n",
            "Collecting XlsxWriter>=0.5.7\n",
            "\u001b[?25l  Downloading https://files.pythonhosted.org/packages/0d/0c/4376ce9d0773c9969271419d4c843bf9b845d831a555f5abb6229e74ac1e/XlsxWriter-1.2.7-py2.py3-none-any.whl (141kB)\n",
            "\u001b[K     |████████████████████████████████| 143kB 37.5MB/s \n",
            "\u001b[?25hCollecting soupsieve>=1.2\n",
            "  Downloading https://files.pythonhosted.org/packages/81/94/03c0f04471fc245d08d0a99f7946ac228ca98da4fa75796c507f61e688c2/soupsieve-1.9.5-py2.py3-none-any.whl\n",
            "Requirement already satisfied: pytz in /usr/local/lib/python3.6/dist-packages (from tzlocal==1.5.1->extract-msg==0.23.1->textract) (2018.9)\n",
            "Building wheels for collected packages: EbookLib, python-pptx, docx2txt, olefile\n",
            "  Building wheel for EbookLib (setup.py) ... \u001b[?25l\u001b[?25hdone\n",
            "  Created wheel for EbookLib: filename=EbookLib-0.17.1-cp36-none-any.whl size=38164 sha256=b4667b402403a758dbdd7b04cab7877e492befd84d00e89c2b8eaa558f3072ef\n",
            "  Stored in directory: /root/.cache/pip/wheels/84/11/01/951369cbbf8f96878786a1f4da68bd7ac19a5d945b38e03d54\n",
            "  Building wheel for python-pptx (setup.py) ... \u001b[?25l\u001b[?25hdone\n",
            "  Created wheel for python-pptx: filename=python_pptx-0.6.18-cp36-none-any.whl size=275706 sha256=1731bf25a986fbbed96bac73dd05b3d3dc9bda3cd2af5bee6e00e690bedc26c3\n",
            "  Stored in directory: /root/.cache/pip/wheels/1f/1f/2c/29acca422b420a0b5210bd2cd7e9669804520d602d2462f20b\n",
            "  Building wheel for docx2txt (setup.py) ... \u001b[?25l\u001b[?25hdone\n",
            "  Created wheel for docx2txt: filename=docx2txt-0.8-cp36-none-any.whl size=3963 sha256=fb2ab430e9afc36167a71cd90749ecdcfa223ffa3b2af2eb8f62bb9e2e99e802\n",
            "  Stored in directory: /root/.cache/pip/wheels/b2/1f/26/a051209bbb77fc6bcfae2bb7e01fa0ff941b82292ab084d596\n",
            "  Building wheel for olefile (setup.py) ... \u001b[?25l\u001b[?25hdone\n",
            "  Created wheel for olefile: filename=olefile-0.46-py2.py3-none-any.whl size=35417 sha256=fa81047130e3641c6486a986a876545bf38da7f9cc8564ef668d797605e2a8ba\n",
            "  Stored in directory: /root/.cache/pip/wheels/4b/f4/11/bc4166107c27f07fd7bba707ffcb439619197638a1ac986df3\n",
            "Successfully built EbookLib python-pptx docx2txt olefile\n",
            "Installing collected packages: EbookLib, SpeechRecognition, xlrd, argcomplete, olefile, imapclient, extract-msg, pycryptodome, pdfminer.six, XlsxWriter, python-pptx, docx2txt, soupsieve, beautifulsoup4, textract\n",
            "  Found existing installation: xlrd 1.1.0\n",
            "    Uninstalling xlrd-1.1.0:\n",
            "      Successfully uninstalled xlrd-1.1.0\n",
            "  Found existing installation: beautifulsoup4 4.6.3\n",
            "    Uninstalling beautifulsoup4-4.6.3:\n",
            "      Successfully uninstalled beautifulsoup4-4.6.3\n",
            "Successfully installed EbookLib-0.17.1 SpeechRecognition-3.8.1 XlsxWriter-1.2.7 argcomplete-1.10.0 beautifulsoup4-4.8.0 docx2txt-0.8 extract-msg-0.23.1 imapclient-2.1.0 olefile-0.46 pdfminer.six-20181108 pycryptodome-3.9.6 python-pptx-0.6.18 soupsieve-1.9.5 textract-1.6.3 xlrd-1.2.0\n"
          ],
          "name": "stdout"
        }
      ]
    },
    {
      "cell_type": "code",
      "metadata": {
        "id": "A71biCXpX8s9",
        "colab_type": "code",
        "colab": {}
      },
      "source": [
        ""
      ],
      "execution_count": 0,
      "outputs": []
    },
    {
      "cell_type": "code",
      "metadata": {
        "id": "GSMkOQ09YWg2",
        "colab_type": "code",
        "colab": {}
      },
      "source": [
        "#Importing the necessary packages\n",
        "from google.colab import files\n",
        "import textract\n",
        "from pprint import pprint\n",
        "\n"
      ],
      "execution_count": 0,
      "outputs": []
    },
    {
      "cell_type": "code",
      "metadata": {
        "id": "HIYayJcDhRh2",
        "colab_type": "code",
        "outputId": "ffd6e032-4ed2-4f2e-b535-df313c7cf9fa",
        "colab": {
          "resources": {
            "http://localhost:8080/nbextensions/google.colab/files.js": {
              "data": "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",
              "ok": true,
              "headers": [
                [
                  "content-type",
                  "application/javascript"
                ]
              ],
              "status": 200,
              "status_text": ""
            }
          },
          "base_uri": "https://localhost:8080/",
          "height": 74
        }
      },
      "source": [
        "test_upload = files.upload()"
      ],
      "execution_count": 29,
      "outputs": [
        {
          "output_type": "display_data",
          "data": {
            "text/html": [
              "\n",
              "     <input type=\"file\" id=\"files-06564bac-3624-452a-b002-c54870e15c54\" name=\"files[]\" multiple disabled />\n",
              "     <output id=\"result-06564bac-3624-452a-b002-c54870e15c54\">\n",
              "      Upload widget is only available when the cell has been executed in the\n",
              "      current browser session. Please rerun this cell to enable.\n",
              "      </output>\n",
              "      <script src=\"/nbextensions/google.colab/files.js\"></script> "
            ],
            "text/plain": [
              "<IPython.core.display.HTML object>"
            ]
          },
          "metadata": {
            "tags": []
          }
        },
        {
          "output_type": "stream",
          "text": [
            "Saving test - Copy.docx to test - Copy.docx\n"
          ],
          "name": "stdout"
        }
      ]
    },
    {
      "cell_type": "code",
      "metadata": {
        "id": "sFYueiAXj14j",
        "colab_type": "code",
        "outputId": "3e48a23e-73a9-4c46-914f-81da69fd1b1b",
        "colab": {
          "base_uri": "https://localhost:8080/",
          "height": 33
        }
      },
      "source": [
        "text = textract.process('test - Copy.docx').decode('utf-8')\n",
        "type(text)"
      ],
      "execution_count": 30,
      "outputs": [
        {
          "output_type": "execute_result",
          "data": {
            "text/plain": [
              "str"
            ]
          },
          "metadata": {
            "tags": []
          },
          "execution_count": 30
        }
      ]
    },
    {
      "cell_type": "code",
      "metadata": {
        "id": "DyTN1nGqoRvK",
        "colab_type": "code",
        "outputId": "0d11034f-b3a3-41f4-d119-3cefd05639a4",
        "colab": {
          "base_uri": "https://localhost:8080/",
          "height": 87
        }
      },
      "source": [
        "import lexnlp.extract.en.acts\n",
        "print(\"List of acts in the document\")\n",
        "print(list(lexnlp.extract.en.acts.get_acts(text)))\n",
        "\n",
        "print(list(lexnlp.extract.en.acts.get_acts_annotations(text)))"
      ],
      "execution_count": 31,
      "outputs": [
        {
          "output_type": "stream",
          "text": [
            "List of acts in the document\n",
            "[{'location_start': 6233, 'location_end': 6264, 'act_name': 'Securities Exchange Act', 'section': '', 'year': '1934', 'ambiguous': False, 'value': 'Securities Exchange Act of 1934'}, {'location_start': 6346, 'location_end': 6377, 'act_name': 'Securities Exchange Act', 'section': '', 'year': '1934', 'ambiguous': False, 'value': 'Securities Exchange Act of 1934'}, {'location_start': 9158, 'location_end': 9176, 'act_name': 'Securities Act', 'section': '', 'year': '', 'ambiguous': False, 'value': 'Securities Act.\\n\\n“'}, {'location_start': 15403, 'location_end': 15419, 'act_name': 'Securities Act', 'section': '', 'year': '', 'ambiguous': False, 'value': 'Securities Act, '}, {'location_start': 15691, 'location_end': 15707, 'act_name': 'Securities Act', 'section': '', 'year': '', 'ambiguous': False, 'value': 'Securities Act, '}, {'location_start': 15806, 'location_end': 15821, 'act_name': 'Securities Act', 'section': '', 'year': '', 'ambiguous': False, 'value': 'Securities Act '}]\n",
            "[ [act] at (6233..6264), loc: en,  [act] at (6346..6377), loc: en,  [act] at (9158..9176), loc: en,  [act] at (15403..15419), loc: en,  [act] at (15691..15707), loc: en,  [act] at (15806..15821), loc: en]\n"
          ],
          "name": "stdout"
        }
      ]
    },
    {
      "cell_type": "code",
      "metadata": {
        "id": "SURtUb-KkF9c",
        "colab_type": "code",
        "outputId": "83c2a2a0-0ae9-434b-916d-db352c592cff",
        "colab": {
          "base_uri": "https://localhost:8080/",
          "height": 254
        }
      },
      "source": [
        "import nltk\n",
        "nltk.download('punkt')\n",
        "nltk.download('averaged_perceptron_tagger')\n",
        "nltk.download('wordnet')\n",
        "import lexnlp.extract.en.amounts\n",
        "print()\n",
        "print(\"Geting all the amounts present in the contract\")\n",
        "# print(dir(lexnlp.extract.en.amounts))\n",
        "# print()\n",
        "print(list(lexnlp.extract.en.amounts.get_amounts(text)))\n",
        "print()\n",
        "print(list(lexnlp.extract.en.amounts.get_amount_annotations(text)))"
      ],
      "execution_count": 32,
      "outputs": [
        {
          "output_type": "stream",
          "text": [
            "[nltk_data] Downloading package punkt to /root/nltk_data...\n",
            "[nltk_data]   Package punkt is already up-to-date!\n",
            "[nltk_data] Downloading package averaged_perceptron_tagger to\n",
            "[nltk_data]     /root/nltk_data...\n",
            "[nltk_data]   Package averaged_perceptron_tagger is already up-to-\n",
            "[nltk_data]       date!\n",
            "[nltk_data] Downloading package wordnet to /root/nltk_data...\n",
            "[nltk_data]   Package wordnet is already up-to-date!\n"
          ],
          "name": "stderr"
        },
        {
          "output_type": "stream",
          "text": [
            "\n",
            "Geting all the amounts present in the contract\n",
            "[1933.0, 1000000.0, 19.0, 2.0, 2022.0, 1, 1, 100000.0, 1.0, 1.0, 2.0, 1.0, 1.0, 1.0, 1.0, 2.0, 13.0, 14.0, 1934.0, 3.0, 1934.0, 50.0, 1, 3.0, 3.0, 1.0, 4.0, 501.0, 5.0, 1, 50.0, 48.0, 1.0, 1, 1, 1, 304.0, 305.0, 306.0, 354.0, 368.0, 1036.0, 1202.0, 1986.0]\n",
            "\n",
            "[ [amount] at (113..119), loc: en,  [amount] at (604..612), loc: en,  [amount] at (648..651), loc: en,  [amount] at (651..654), loc: en,  [amount] at (654..660), loc: en,  [amount] at (829..834), loc: en,  [amount] at (944..949), loc: en,  [amount] at (1054..1062), loc: en,  [amount] at (1114..1116), loc: en,  [amount] at (1322..1324), loc: en,  [amount] at (1478..1480), loc: en,  [amount] at (3855..3857), loc: en,  [amount] at (5791..5793), loc: en,  [amount] at (5896..5898), loc: en,  [amount] at (5912..5914), loc: en,  [amount] at (5919..5921), loc: en,  [amount] at (6210..6213), loc: en,  [amount] at (6220..6223), loc: en,  [amount] at (6260..6266), loc: en,  [amount] at (6334..6336), loc: en,  [amount] at (6373..6379), loc: en,  [amount] at (6429..6432), loc: en,  [amount] at (9029..9036), loc: en,  [amount] at (12222..12224), loc: en,  [amount] at (12706..12708), loc: en,  [amount] at (14397..14400), loc: en,  [amount] at (14837..14839), loc: en,  [amount] at (15373..15377), loc: en,  [amount] at (16658..16660), loc: en,  [amount] at (16957..16962), loc: en,  [amount] at (17497..17500), loc: en,  [amount] at (17772..17775), loc: en,  [amount] at (18527..18529), loc: en,  [amount] at (19358..19363), loc: en,  [amount] at (19668..19673), loc: en,  [amount] at (19839..19844), loc: en,  [amount] at (20663..20668), loc: en,  [amount] at (20668..20673), loc: en,  [amount] at (20673..20678), loc: en,  [amount] at (20678..20683), loc: en,  [amount] at (20683..20688), loc: en,  [amount] at (20688..20697), loc: en,  [amount] at (20697..20702), loc: en,  [amount] at (20734..20740), loc: en]\n"
          ],
          "name": "stdout"
        }
      ]
    },
    {
      "cell_type": "code",
      "metadata": {
        "id": "dy4ccNMvf78x",
        "colab_type": "code",
        "outputId": "d1cf35a3-acb5-440c-f60f-479950f47a59",
        "colab": {
          "base_uri": "https://localhost:8080/",
          "height": 50
        }
      },
      "source": [
        "import lexnlp.extract.en.dates\n",
        "print(\"Dates in the Contract\")\n",
        "print(list(lexnlp.extract.en.dates.get_dates(text)))"
      ],
      "execution_count": 33,
      "outputs": [
        {
          "output_type": "stream",
          "text": [
            "Dates in the Contract\n",
            "[datetime.date(2022, 2, 19)]\n"
          ],
          "name": "stdout"
        }
      ]
    },
    {
      "cell_type": "code",
      "metadata": {
        "id": "-KUFIOh_hs0S",
        "colab_type": "code",
        "outputId": "4db4a150-9d06-48d0-c4fb-e9245d7bb396",
        "colab": {
          "base_uri": "https://localhost:8080/",
          "height": 50
        }
      },
      "source": [
        "import lexnlp.extract.en.money\n",
        "print(\"Money References in the contract\")\n",
        "pprint(list(lexnlp.extract.en.money.get_money(text)))\n"
      ],
      "execution_count": 34,
      "outputs": [
        {
          "output_type": "stream",
          "text": [
            "Money References in the contract\n",
            "[(1000000.0, 'USD'), (100000.0, 'USD'), (2.0, 'USD')]\n"
          ],
          "name": "stdout"
        }
      ]
    },
    {
      "cell_type": "code",
      "metadata": {
        "id": "c9PyhPTFjDtn",
        "colab_type": "code",
        "outputId": "667e0bdb-bfc8-4a93-f51f-c6733ba6b3b1",
        "colab": {
          "base_uri": "https://localhost:8080/",
          "height": 50
        }
      },
      "source": [
        "import lexnlp.extract.en.ratios\n",
        "print(\"Ratios in the Contract\")\n",
        "pprint(list(lexnlp.extract.en.ratios.get_ratios(text)))\n"
      ],
      "execution_count": 35,
      "outputs": [
        {
          "output_type": "stream",
          "text": [
            "Ratios in the Contract\n",
            "[]\n"
          ],
          "name": "stdout"
        }
      ]
    },
    {
      "cell_type": "code",
      "metadata": {
        "id": "ZiJxKyCejmS9",
        "colab_type": "code",
        "outputId": "8a119f6d-f986-4363-a57f-a5cdcfaa60a5",
        "colab": {
          "base_uri": "https://localhost:8080/",
          "height": 418
        }
      },
      "source": [
        "import lexnlp.extract.en.definitions\n",
        "print(\"Differnt ACT definitions in the contract\")\n",
        "pprint(list(lexnlp.extract.en.definitions.get_definitions(text)))\n"
      ],
      "execution_count": 36,
      "outputs": [
        {
          "output_type": "stream",
          "text": [
            "Differnt ACT definitions in the contract\n",
            "['SECURITIES ACT',\n",
            " 'Purchase Amount',\n",
            " 'Investor',\n",
            " 'Cash-Out Amount',\n",
            " 'Conversion Amount',\n",
            " 'Capital Stock',\n",
            " 'Change of Control',\n",
            " 'Converting Securities',\n",
            " 'Dissolution Event',\n",
            " 'Dividend Amount',\n",
            " 'Equity Financing',\n",
            " 'Initial Public Offering',\n",
            " 'Liquidity Event',\n",
            " 'Liquidity Price',\n",
            " 'Options',\n",
            " 'Proceeds',\n",
            " 'Promised Options',\n",
            " 'Safe',\n",
            " 'SafePreferred Stock',\n",
            " 'Safe Price',\n",
            " 'Standard Preferred Stock',\n",
            " 'Unissued Option Pool',\n",
            " 'Majority-in-interest']\n"
          ],
          "name": "stdout"
        }
      ]
    },
    {
      "cell_type": "code",
      "metadata": {
        "id": "8XEvxxjZjvbx",
        "colab_type": "code",
        "outputId": "ba39a4d6-b3ef-4aa0-8244-3d6b1b94ce62",
        "colab": {
          "base_uri": "https://localhost:8080/",
          "height": 84
        }
      },
      "source": [
        "import lexnlp.extract.en.copyright\n",
        "print(\"References to CopyRights\")\n",
        "pprint(list(lexnlp.extract.en.copyright.get_copyright_annotations(text)))\n",
        "print()\n",
        "pprint(list(lexnlp.extract.en.copyright.get_copyright(text)))"
      ],
      "execution_count": 37,
      "outputs": [
        {
          "output_type": "stream",
          "text": [
            "References to CopyRights\n",
            "[Dissolution Event, (3862, 3883)]\n",
            "\n",
            "[('(c)', None, 'Dissolution Event')]\n"
          ],
          "name": "stdout"
        }
      ]
    },
    {
      "cell_type": "code",
      "metadata": {
        "id": "B0aIg10yj-TT",
        "colab_type": "code",
        "outputId": "acd3b5ab-7eba-4de1-ff45-efc3bc773e04",
        "colab": {
          "base_uri": "https://localhost:8080/",
          "height": 137
        }
      },
      "source": [
        "import lexnlp.extract.en.durations\n",
        "# print(dir(lexnlp.extract.en.durations))\n",
        "print(\"Durations in the Contract\")\n",
        "pprint(list(lexnlp.extract.en.durations.get_durations(text)))\n",
        "print()\n",
        "print(list(lexnlp.extract.en.durations.get_amounts(text)))\n",
        "print()\n",
        "pprint(list(lexnlp.extract.en.durations.get_duration_annotations_list(text)))"
      ],
      "execution_count": 38,
      "outputs": [
        {
          "output_type": "stream",
          "text": [
            "Durations in the Contract\n",
            "[('hour', 48.0, 2.0)]\n",
            "\n",
            "[1933.0, 1000000.0, 19.0, 2.0, 2022.0, 1, 1, 100000.0, 1.0, 1.0, 2.0, 1.0, 1.0, 1.0, 1.0, 2.0, 13.0, 14.0, 1934.0, 3.0, 1934.0, 50.0, 1, 3.0, 3.0, 1.0, 4.0, 501.0, 5.0, 1, 50.0, 48.0, 1.0, 1, 1, 1, 304.0, 305.0, 306.0, 354.0, 368.0, 1036.0, 1202.0, 1986.0]\n",
            "\n",
            "[ [duration] at (17772..17781), loc: en]\n"
          ],
          "name": "stdout"
        }
      ]
    },
    {
      "cell_type": "code",
      "metadata": {
        "id": "l-pJow2lko23",
        "colab_type": "code",
        "colab": {
          "base_uri": "https://localhost:8080/",
          "height": 170
        },
        "outputId": "f9912af2-fcfe-4010-c164-53d331339760"
      },
      "source": [
        "import lexnlp.nlp.en.tokens\n",
        "import nltk\n",
        "print(\"Identifying Nouns,Performing Stemming,lemitization,etc\")\n",
        "print(\"Noun\")\n",
        "print(list(lexnlp.nlp.en.tokens.get_nouns(text)))\n",
        "print(\"Stemming\")\n",
        "print(lexnlp.nlp.en.tokens.get_stem_list(text, stemmer=nltk.stem.lancaster.LancasterStemmer()))\n",
        "print(\"\")\n",
        "# print(l/]ist(lexnlp.nlp.en.tokens.get_nouns(text)))\n",
        "print(\"Lematization\")\n",
        "print(list(lexnlp.nlp.en.tokens.get_verbs(text, lemmatize=True)))\n"
      ],
      "execution_count": 39,
      "outputs": [
        {
          "output_type": "stream",
          "text": [
            "Identifying Nouns,Performing Stemming,lemitization,etc\n",
            "Noun\n",
            "['THIS', 'INSTRUMENT', 'AND', 'ANY', 'SECURITIES', 'ISSUABLE', 'PURSUANT', 'HERETO', 'HAVE', 'NOT', 'BEEN', 'REGISTERED', 'UNDER', 'THE', 'SECURITIES', 'ACT', 'AS', 'AMENDED', 'THE', '“', 'SECURITIES', 'ACT', '”', 'OR', 'UNDER', 'THE', 'SECURITIES', 'LAWS', 'OF', 'CERTAIN', 'STATES.THESE', 'SECURITIES', 'MAY', 'NOT', 'BE', 'OFFERED', 'SOLD', 'OR', 'OTHERWISE', 'TRANSFERRED', 'PLEDGED', 'OR', 'HYPOTHECATED', 'EXCEPT', 'AS', 'PERMITTED', 'IN', 'THIS', 'SAFE', 'AND', 'UNDER', 'THE', 'ACT', 'AND', 'APPLICABLE', 'STATE', 'SECURITIES', 'LAWS', 'PURSUANT', 'TO', 'AN', 'EFFECTIVE', 'REGISTRATION', 'STATEMENT', 'OR', 'AN', 'EXEMPTION', 'THEREFROM.', '[', 'Company', 'Name', ']', 'SAFE', 'Simple', 'Agreement', 'Future', 'Equity', 'THIS', 'CERTIFIES', 'THAT', 'exchange', 'payment', 'Bob', 'Marley', '“', 'Investor', '”', '“', 'Purchase', 'Amount', '”', 'Anaxia', 'space', 'corporation', 'tesla', 'issues', 'Investor', 'right', 'shares', 'Company', '’', 'Capital', 'Stock', 'terms', 'Safe', 'forms', 'http', '//ycombinator.com/documents', 'Company', 'Investor', 'one', 'form', 'blanks', 'Post-Money', 'Valuation', 'Cap', '”', 'See', 'Section', 'terms.', '1.Events', 'Equity', 'Financing.', 'Equity', 'Financing', 'termination', 'Safe', 'closing', 'Equity', 'Financing', 'Safe', 'number', 'shares', 'Standard', 'Preferred', 'Stock', 'Purchase', 'Amount', 'price', 'share', 'Standard', 'Preferred', 'Stock', 'number', 'shares', 'Safe', 'Preferred', 'Stock', 'Purchase', 'Amount', 'Safe', 'Price.', 'connection', 'conversion', 'Safe', 'shares', 'Standard', 'Preferred', 'Stock', 'Safe', 'Preferred', 'Stock', 'Investor', 'Company', 'transaction', 'documents', 'Equity', 'Financing', 'documents', 'documents', 'purchasers', 'Standard', 'Preferred', 'Stock', 'variations', 'Safe', 'Preferred', 'Stock', 'documents', 'exceptions', 'Investor', 'limitation', 'representations', 'warranties', 'liability', 'indemnification', 'obligations', 'part', 'Investor.', 'b', 'Liquidity', 'Event.', 'Liquidity', 'Event', 'termination', 'Safe', 'Safe', 'portion', 'Proceeds', 'Investor', 'concurrent', 'consummation', 'Liquidity', 'Event', 'i', 'Purchase', 'Amount', '“', 'Cash-Out', 'Amount', '”', 'ii', 'amount', 'number', 'shares', 'Common', 'Stock', 'Purchase', 'Amount', 'Liquidity', 'Price', '“', 'Conversion', 'Amount', '”', 'Company', '’', 's', 'securityholders', 'choice', 'form', 'amount', 'Proceeds', 'Liquidity', 'Event', 'Investor', 'choice', 'Investor', 'form', 'consideration', 'Investor', 'result', 'Investor', '’', 'failure', 'requirement', 'limitation', 'Company', '’', 's', 'securityholders', 'laws.', 'foregoing', 'connection', 'Change', 'Control', 'reorganization', 'Company', 'cash', 'portion', 'Proceeds', 'Investor', 'amount', 'board', 'directors', 'faith', 'Change', 'Control', 'reorganization', 'U.S.', 'income', 'tax', 'purposes', 'reduction', 'Proceeds', 'Investor', 'B', 'manner', 'basis', 'securityholders', 'priority', 'Investor', 'Section', 'd', 'c', 'Dissolution', 'Event.', 'Dissolution', 'Event', 'termination', 'Safe', 'Investor', 'portion', 'Proceeds', 'Cash-Out', 'Amount', 'Investor', 'consummation', 'Dissolution', 'Event.', 'd', 'Liquidation', 'Priority.', 'Liquidity', 'Event', 'Dissolution', 'Event', 'Safe', 'Preferred', 'Stock.', 'Investor', '’', 'Cash-Out', 'Amount', 'i', 'Junior', 'payment', 'indebtedness', 'creditor', 'claims', 'claims', 'payment', 'promissory', 'notes', 'extent', 'promissory', 'notes', 'Capital', 'Stock', 'ii', 'par', 'payments', 'Safes', 'and/or', 'Preferred', 'Stock', 'Proceeds', 'payments', 'Investor', 'Safes', 'and/or', 'Preferred', 'Stock', 'Proceeds', 'rata', 'Investor', 'Safes', 'and/or', 'Preferred', 'Stock', 'proportion', 'payments', 'iii', 'Senior', 'payments', 'Common', 'Stock.', 'Investor', '’', 'Conversion', 'Amount', 'A', 'par', 'payments', 'Common', 'Stock', 'Safes', 'and/or', 'Preferred', 'Stock', 'Conversion', 'Amounts', 'Proceeds', 'Common', 'Stock', 'basis', 'B', 'junior', 'payments', 'clauses', 'i', 'ii', 'case', 'extent', 'payments', 'Amounts', 'liquidation', 'preferences', 'e', 'Termination.', 'Safe', 'Company', 'obligations', 'breach', 'non-compliance', 'Safe', 'i', 'issuance', 'Capital', 'Stock', 'Investor', 'pursuant', 'conversion', 'Safe', 'Section', 'ii', 'payment', 'payment', 'amounts', 'Investor', 'pursuant', 'Section', 'b', 'Section', 'c', 'Capital', 'Stock', '”', 'capital', 'stock', 'Company', 'limitation', 'Common', 'Stock', '”', '“', 'Preferred', 'Stock.', '”', '“', 'Change', 'Control', '”', 'i', 'transaction', 'series', 'transactions', '“', 'person', '”', '“', 'group', '”', 'meaning', 'Section', 'd', 'd', 'Securities', 'Exchange', 'Act', '“', 'owner', '”', 'Rule', 'Securities', 'Exchange', 'Act', '%', 'voting', 'securities', 'Company', 'right', 'election', 'members', 'Company', '’', 's', 'board', 'directors', 'ii', 'reorganization', 'merger', 'consolidation', 'Company', 'transaction', 'series', 'transactions', 'holders', 'securities', 'Company', 'transaction', 'series', 'transactions', 'transaction', 'series', 'transactions', 'majority', 'voting', 'power', 'voting', 'securities', 'Company', 'entity', 'iii', 'sale', 'lease', 'disposition', 'assets', 'Company.', '“', 'Company', 'Capitalization', '”', 'Equity', 'Financing', 'double-counting', 'shares', 'Capital', 'Stock', 'Converting', 'Securities', 'i', 'Options', 'ii', 'Options', 'Unissued', 'Option', 'Pool', 'Excludes', 'foregoing', 'increases', 'Unissued', 'Option', 'Pool', 'extent', 'Options', 'Unissued', 'Option', 'Pool', 'connection', 'Equity', 'Financing.', '“', 'Converting', 'Securities', '”', 'Safe', 'securities', 'Company', 'i', 'Safes', 'ii', 'notes', 'debt', 'instruments', 'iii', 'securities', 'right', 'shares', 'Capital', 'Stock.', '“', 'Dissolution', 'Event', '”', 'i', 'termination', 'operations', 'ii', 'assignment', 'benefit', 'Company', '’', 'creditors', 'liquidation', 'dissolution', 'Company', 'Liquidity', 'Event', 'Dividend', 'Amount', '”', 'respect', 'date', 'Company', 'dividend', 'Common', 'Stock', 'amount', 'dividend', 'share', 'Common', 'Stock', 'x', 'Purchase', 'Amount', 'y', 'Liquidity', 'Price', 'dividend', 'date', 'Liquidity', 'Event', 'purposes', 'Liquidity', 'Price', 'Equity', 'Financing', '”', 'transaction', 'series', 'transactions', 'purpose', 'capital', 'pursuant', 'Company', 'issues', 'Preferred', 'Stock', 'valuation', 'pre-money', 'post-money', 'valuation.', '“', 'Initial', 'Public', 'Offering', '”', 'closing', 'Company', '’', 'firm', 'commitment', 'offering', 'Common', 'Stock', 'pursuant', 'registration', 'statement', 'Securities', 'Act.', '“', 'Liquidity', 'Capitalization', '”', 'Liquidity', 'Event', 'double-', 'counting', 'shares', 'Capital', 'Stock', 'i', 'Options', 'ii', 'extent', 'Proceeds', 'Options', 'Includes', 'Converting', 'Securities', 'Safes', 'securities', 'limitation', 'shares', 'Preferred', 'Stock', 'holders', 'securities', 'Amounts', 'liquidation', 'preference', 'payments', 'lieu', 'Conversion', 'Amounts', '”', 'payments', 'Unissued', 'Option', 'Pool.', '“', 'Liquidity', 'Event', '”', 'Change', 'Control', 'Public', 'Offering.', '“', 'Liquidity', 'Price', '”', 'price', 'share', 'Post-Money', 'Valuation', 'Cap', 'Liquidity', 'Capitalization.', '“', 'Options', '”', 'options', 'stock', 'awards', 'purchases', 'RSUs', 'SARs', 'warrants', 'securities', 'Proceeds', '”', 'cash', 'assets', 'limitation', 'stock', 'consideration', 'proceeds', 'Liquidity', 'Event', 'Dissolution', 'Event', 'distribution.', '“', 'Options', '”', 'Options', 'pursuant', 'agreements', 'understandings', 'execution', 'connection', 'term', 'sheet', 'Equity', 'Financing', 'closing', 'Equity', 'Financing', 'term', 'sheet', 'ii', 'Options', 'calculation', 'Standard', 'Preferred', 'Stock', '’', 'price', 'share.', '“', 'Safe', '”', 'instrument', 'future', 'right', 'shares', 'Capital', 'Stock', 'form', 'content', 'instrument', 'investors', 'purpose', 'Company', '’', 's', 'business', 'operations.', 'References', 'Safe', '”', 'mean', 'instrument.', '“', 'SafePreferred', 'Stock', '”', 'shares', 'series', 'Preferred', 'Stock', 'Investor', 'Equity', 'Financing', 'rights', 'privileges', 'preferences', 'restrictions', 'shares', 'Standard', 'Preferred', 'Stock', 'respect', 'i', 'per', 'share', 'liquidation', 'preference', 'conversion', 'price', 'purposes', 'anti-dilution', 'protection', 'Safe', 'Price', 'ii', 'basis', 'dividend', 'rights', 'Safe', 'Price.', '“', 'Safe', 'Price', '”', 'price', 'share', 'Post-Money', 'Valuation', 'Cap', 'Company', 'Capitalization.', '“', 'Standard', 'Preferred', 'Stock', '”', 'shares', 'series', 'Preferred', 'Stock', 'investors', 'money', 'Company', 'connection', 'closing', 'Equity', 'Financing.', '“', 'Unissued', 'Option', 'Pool', '”', 'shares', 'Capital', 'Stock', 'grant', 'Options', 'Options', 'case', 'Liquidity', 'Event', 'extent', 'Proceeds', 'Options', 'equity', 'incentive', 'Company', 'plan.', 'Representations', 'Company', 'corporation', 'standing', 'laws', 'state', 'incorporation', 'power', 'authority', 'lease', 'properties', 'business', 'b', 'execution', 'delivery', 'performance', 'Company', 'Safe', 'power', 'Company', 'actions', 'part', 'Company', 'section', 'd', 'obligation', 'Company', 'Company', 'accordance', 'terms', 'bankruptcy', 'insolvency', 'laws', 'application', 'enforcement', 'creditors', '’', 'rights', 'principles', 'equity.', 'knowledge', 'Company', 'violation', 'i', 'certificate', 'incorporation', 'bylaws', 'ii', 'statute', 'rule', 'regulation', 'Company', 'debt', 'contract', 'Company', 'party', 'case', 'violation', 'default', 'violations', 'defaults', 'effect', 'Company.', 'c', 'performance', 'consummation', 'transactions', 'Safe', 'i', 'judgment', 'statute', 'rule', 'regulation', 'Company', 'ii', 'result', 'acceleration', 'debt', 'contract', 'Company', 'party', 'iii', 'result', 'creation', 'imposition', 'lien', 'property', 'asset', 'revenue', 'Company', 'suspension', 'forfeiture', 'nonrenewal', 'permit', 'license', 'authorization', 'Company', 'business', 'operations.', 'd', 'consents', 'approvals', 'connection', 'performance', 'Safe', 'i', 'Company', '’', 'approvals', 'ii', 'qualifications', 'filings', 'securities', 'laws', 'iii', 'approvals', 'authorization', 'Capital', 'Stock', 'pursuant', 'Section', 'e', 'knowledge', 'Company', 'possesses', 'terms', 'rights', 'patents', 'trademarks', 'service', 'marks', 'trade', 'names', 'copyrights', 'trade', 'secrets', 'licenses', 'information', 'processes', 'property', 'rights', 'business', 'conflict', 'infringement', 'rights', 'Representations', 'Investor', 'capacity', 'power', 'authority', 'Safe', 'obligations', 'Safe', 'obligation', 'Investor', 'accordance', 'terms', 'bankruptcy', 'insolvency', 'laws', 'application', 'enforcement', 'creditors', '’', 'rights', 'principles', 'equity.', 'b', 'Investor', 'investor', 'term', 'Rule', 'Regulation', 'D', 'Securities', 'Act', 'acknowledges', 'investor', 'time', 'Equity', 'Financing', 'Company', 'Safe', 'Purchase', 'Amount.', 'Investor', 'Safe', 'securities', 'Securities', 'Act', 'state', 'securities', 'laws', 'Securities', 'Act', 'state', 'securities', 'laws', 'exemption', 'registration', 'requirements', 'Investor', 'Safe', 'securities', 'Investor', 'hereunder', 'account', 'investment', 'nominee', 'agent', 'view', 'resale', 'connection', 'distribution', 'thereof', 'Investor', 'intention', 'selling', 'participation', 'same.', 'Investor', 'knowledge', 'experience', 'business', 'matters', 'Investor', 'merits', 'risks', 'investment', 'loss', 'investment', 'Investor', '’', 'condition', 'risk', 'investment', 'period', 'provision', 'Safe', 'consent', 'Company', 'i', 'Investor', 'ii', 'Safes', '“', 'Post-Money', 'Valuation', 'Cap', '”', '“', 'Discount', 'Rate', '”', 'Safe', 'Safes', 'terms', 'respect', 'term', 'respect', 'ii', 'Purchase', 'Amount', 'manner', 'B', 'consent', 'Investor', 'holder', 'Safes', 'C', 'amendment', 'waiver', 'modification', 'treats', 'holders', 'manner.', 'Majority-in-interest', '”', 'refers', 'holders', 'group', 'Safes', 'Safes', 'Purchase', 'Amount', '%', 'Purchase', 'Amount', 'group', 'Safes.', 'b', 'Any', 'notice', 'Safe', 'courier', 'email', 'address', 'signature', 'page', 'hours', 'U.S.', 'mail', 'mail', 'postage', 'prepaid', 'party', 'party', '’', 's', 'address', 'signature', 'page', 'notice.', 'c', 'Investor', 'holder', 'Safe', 'holder', 'Capital', 'Stock', 'purpose', 'tax', 'purposes', 'anything', 'Investor', 'rights', 'Company', 'stockholder', 'rights', 'election', 'directors', 'matter', 'Company', 'stockholders', 'consent', 'action', 'notice', 'meetings', 'shares', 'terms', 'Section', 'Company', 'dividend', 'shares', 'Common', 'Stock', 'shares', 'Common', 'Stock', 'Safe', 'Company', 'Dividend', 'Amount', 'Investor', 'time.', 'd', 'rights', 'Safe', 'operation', 'law', 'party', 'consent', 'Safe', 'rights', 'Company', '’', 'consent', 'Investor', 'entity', 'controls', 'control', 'Investor', 'limitation', 'partner', 'member', 'officer', 'director', 'Investor', 'venture', 'capital', 'fund', 'hereafter', 'partners', 'members', 'shares', 'management', 'company', 'Investor', 'Company', 'Safe', 'consent', 'Investor', 'connection', 'reincorporation', 'Company', '’', 's', 'domicile.', 'e', 'event', 'provisions', 'Safe', 'reason', 'part', 'respect', 'event', 'provisions', 'operate', 'Safe', 'event', 'provision', 's', 'provision', 'Safe', 'provisions', 'Safe', 'force', 'effect', 'thereby.', 'f', 'rights', 'obligations', 'laws', 'State', '[', 'Governing', 'Law', 'Jurisdiction', ']', 'regard', 'conflicts', 'law', 'provisions', 'jurisdiction.', 'g', 'parties', 'United', 'States', 'state', 'income', 'tax', 'purposes', 'Safe', 'times', 'stock', 'stock', 'purposes', 'Sections', 'Internal', 'Revenue', 'Code', 'parties', 'consistent', 'intent', 'United', 'States', 'state', 'income', 'tax', 'purposes', 'limitation', 'tax', 'returns', 'statements', 'page', 'IN', 'WITNESS', 'WHEREOF', 'Safe', 'Anaxia', 'Psiayn', 'CEO', 'Anaxia', 'Address', 'reddit', 'Email', 'reddit', '@', 'reddif.com', 'INVESTOR', 'vegito', 'Name', 'Bob', 'Marley', 'Title', 'Star', 'Platinum', 'Address', 'Old', 'Minasoda', 'town', 'Email', 'dio', '@', 'xyz.com']\n",
            "Stemming\n",
            "['thi', 'instru', 'and', 'any', 'sec', 'issu', 'pursu', 'hereto', 'hav', 'not', 'been', 'reg', 'und', 'the', 'sec', 'act', 'of', '1933', ',', 'as', 'amend', '(', 'the', '“', 'sec', 'act', '”', ')', ',', 'or', 'und', 'the', 'sec', 'law', 'of', 'certain', 'states.these', 'sec', 'may', 'not', 'be', 'off', ',', 'sold', 'or', 'otherw', 'transfer', ',', 'pledg', 'or', 'hypothec', 'exceiv', 'as', 'permit', 'in', 'thi', 'saf', 'and', 'und', 'the', 'act', 'and', 'appl', 'stat', 'sec', 'law', 'pursu', 'to', 'an', 'effect', 'reg', 'stat', 'or', 'an', 'exempt', 'therefrom.', '[', 'company', 'nam', ']', 'saf', '(', 'simpl', 'agr', 'for', 'fut', 'equ', ')', 'thi', 'cert', 'that', 'in', 'exchang', 'for', 'the', 'pay', 'by', 'bob', 'marley', '(', 'the', '“', 'invest', '”', ')', 'of', '$', '1000000', '(', 'the', '“', 'purchas', 'amount', '”', ')', 'on', 'or', 'about', '19-02-2022', ',', 'anax', ',', 'a', 'spac', 'corp', 'tesl', ',', 'issu', 'to', 'the', 'invest', 'the', 'right', 'to', 'certain', 'shar', 'of', 'the', 'company', '’', 's', 'capit', 'stock', ',', 'subject', 'to', 'the', 'term', 'describ', 'below.', 'thi', 'saf', 'is', 'on', 'of', 'the', 'form', 'avail', 'at', 'http', ':', '//ycombinator.com/documents', 'and', 'the', 'company', 'and', 'the', 'invest', 'agr', 'that', 'neith', 'on', 'has', 'mod', 'the', 'form', ',', 'exceiv', 'to', 'fil', 'in', 'blank', 'and', 'bracket', 'terms.', 'the', '“', 'post-money', 'valu', 'cap', '”', 'is', '$', '100000.', 'see', 'sect', '2for', 'certain', 'addit', 'defin', 'terms.', '1.events', '(', 'a', ')', 'equ', 'financing.', 'if', 'ther', 'is', 'an', 'equ', 'fin', 'bef', 'the', 'termin', 'of', 'thi', 'saf', ',', 'on', 'the', 'init', 'clos', 'of', 'such', 'equ', 'fin', ',', 'thi', 'saf', 'wil', 'autom', 'convert', 'into', 'the', 'gre', 'of', ':', '(', '1', ')', 'the', 'numb', 'of', 'shar', 'of', 'standard', 'prefer', 'stock', 'eq', 'to', 'the', 'purchas', 'amount', 'divid', 'by', 'the', 'lowest', 'pric', 'per', 'shar', 'of', 'the', 'standard', 'prefer', 'stock', ';', 'or', '(', '2', ')', 'the', 'numb', 'of', 'shar', 'of', 'saf', 'prefer', 'stock', 'eq', 'to', 'the', 'purchas', 'amount', 'divid', 'by', 'the', 'saf', 'price.', 'in', 'connect', 'with', 'the', 'autom', 'convert', 'of', 'thi', 'saf', 'into', 'shar', 'of', 'standard', 'prefer', 'stock', 'or', 'saf', 'prefer', 'stock', ',', 'the', 'invest', 'wil', 'execut', 'and', 'del', 'to', 'the', 'company', 'al', 'of', 'the', 'transact', 'docu', 'rel', 'to', 'the', 'equ', 'fin', ';', 'provid', ',', 'that', 'such', 'docu', 'ar', 'the', 'sam', 'docu', 'to', 'be', 'ent', 'into', 'with', 'the', 'purchas', 'of', 'standard', 'prefer', 'stock', ',', 'with', 'appropry', 'vary', 'for', 'the', 'saf', 'prefer', 'stock', 'if', 'appl', ',', 'and', 'provid', 'furth', ',', 'that', 'such', 'docu', 'hav', 'custom', 'exceiv', 'to', 'any', 'drag-along', 'appl', 'to', 'the', 'invest', ',', 'includ', ',', 'without', 'limit', ',', 'limit', 'repres', 'and', 'warranty', 'and', 'limit', 'liabl', 'and', 'indemn', 'oblig', 'on', 'the', 'part', 'of', 'the', 'investor.', '(', 'b', ')', 'liquid', 'event.', 'if', 'ther', 'is', 'a', 'liquid', 'ev', 'bef', 'the', 'termin', 'of', 'thi', 'saf', ',', 'thi', 'saf', 'wil', 'autom', 'be', 'entitl', 'to', 'receiv', 'a', 'port', 'of', 'process', ',', 'due', 'and', 'pay', 'to', 'the', 'invest', 'immedy', 'pri', 'to', ',', 'or', 'concur', 'with', ',', 'the', 'consum', 'of', 'such', 'liquid', 'ev', ',', 'eq', 'to', 'the', 'gre', 'of', '(', 'i', ')', 'the', 'purchas', 'amount', '(', 'the', '“', 'cash-out', 'amount', '”', ')', 'or', '(', 'ii', ')', 'the', 'amount', 'pay', 'on', 'the', 'numb', 'of', 'shar', 'of', 'common', 'stock', 'eq', 'to', 'the', 'purchas', 'amount', 'divid', 'by', 'the', 'liquid', 'pric', '(', 'the', '“', 'convert', 'amount', '”', ')', '.if', 'any', 'of', 'the', 'company', '’', 's', 'securityhold', 'ar', 'giv', 'a', 'cho', 'as', 'to', 'the', 'form', 'and', 'amount', 'of', 'process', 'to', 'be', 'receiv', 'in', 'a', 'liquid', 'ev', ',', 'the', 'invest', 'wil', 'be', 'giv', 'the', 'sam', 'cho', ',', 'provid', 'that', 'the', 'invest', 'may', 'not', 'choos', 'to', 'receiv', 'a', 'form', 'of', 'consid', 'that', 'the', 'invest', 'would', 'be', 'inelig', 'to', 'receiv', 'as', 'a', 'result', 'of', 'the', 'invest', '’', 's', 'fail', 'to', 'satisfy', 'any', 'requir', 'or', 'limit', 'gen', 'appl', 'to', 'the', 'company', '’', 's', 'securityhold', ',', 'or', 'und', 'any', 'appl', 'laws.', 'notwithstand', 'the', 'forego', ',', 'in', 'connect', 'with', 'a', 'chang', 'of', 'control', 'intend', 'to', 'qual', 'as', 'a', 'tax-free', 'reorg', ',', 'the', 'company', 'may', 'reduc', 'the', 'cash', 'port', 'of', 'process', 'pay', 'to', 'the', 'invest', 'by', 'the', 'amount', 'determin', 'by', 'it', 'board', 'of', 'direct', 'in', 'good', 'fai', 'for', 'such', 'chang', 'of', 'control', 'to', 'qual', 'as', 'a', 'tax-free', 'reorg', 'for', 'u.s.', 'fed', 'incom', 'tax', 'purpos', ',', 'provid', 'that', 'such', 'reduc', '(', 'a', ')', 'doe', 'not', 'reduc', 'the', 'tot', 'process', 'pay', 'to', 'such', 'invest', 'and', '(', 'b', ')', 'is', 'apply', 'in', 'the', 'sam', 'man', 'and', 'on', 'a', 'pro', 'rat', 'bas', 'to', 'al', 'securityhold', 'who', 'hav', 'eq', 'pri', 'to', 'the', 'invest', 'und', 'sect', '1', '(', 'd', ')', '.', '(', 'c', ')', 'dissolv', 'event.', 'if', 'ther', 'is', 'a', 'dissolv', 'ev', 'bef', 'the', 'termin', 'of', 'thi', 'saf', ',', 'the', 'invest', 'wil', 'autom', 'be', 'entitl', 'to', 'receiv', 'a', 'port', 'of', 'process', 'eq', 'to', 'the', 'cash-out', 'amount', ',', 'due', 'and', 'pay', 'to', 'the', 'invest', 'immedy', 'pri', 'to', 'the', 'consum', 'of', 'the', 'dissolv', 'event.', '(', 'd', ')', 'liquid', 'priority.', 'in', 'a', 'liquid', 'ev', 'or', 'dissolv', 'ev', ',', 'thi', 'saf', 'is', 'intend', 'to', 'op', 'lik', 'standard', 'non-participating', 'prefer', 'stock.', 'the', 'invest', '’', 's', 'right', 'to', 'receiv', 'it', 'cash-out', 'amount', 'is', ':', '(', 'i', ')', 'juny', 'to', 'pay', 'of', 'outstand', 'indebt', 'and', 'credit', 'claim', ',', 'includ', 'contract', 'claim', 'for', 'pay', 'and', 'convert', 'promiss', 'not', '(', 'to', 'the', 'ext', 'such', 'convert', 'promiss', 'not', 'ar', 'not', 'act', 'or', 'not', 'convert', 'into', 'capit', 'stock', ')', ';', '(', 'ii', ')', 'on', 'par', 'with', 'pay', 'for', 'oth', 'saf', 'and/or', 'prefer', 'stock', ',', 'and', 'if', 'the', 'appl', 'process', 'ar', 'insufficy', 'to', 'permit', 'ful', 'pay', 'to', 'the', 'invest', 'and', 'such', 'oth', 'saf', 'and/or', 'prefer', 'stock', ',', 'the', 'appl', 'process', 'wil', 'be', 'distribut', 'pro', 'rat', 'to', 'the', 'invest', 'and', 'such', 'oth', 'saf', 'and/or', 'prefer', 'stock', 'in', 'proport', 'to', 'the', 'ful', 'pay', 'that', 'would', 'otherw', 'be', 'due', ';', 'and', '(', 'ii', ')', 'seny', 'to', 'pay', 'for', 'common', 'stock.', 'the', 'invest', '’', 's', 'right', 'to', 'receiv', 'it', 'convert', 'amount', 'is', '(', 'a', ')', 'on', 'par', 'with', 'pay', 'for', 'common', 'stock', 'and', 'oth', 'saf', 'and/or', 'prefer', 'stock', 'who', 'ar', 'also', 'receiv', 'convert', 'amount', 'or', 'process', 'on', 'a', 'simil', 'as-converted', 'to', 'common', 'stock', 'bas', ',', 'and', '(', 'b', ')', 'juny', 'to', 'pay', 'describ', 'in', 'claus', '(', 'i', ')', 'and', '(', 'ii', ')', 'abov', '(', 'in', 'the', 'lat', 'cas', ',', 'to', 'the', 'ext', 'such', 'pay', 'ar', 'cash-out', 'amount', 'or', 'simil', 'liquid', 'pref', ')', '.', '(', 'e', ')', 'termination.', 'thi', 'saf', 'wil', 'autom', 'termin', '(', 'without', 'reliev', 'the', 'company', 'of', 'any', 'oblig', 'ar', 'from', 'a', 'pri', 'breach', 'of', 'or', 'non-compliance', 'with', 'thi', 'saf', ')', 'immedy', 'follow', 'the', 'earliest', 'to', 'occ', 'of', ':', '(', 'i', ')', 'the', 'issu', 'of', 'capit', 'stock', 'to', 'the', 'invest', 'pursu', 'to', 'the', 'autom', 'convert', 'of', 'thi', 'saf', 'und', 'sect', '1', '(', 'a', ')', ';', 'or', '(', 'ii', ')', 'the', 'pay', ',', 'or', 'set', 'asid', 'for', 'pay', ',', 'of', 'amount', 'due', 'the', 'invest', 'pursu', 'to', 'sect', '1', '(', 'b', ')', 'or', 'sect', '1', '(', 'c', ')', '.', '2.definitions', '“', 'capit', 'stock', '”', 'mean', 'the', 'capit', 'stock', 'of', 'the', 'company', ',', 'includ', ',', 'without', 'limit', ',', 'the', '“', 'common', 'stock', '”', 'and', 'the', '“', 'prefer', 'stock.', '”', '“', 'chang', 'of', 'control', '”', 'mean', '(', 'i', ')', 'a', 'transact', 'or', 'sery', 'of', 'rel', 'transact', 'in', 'which', 'any', '“', 'person', '”', 'or', '“', 'group', '”', '(', 'within', 'the', 'mean', 'of', 'sect', '13', '(', 'd', ')', 'and', '14', '(', 'd', ')', 'of', 'the', 'sec', 'exchang', 'act', 'of', '1934', ',', 'as', 'amend', ')', ',', 'becom', 'the', '“', 'benef', 'own', '”', '(', 'as', 'defin', 'in', 'rul', '13d-3', 'und', 'the', 'sec', 'exchang', 'act', 'of', '1934', ',', 'as', 'amend', ')', ',', 'direct', 'or', 'indirect', ',', 'of', 'mor', 'than', '50', '%', 'of', 'the', 'outstand', 'vot', 'sec', 'of', 'the', 'company', 'hav', 'the', 'right', 'to', 'vot', 'for', 'the', 'elect', 'of', 'memb', 'of', 'the', 'company', '’', 's', 'board', 'of', 'direct', ',', '(', 'ii', ')', 'any', 'reorg', ',', 'merg', 'or', 'consolid', 'of', 'the', 'company', ',', 'oth', 'than', 'a', 'transact', 'or', 'sery', 'of', 'rel', 'transact', 'in', 'which', 'the', 'hold', 'of', 'the', 'vot', 'sec', 'of', 'the', 'company', 'outstand', 'immedy', 'pri', 'to', 'such', 'transact', 'or', 'sery', 'of', 'rel', 'transact', 'retain', ',', 'immedy', 'aft', 'such', 'transact', 'or', 'sery', 'of', 'rel', 'transact', ',', 'at', 'least', 'a', 'maj', 'of', 'the', 'tot', 'vot', 'pow', 'repres', 'by', 'the', 'outstand', 'vot', 'sec', 'of', 'the', 'company', 'or', 'such', 'oth', 'surv', 'or', 'result', 'ent', 'or', '(', 'ii', ')', 'a', 'sal', ',', 'leas', 'or', 'oth', 'disposit', 'of', 'al', 'or', 'subst', 'al', 'of', 'the', 'asset', 'of', 'the', 'company.', '“', 'company', 'capit', '”', 'is', 'calc', 'as', 'of', 'immedy', 'pri', 'to', 'the', 'equ', 'fin', 'and', '(', 'without', 'double-counting', ')', ':', 'includ', 'al', 'shar', 'of', 'capit', 'stock', 'issu', 'and', 'outstand', ';', 'includ', 'al', 'convert', 'sec', ';', 'includ', 'al', '(', 'i', ')', 'issu', 'and', 'outstand', 'opt', 'and', '(', 'ii', ')', 'prom', 'opt', ';', 'includ', 'the', 'unissu', 'opt', 'pool', ';', 'and', 'exclud', ',', 'notwithstand', 'the', 'forego', ',', 'any', 'increas', 'to', 'the', 'unissu', 'opt', 'pool', '(', 'exceiv', 'to', 'the', 'ext', 'necess', 'to', 'cov', 'prom', 'opt', 'that', 'excess', 'the', 'unissu', 'opt', 'pool', ')', 'in', 'connect', 'with', 'the', 'equ', 'financing.', '“', 'convert', 'sec', '”', 'includ', 'thi', 'saf', 'and', 'oth', 'convert', 'sec', 'issu', 'by', 'the', 'company', ',', 'includ', 'but', 'not', 'limit', 'to', ':', '(', 'i', ')', 'oth', 'saf', ';', '(', 'ii', ')', 'convert', 'promiss', 'not', 'and', 'oth', 'convert', 'debt', 'instru', ';', 'and', '(', 'ii', ')', 'convert', 'sec', 'that', 'hav', 'the', 'right', 'to', 'convert', 'into', 'shar', 'of', 'capit', 'stock.', '“', 'dissolv', 'ev', '”', 'mean', '(', 'i', ')', 'a', 'volunt', 'termin', 'of', 'op', ',', '(', 'ii', ')', 'a', 'gen', 'assign', 'for', 'the', 'benefit', 'of', 'the', 'company', '’', 's', 'credit', 'or', '(', 'ii', ')', 'any', 'oth', 'liquid', ',', 'dissolv', 'or', 'wind', 'up', 'of', 'the', 'company', '(', 'exclud', 'a', 'liquid', 'ev', ')', ',', 'wheth', 'volunt', 'or', 'involuntary.', '“', 'dividend', 'amount', '”', 'mean', ',', 'with', 'respect', 'to', 'any', 'dat', 'on', 'which', 'the', 'company', 'pay', 'a', 'dividend', 'on', 'it', 'outstand', 'common', 'stock', ',', 'the', 'amount', 'of', 'such', 'dividend', 'that', 'is', 'paid', 'per', 'shar', 'of', 'common', 'stock', 'multiply', 'by', '(', 'x', ')', 'the', 'purchas', 'amount', 'divid', 'by', '(', 'y', ')', 'the', 'liquid', 'pric', '(', 'tre', 'the', 'dividend', 'dat', 'as', 'a', 'liquid', 'ev', 'sol', 'for', 'purpos', 'of', 'calc', 'such', 'liquid', 'pric', ')', '.', '“', 'equ', 'fin', '”', 'mean', 'a', 'bon', 'fid', 'transact', 'or', 'sery', 'of', 'transact', 'with', 'the', 'princip', 'purpos', 'of', 'rais', 'capit', ',', 'pursu', 'to', 'which', 'the', 'company', 'issu', 'and', 'sel', 'prefer', 'stock', 'at', 'a', 'fix', 'valu', ',', 'includ', 'but', 'not', 'limit', 'to', ',', 'a', 'pre-money', 'or', 'post-money', 'valuation.', '“', 'init', 'publ', 'off', '”', 'mean', 'the', 'clos', 'of', 'the', 'company', '’', 's', 'first', 'firm', 'commit', 'underwrit', 'init', 'publ', 'off', 'of', 'common', 'stock', 'pursu', 'to', 'a', 'reg', 'stat', 'fil', 'und', 'the', 'sec', 'act.', '“', 'liquid', 'capit', '”', 'is', 'calc', 'as', 'of', 'immedy', 'pri', 'to', 'the', 'liquid', 'ev', ',', 'and', '(', 'without', 'double-', 'count', ')', ':', 'includ', 'al', 'shar', 'of', 'capit', 'stock', 'issu', 'and', 'outstand', ';', 'includ', 'al', '(', 'i', ')', 'issu', 'and', 'outstand', 'opt', 'and', '(', 'ii', ')', 'to', 'the', 'ext', 'receiv', 'process', ',', 'prom', 'opt', ';', 'includ', 'al', 'convert', 'sec', ',', 'oth', 'than', 'any', 'saf', 'and', 'oth', 'convert', 'sec', '(', 'includ', 'without', 'limit', 'shar', 'of', 'prefer', 'stock', ')', 'wher', 'the', 'hold', 'of', 'such', 'sec', 'ar', 'receiv', 'cash-out', 'amount', 'or', 'simil', 'liquid', 'pref', 'pay', 'in', 'lieu', 'of', 'convert', 'amount', 'or', 'simil', '“', 'as-converted', '”', 'pay', ';', 'and', 'exclud', 'the', 'unissu', 'opt', 'pool.', '“', 'liquid', 'ev', '”', 'mean', 'a', 'chang', 'of', 'control', 'or', 'an', 'init', 'publ', 'offering.', '“', 'liquid', 'pric', '”', 'mean', 'the', 'pric', 'per', 'shar', 'eq', 'to', 'the', 'post-money', 'valu', 'cap', 'divid', 'byth', 'liquid', 'capitalization.', '“', 'opt', '”', 'includ', 'opt', ',', 'restrict', 'stock', 'award', 'or', 'purchas', ',', 'rsu', ',', 'sar', ',', 'war', 'or', 'simil', 'sec', ',', 'vest', 'or', 'unvested.', '“', 'process', '”', 'mean', 'cash', 'and', 'oth', 'asset', '(', 'includ', 'without', 'limit', 'stock', 'consid', ')', 'that', 'ar', 'process', 'from', 'the', 'liquid', 'ev', 'or', 'the', 'dissolv', 'ev', ',', 'as', 'appl', ',', 'and', 'leg', 'avail', 'for', 'distribution.', '“', 'prom', 'opt', '”', 'mean', 'prom', 'but', 'ungr', 'opt', 'that', 'ar', 'the', 'gre', 'of', 'thos', '(', 'i', ')', 'prom', 'pursu', 'to', 'agr', 'or', 'understand', 'mad', 'pri', 'to', 'the', 'execut', 'of', ',', 'or', 'in', 'connect', 'with', ',', 'the', 'term', 'sheet', 'for', 'the', 'equ', 'fin', '(', 'or', 'the', 'init', 'clos', 'of', 'the', 'equ', 'fin', ',', 'if', 'ther', 'is', 'no', 'term', 'sheet', ')', ',', 'or', '(', 'ii', ')', 'tre', 'as', 'outstand', 'opt', 'in', 'the', 'calc', 'of', 'the', 'standard', 'prefer', 'stock', '’', 's', 'pric', 'per', 'share.', '“', 'saf', '”', 'mean', 'an', 'instru', 'contain', 'a', 'fut', 'right', 'to', 'shar', 'of', 'capit', 'stock', ',', 'simil', 'in', 'form', 'and', 'cont', 'to', 'thi', 'instru', ',', 'purchas', 'by', 'invest', 'for', 'the', 'purpos', 'of', 'fund', 'the', 'company', '’', 's', 'busy', 'operations.', 'ref', 'to', '“', 'thi', 'saf', '”', 'mean', 'thi', 'spec', 'instrument.', '“', 'safeprefer', 'stock', '”', 'mean', 'the', 'shar', 'of', 'the', 'sery', 'of', 'prefer', 'stock', 'issu', 'to', 'the', 'invest', 'in', 'an', 'equ', 'fin', ',', 'hav', 'the', 'id', 'right', ',', 'privileg', ',', 'pref', 'and', 'restrict', 'as', 'the', 'shar', 'of', 'standard', 'prefer', 'stock', ',', 'oth', 'than', 'with', 'respect', 'to', ':', '(', 'i', ')', 'the', 'per', 'shar', 'liquid', 'pref', 'and', 'the', 'init', 'convert', 'pric', 'for', 'purpos', 'of', 'price-based', 'anti-dilution', 'protect', ',', 'which', 'wil', 'eq', 'the', 'saf', 'pric', ';', 'and', '(', 'ii', ')', 'the', 'bas', 'for', 'any', 'dividend', 'right', ',', 'which', 'wil', 'be', 'bas', 'on', 'the', 'saf', 'price.', '“', 'saf', 'pric', '”', 'mean', 'the', 'pric', 'per', 'shar', 'eq', 'to', 'the', 'post-money', 'valu', 'cap', 'divid', 'by', 'the', 'company', 'capitalization.', '“', 'standard', 'prefer', 'stock', '”', 'mean', 'the', 'shar', 'of', 'the', 'sery', 'of', 'prefer', 'stock', 'issu', 'to', 'the', 'invest', 'invest', 'new', 'money', 'in', 'the', 'company', 'in', 'connect', 'with', 'the', 'init', 'clos', 'of', 'the', 'equ', 'financing.', '“', 'unissu', 'opt', 'pool', '”', 'mean', 'al', 'shar', 'of', 'capit', 'stock', 'that', 'ar', 'reserv', ',', 'avail', 'for', 'fut', 'grant', 'and', 'not', 'subject', 'to', 'any', 'outstand', 'opt', 'or', 'prom', 'opt', '(', 'but', 'in', 'the', 'cas', 'of', 'a', 'liquid', 'ev', ',', 'on', 'to', 'the', 'ext', 'process', 'ar', 'pay', 'on', 'such', 'prom', 'opt', ')', 'und', 'any', 'equ', 'int', 'or', 'simil', 'company', 'plan.', '3.company', 'repres', '(', 'a', ')', 'the', 'company', 'is', 'a', 'corp', 'duly', 'org', ',', 'valid', 'ex', 'and', 'in', 'good', 'stand', 'und', 'the', 'law', 'of', 'it', 'stat', 'of', 'incorp', ',', 'and', 'has', 'the', 'pow', 'and', 'auth', 'to', 'own', ',', 'leas', 'and', 'op', 'it', 'property', 'and', 'carry', 'on', 'it', 'busy', 'as', 'now', 'conducted.', '(', 'b', ')', 'the', 'execut', ',', 'delivery', 'and', 'perform', 'by', 'the', 'company', 'of', 'thi', 'saf', 'is', 'within', 'the', 'pow', 'of', 'the', 'company', 'and', 'has', 'been', 'duly', 'auth', 'by', 'al', 'necess', 'act', 'on', 'the', 'part', 'of', 'the', 'company', '(', 'subject', 'to', 'sect', '3', '(', 'd', ')', ')', '.', 'thi', 'saf', 'constitut', 'a', 'leg', ',', 'valid', 'and', 'bind', 'oblig', 'of', 'the', 'company', ',', 'enforc', 'against', 'the', 'company', 'in', 'accord', 'with', 'it', 'term', ',', 'exceiv', 'as', 'limit', 'by', 'bankruptcy', ',', 'insolv', 'or', 'oth', 'law', 'of', 'gen', 'apply', 'rel', 'to', 'or', 'affect', 'the', 'enforc', 'of', 'credit', '’', 'right', 'gen', 'and', 'gen', 'principl', 'of', 'equity.', 'to', 'it', 'knowledg', ',', 'the', 'company', 'is', 'not', 'in', 'viol', 'of', '(', 'i', ')', 'it', 'cur', 'cert', 'of', 'incorp', 'or', 'bylaw', ',', '(', 'ii', ')', 'any', 'mat', 'statut', ',', 'rul', 'or', 'reg', 'appl', 'to', 'the', 'company', 'or', '(', 'ii', ')', 'any', 'mat', 'debt', 'or', 'contract', 'to', 'which', 'the', 'company', 'is', 'a', 'party', 'or', 'by', 'which', 'it', 'is', 'bound', ',', 'wher', ',', 'in', 'each', 'cas', ',', 'such', 'viol', 'or', 'default', ',', 'individ', ',', 'or', 'togeth', 'with', 'al', 'such', 'viol', 'or', 'default', ',', 'could', 'reason', 'be', 'expect', 'to', 'hav', 'a', 'mat', 'advers', 'effect', 'on', 'the', 'company.', '(', 'c', ')', 'the', 'perform', 'and', 'consum', 'of', 'the', 'transact', 'contempl', 'by', 'thi', 'saf', 'do', 'not', 'and', 'wil', 'not', ':', '(', 'i', ')', 'viol', 'any', 'mat', 'judg', ',', 'statut', ',', 'rul', 'or', 'reg', 'appl', 'to', 'the', 'company', ';', '(', 'ii', ')', 'result', 'in', 'the', 'accel', 'of', 'any', 'mat', 'debt', 'or', 'contract', 'to', 'which', 'the', 'company', 'is', 'a', 'party', 'or', 'by', 'which', 'it', 'is', 'bound', ';', 'or', '(', 'ii', ')', 'result', 'in', 'the', 'cre', 'or', 'imposit', 'of', 'any', 'lien', 'on', 'any', 'property', ',', 'asset', 'or', 'revenu', 'of', 'the', 'company', 'or', 'the', 'suspend', ',', 'forfeit', ',', 'or', 'nonrenew', 'of', 'any', 'mat', 'permit', ',', 'licens', 'or', 'auth', 'appl', 'to', 'the', 'company', ',', 'it', 'busy', 'or', 'operations.', '(', 'd', ')', 'no', 'cons', 'or', 'approv', 'ar', 'requir', 'in', 'connect', 'with', 'the', 'perform', 'of', 'thi', 'saf', ',', 'oth', 'than', ':', '(', 'i', ')', 'the', 'company', '’', 's', 'corp', 'approv', ';', '(', 'ii', ')', 'any', 'qual', 'or', 'fil', 'und', 'appl', 'sec', 'law', ';', 'and', '(', 'ii', ')', 'necess', 'corp', 'approv', 'for', 'the', 'auth', 'of', 'capit', 'stock', 'issu', 'pursu', 'to', 'sect', '1.', '(', 'e', ')', 'to', 'it', 'knowledg', ',', 'the', 'company', 'own', 'or', 'possess', '(', 'or', 'can', 'obtain', 'on', 'commerc', 'reason', 'term', ')', 'sufficy', 'leg', 'right', 'to', 'al', 'pat', ',', 'trademark', ',', 'serv', 'mark', ',', 'trad', 'nam', ',', 'copyright', ',', 'trad', 'secret', ',', 'licens', ',', 'inform', ',', 'process', 'and', 'oth', 'intellect', 'property', 'right', 'necess', 'for', 'it', 'busy', 'as', 'now', 'conduc', 'and', 'as', 'cur', 'propos', 'to', 'be', 'conduc', ',', 'without', 'any', 'conflict', 'with', ',', 'or', 'infr', 'of', 'the', 'right', 'of', ',', 'others.', '4.investor', 'repres', '(', 'a', ')', 'the', 'invest', 'has', 'ful', 'leg', 'capac', ',', 'pow', 'and', 'auth', 'to', 'execut', 'and', 'del', 'thi', 'saf', 'and', 'to', 'perform', 'it', 'oblig', 'hereunder.', 'thi', 'saf', 'constitut', 'valid', 'and', 'bind', 'oblig', 'of', 'the', 'invest', ',', 'enforc', 'in', 'accord', 'with', 'it', 'term', ',', 'exceiv', 'as', 'limit', 'by', 'bankruptcy', ',', 'insolv', 'or', 'oth', 'law', 'of', 'gen', 'apply', 'rel', 'to', 'or', 'affect', 'the', 'enforc', 'of', 'credit', '’', 'right', 'gen', 'and', 'gen', 'principl', 'of', 'equity.', '(', 'b', ')', 'the', 'invest', 'is', 'an', 'accredit', 'invest', 'as', 'such', 'term', 'is', 'defin', 'in', 'rul', '501', 'of', 'reg', 'd', 'und', 'the', 'sec', 'act', ',', 'and', 'acknowledg', 'and', 'agr', 'that', 'if', 'not', 'an', 'accredit', 'invest', 'at', 'the', 'tim', 'of', 'an', 'equ', 'fin', ',', 'the', 'company', 'may', 'void', 'thi', 'saf', 'and', 'return', 'the', 'purchas', 'amount.', 'the', 'invest', 'has', 'been', 'adv', 'that', 'thi', 'saf', 'and', 'the', 'und', 'sec', 'hav', 'not', 'been', 'reg', 'und', 'the', 'sec', 'act', ',', 'or', 'any', 'stat', 'sec', 'law', 'and', ',', 'theref', ',', 'can', 'not', 'be', 'resold', 'unless', 'they', 'ar', 'reg', 'und', 'the', 'sec', 'act', 'and', 'appl', 'stat', 'sec', 'law', 'or', 'unless', 'an', 'exempt', 'from', 'such', 'reg', 'requir', 'is', 'available.', 'the', 'invest', 'is', 'purchas', 'thi', 'saf', 'and', 'the', 'sec', 'to', 'be', 'acquir', 'by', 'the', 'invest', 'hereund', 'for', 'it', 'own', 'account', 'for', 'invest', ',', 'not', 'as', 'a', 'nomin', 'or', 'ag', ',', 'and', 'not', 'with', 'a', 'view', 'to', ',', 'or', 'for', 'res', 'in', 'connect', 'with', ',', 'the', 'distribut', 'thereof', ',', 'and', 'the', 'invest', 'has', 'no', 'pres', 'int', 'of', 'sel', ',', 'grant', 'any', 'particip', 'in', ',', 'or', 'otherw', 'distribut', 'the', 'same.', 'the', 'invest', 'has', 'such', 'knowledg', 'and', 'expery', 'in', 'fin', 'and', 'busy', 'mat', 'that', 'the', 'invest', 'is', 'cap', 'of', 'evalu', 'the', 'merit', 'and', 'risk', 'of', 'such', 'invest', ',', 'is', 'abl', 'to', 'int', 'a', 'complet', 'loss', 'of', 'such', 'invest', 'without', 'impair', 'the', 'invest', '’', 's', 'fin', 'condit', 'and', 'is', 'abl', 'to', 'bear', 'the', 'econom', 'risk', 'of', 'such', 'invest', 'for', 'an', 'indefinit', 'period', 'of', 'time.', '5.miscellaneous', '(', 'a', ')', 'any', 'provid', 'of', 'thi', 'saf', 'may', 'be', 'amend', ',', 'waiv', 'or', 'mod', 'by', 'writ', 'cons', 'of', 'the', 'company', 'and', 'eith', '(', 'i', ')', 'the', 'invest', 'or', '(', 'ii', ')', 'the', 'majority-in-interest', 'of', 'al', 'then-outstanding', 'saf', 'with', 'the', 'sam', '“', 'post-money', 'valu', 'cap', '”', 'and', '“', 'discount', 'rat', '”', 'as', 'thi', 'saf', '(', 'and', 'saf', 'lack', 'on', 'or', 'both', 'of', 'such', 'term', 'wil', 'be', 'consid', 'to', 'be', 'the', 'sam', 'with', 'respect', 'to', 'such', 'term', '(', 's', ')', ')', ',', 'provid', 'that', 'with', 'respect', 'to', 'claus', '(', 'ii', ')', ':', '(', 'a', ')', 'the', 'purchas', 'amount', 'may', 'not', 'be', 'amend', ',', 'waiv', 'or', 'mod', 'in', 'thi', 'man', ',', '(', 'b', ')', 'the', 'cons', 'of', 'the', 'invest', 'and', 'each', 'hold', 'of', 'such', 'saf', 'must', 'be', 'solicit', '(', 'ev', 'if', 'not', 'obtain', ')', ',', 'and', '(', 'c', ')', 'such', 'amend', ',', 'waiv', 'or', 'mod', 'tre', 'al', 'such', 'hold', 'in', 'the', 'sam', 'manner.', '“', 'majority-in-interest', '”', 'ref', 'to', 'the', 'hold', 'of', 'the', 'appl', 'group', 'of', 'saf', 'whos', 'saf', 'hav', 'a', 'tot', 'purchas', 'amount', 'gre', 'than', '50', '%', 'of', 'the', 'tot', 'purchas', 'amount', 'of', 'al', 'of', 'such', 'appl', 'group', 'of', 'safes.', '(', 'b', ')', 'any', 'not', 'requir', 'or', 'permit', 'by', 'thi', 'saf', 'wil', 'be', 'deem', 'sufficy', 'when', 'del', 'person', 'or', 'by', 'overnight', 'coury', 'or', 'sent', 'by', 'email', 'to', 'the', 'relev', 'address', 'list', 'on', 'the', 'sign', 'pag', ',', 'or', '48', 'hour', 'aft', 'being', 'deposit', 'in', 'the', 'u.s.', 'mail', 'as', 'cert', 'or', 'reg', 'mail', 'with', 'post', 'prepaid', ',', 'address', 'to', 'the', 'party', 'to', 'be', 'not', 'at', 'such', 'party', '’', 's', 'address', 'list', 'on', 'the', 'sign', 'pag', ',', 'as', 'subsequ', 'mod', 'by', 'writ', 'notice.', '(', 'c', ')', 'the', 'invest', 'is', 'not', 'entitl', ',', 'as', 'a', 'hold', 'of', 'thi', 'saf', ',', 'to', 'vot', 'or', 'be', 'deem', 'a', 'hold', 'of', 'capit', 'stock', 'for', 'any', 'purpos', 'oth', 'than', 'tax', 'purpos', ',', 'nor', 'wil', 'anyth', 'in', 'thi', 'saf', 'be', 'constru', 'to', 'conf', 'on', 'the', 'invest', ',', 'as', 'such', ',', 'any', 'right', 'of', 'a', 'company', 'stockhold', 'or', 'right', 'to', 'vot', 'for', 'the', 'elect', 'of', 'direct', 'or', 'on', 'any', 'mat', 'submit', 'to', 'company', 'stockhold', ',', 'or', 'to', 'giv', 'or', 'withhold', 'cons', 'to', 'any', 'corp', 'act', 'or', 'to', 'receiv', 'not', 'of', 'meet', ',', 'until', 'shar', 'hav', 'been', 'issu', 'on', 'the', 'term', 'describ', 'in', 'sect', '1.however', ',', 'if', 'the', 'company', 'pay', 'a', 'dividend', 'on', 'outstand', 'shar', 'of', 'common', 'stock', '(', 'that', 'is', 'not', 'pay', 'in', 'shar', 'of', 'common', 'stock', ')', 'whil', 'thi', 'saf', 'is', 'outstand', ',', 'the', 'company', 'wil', 'pay', 'the', 'dividend', 'amount', 'to', 'the', 'invest', 'at', 'the', 'sam', 'time.', '(', 'd', ')', 'neith', 'thi', 'saf', 'nor', 'the', 'right', 'in', 'thi', 'saf', 'ar', 'transf', 'or', 'assign', ',', 'by', 'op', 'of', 'law', 'or', 'otherw', ',', 'by', 'eith', 'party', 'without', 'the', 'pri', 'writ', 'cons', 'of', 'the', 'oth', ';', 'provid', ',', 'howev', ',', 'that', 'thi', 'saf', 'and/or', 'it', 'right', 'may', 'be', 'assign', 'without', 'the', 'company', '’', 's', 'cons', 'by', 'the', 'invest', 'to', 'any', 'oth', 'ent', 'who', 'direct', 'or', 'indirect', ',', 'control', ',', 'is', 'control', 'by', 'or', 'is', 'und', 'common', 'control', 'with', 'the', 'invest', ',', 'includ', ',', 'without', 'limit', ',', 'any', 'gen', 'partn', ',', 'man', 'memb', ',', 'off', 'or', 'direct', 'of', 'the', 'invest', ',', 'or', 'any', 'vent', 'capit', 'fund', 'now', 'or', 'hereaft', 'ex', 'which', 'is', 'control', 'by', 'on', 'or', 'mor', 'gen', 'partn', 'or', 'man', 'memb', 'of', ',', 'or', 'shar', 'the', 'sam', 'man', 'company', 'with', ',', 'the', 'invest', ';', 'andprovid', ',', 'furth', ',', 'that', 'the', 'company', 'may', 'assign', 'thi', 'saf', 'in', 'whol', ',', 'without', 'the', 'cons', 'of', 'the', 'invest', ',', 'in', 'connect', 'with', 'a', 'reincorp', 'to', 'chang', 'the', 'company', '’', 's', 'domicile.', '(', 'e', ')', 'in', 'the', 'ev', 'any', 'on', 'or', 'mor', 'of', 'the', 'provid', 'of', 'thi', 'saf', 'is', 'for', 'any', 'reason', 'held', 'to', 'be', 'invalid', ',', 'illeg', 'or', 'unenforc', ',', 'in', 'whol', 'or', 'in', 'part', 'or', 'in', 'any', 'respect', ',', 'or', 'in', 'the', 'ev', 'that', 'any', 'on', 'or', 'mor', 'of', 'the', 'provid', 'of', 'thi', 'saf', 'op', 'or', 'would', 'prospect', 'op', 'to', 'invalid', 'thi', 'saf', ',', 'then', 'and', 'in', 'any', 'such', 'ev', ',', 'such', 'provid', '(', 's', ')', 'on', 'wil', 'be', 'deem', 'nul', 'and', 'void', 'and', 'wil', 'not', 'affect', 'any', 'oth', 'provid', 'of', 'thi', 'saf', 'and', 'the', 'remain', 'provid', 'of', 'thi', 'saf', 'wil', 'remain', 'op', 'and', 'in', 'ful', 'forc', 'and', 'effect', 'and', 'wil', 'not', 'be', 'affect', ',', 'prejud', ',', 'or', 'disturb', 'thereby.', '(', 'f', ')', 'al', 'right', 'and', 'oblig', 'hereund', 'wil', 'be', 'govern', 'by', 'the', 'law', 'of', 'the', 'stat', 'of', '[', 'govern', 'law', 'jurisdict', ']', ',', 'without', 'regard', 'to', 'the', 'conflict', 'of', 'law', 'provid', 'of', 'such', 'jurisdiction.', '(', 'g', ')', 'the', 'party', 'acknowledg', 'and', 'agr', 'that', 'for', 'unit', 'stat', 'fed', 'and', 'stat', 'incom', 'tax', 'purpos', 'thi', 'saf', 'is', ',', 'and', 'at', 'al', 'tim', 'has', 'been', ',', 'intend', 'to', 'be', 'charact', 'as', 'stock', ',', 'and', 'mor', 'particul', 'as', 'common', 'stock', 'for', 'purpos', 'of', 'sect', '304', ',', '305', ',', '306', ',', '354', ',', '368', ',', '1036', 'and', '1202', 'of', 'the', 'intern', 'revenu', 'cod', 'of', '1986', ',', 'as', 'amended.accordingly', ',', 'the', 'party', 'agr', 'to', 'tre', 'thi', 'saf', 'consist', 'with', 'the', 'forego', 'int', 'for', 'al', 'unit', 'stat', 'fed', 'and', 'stat', 'incom', 'tax', 'purpos', '(', 'includ', ',', 'without', 'limit', ',', 'on', 'their', 'respect', 'tax', 'return', 'or', 'oth', 'inform', 'stat', ')', '.', '(', 'sign', 'pag', 'follow', ')', 'in', 'wit', 'whereof', ',', 'the', 'undersign', 'hav', 'caus', 'thi', 'saf', 'to', 'be', 'duly', 'execut', 'and', 'delivered.', 'anax', 'by', ':', 'psiayn', 'ceo', 'of', 'anax', 'address', ':', 'reddit', 'email', ':', 'reddit', '@', 'reddif.com', 'invest', ':', 'by', ':', 'vegito', 'blu', 'nam', ':', 'bob', 'marley', 'titl', ':', 'star', 'platin', 'address', ':', 'old', 'minasod', 'town', 'email', ':', 'dio', '@', 'xyz.com']\n",
            "\n",
            "Lematization\n",
            "['s', 'describe', 'be', 'agree', 'have', 'modify', 'fill', 'bracket', 'be', 'define', 'be', 'convert', 'divide', 'divide', 'execute', 'deliver', 'relate', 'provide', 'be', 'be', 'enter', 'provide', 'have', 'include', 'be', 'be', 'entitle', 'receive', 'divide', '.If', 'be', 'give', 'be', 'receive', 'be', 'give', 'provide', 'choose', 'receive', 'be', 'receive', 'satisfy', 'Notwithstanding', 'intend', 'qualify', 'reduce', 'determine', 'qualify', 'provide', 'do', 'reduce', 'be', 'apply', 'have', 'be', 'be', 'entitle', 'receive', 'be', 'intend', 'operate', 's', 'receive', 'be', 'include', 'be', 'convert', 'be', 'permit', 'be', 'distribute', 'be', 's', 'receive', 'be', 'be', 'receive', 'describe', 'be', 'terminate', 'relieve', 'arise', 'follow', 'occur', 'set', 'mean', 'include', 'mean', 'amend', 'become', 'define', 'amend', 'have', 'vote', 'vote', 'retain', 'represent', 'survive', 'result', 'be', 'calculate', 'Includes', 'issue', 'Includes', 'Includes', 'issue', 'Promised', 'Includes', 'notwithstanding', 'cover', 'Promised', 'exceed', 'include', 'issue', 'include', 'have', 'convert', 'mean', 'wind', 'exclude', 'mean', 'pay', 'be', 'pay', 'multiply', 'divide', 'treat', 'calculate', 'mean', 'raise', 'sell', 'include', 'mean', 's', 'file', 'be', 'calculate', 'Includes', 'issue', 'Includes', 'issue', 'receive', 'Promised', 'include', 'be', 'receive', 'Excludes', 'mean', 'mean', 'divide', 'include', 'restrict', 'vest', 'mean', 'include', 'be', 'Promised', 'mean', 'promise', 'be', 'promise', 'make', 'be', 'treat', 'mean', 'contain', 'purchase', 'fund', '“', 'mean', 'issue', 'have', 'equal', 'be', 'base', 'mean', 'divide', 'mean', 'issue', 'invest', 'mean', 'be', 'reserve', 'Promised', 'be', 'Promised', 'be', 'organize', 'exist', 'have', 'own', 'operate', 'carry', 'conducted.', 'be', 'have', 'be', 'authorize', 'constitute', 'relate', 'affect', 'be', 'be', 'be', 'bind', 'be', 'expect', 'have', 'contemplate', 'do', 'violate', 'be', 'be', 'bind', 'be', 'require', 'own', 'obtain', 'conduct', 'propose', 'be', 'conduct', 'have', 'execute', 'deliver', 'perform', 'hereunder.', 'constitute', 'relate', 'affect', 'be', 'be', 'define', 'agree', 'void', 'return', 'have', 'be', 'advise', 'underlie', 'have', 'be', 'register', 'be', 'resold', 'be', 'register', 'be', 'be', 'purchase', 'be', 'acquire', 'have', 'grant', 'distribute', 'have', 'be', 'evaluate', 'be', 'incur', 'impair', 's', 'be', 'bear', 'be', 'amend', 'waive', 'modify', 'write', 'lack', 'be', 'consider', 'be', 'provide', 'clause', 'be', 'amend', 'waive', 'modify', 'be', 'solicit', 'obtain', '“', 'have', 'require', 'permit', 'be', 'deem', 'deliver', 'send', 'list', 'be', 'deposit', 'address', 'be', 'notify', 'list', 'modify', 'write', 'be', 'entitle', 'vote', 'be', 'deem', 'be', 'construe', 'confer', 'vote', 'submit', 'give', 'withhold', 'receive', 'have', 'be', 'issue', 'describe', 'pay', 'be', 'be', 'pay', 'be', 'write', 'provide', 'and/or', 'be', 'assign', 's', 'be', 'control', 'be', 'include', 'manage', 'exist', 'be', 'control', 'manage', 'andprovided', 'assign', 'change', 'be', 'hold', 'be', 'operate', 'invalidate', 'be', 'deem', 'affect', 'remain', 'remain', 'be', 'affect', 'prejudice', 'disturb', 'hereunder', 'be', 'govern', 'acknowledge', 'agree', 'be', 'have', 'be', 'intend', 'be', 'characterize', 'agree', 'treat', 'include', 'follow', 'have', 'cause', 'be', 'execute', 'delivered.']\n"
          ],
          "name": "stdout"
        }
      ]
    },
    {
      "cell_type": "code",
      "metadata": {
        "id": "LZ5HjYl1lglO",
        "colab_type": "code",
        "outputId": "fc00c918-835d-4d5f-d1a5-2072397efc8f",
        "colab": {
          "base_uri": "https://localhost:8080/",
          "height": 1000
        }
      },
      "source": [
        "import lexnlp.nlp.en.segments.sections\n",
        "# dir(lexnlp.nlp.en.segments.sections)\n",
        "pprint(list(lexnlp.nlp.en.segments.sections.get_sections(text)))"
      ],
      "execution_count": 40,
      "outputs": [
        {
          "output_type": "stream",
          "text": [
            "['THIS INSTRUMENT AND ANY SECURITIES ISSUABLE PURSUANT HERETO HAVE NOT BEEN '\n",
            " 'REGISTERED UNDER THE SECURITIES ACT OF 1933, AS AMENDED (THE “SECURITIES '\n",
            " 'ACT”), OR UNDER THE SECURITIES LAWS OF CERTAIN STATES.THESE SECURITIES MAY '\n",
            " 'NOT BE OFFERED, SOLD OR OTHERWISE TRANSFERRED, PLEDGED OR HYPOTHECATED '\n",
            " 'EXCEPT AS PERMITTED IN THIS SAFE AND UNDER THE ACT AND APPLICABLE STATE '\n",
            " 'SECURITIES LAWS PURSUANT TO AN EFFECTIVE REGISTRATION STATEMENT OR AN '\n",
            " 'EXEMPTION THEREFROM.\\n'\n",
            " '\\n'\n",
            " '\\n'\n",
            " '\\n'\n",
            " '[Company Name]\\n'\n",
            " '\\n'\n",
            " '\\n'\n",
            " '\\n'\n",
            " 'SAFE\\n'\n",
            " '\\n'\n",
            " '(Simple Agreement for Future Equity)\\n'\n",
            " '\\n'\n",
            " 'THIS CERTIFIES THAT in exchange for the payment by Bob Marley (the '\n",
            " '“Investor”) of $1000000 (the “Purchase Amount”) on or about 19-02-2022, '\n",
            " 'Anaxia, a space corporation tesla, issues to the Investor the right to '\n",
            " 'certain shares of the Company’s Capital Stock, subject to the terms '\n",
            " 'described below.\\n'\n",
            " '\\n'\n",
            " 'This Safe is one of the forms available at http://ycombinator.com/documents '\n",
            " 'and the Company and the Investor agree that neither one has modified the '\n",
            " 'form, except to fill in blanks and bracketed terms.\\n',\n",
            " 'The “Post-Money Valuation Cap” is $100000. See Section 2for certain '\n",
            " 'additional defined terms.\\n'\n",
            " '\\n'\n",
            " '1.Events\\n',\n",
            " '(a)Equity Financing. If there is an Equity Financing before the termination '\n",
            " 'of this Safe, on the initial closing of such Equity Financing, this Safe '\n",
            " 'will automatically convert into the greater of: (1) the number of shares of '\n",
            " 'Standard Preferred Stock equal to the Purchase Amount divided by the lowest '\n",
            " 'price per share of the Standard Preferred Stock; or (2) the number of shares '\n",
            " 'of Safe Preferred Stock equal to the Purchase Amount divided by the Safe '\n",
            " 'Price.\\n'\n",
            " '\\n'\n",
            " 'In connection with the automatic conversion of this Safe into shares of '\n",
            " 'Standard Preferred Stock or Safe Preferred Stock, the Investor will execute '\n",
            " 'and deliver to the Company all of the transaction documents related to the '\n",
            " 'Equity Financing; provided, that such documents are the same documents to be '\n",
            " 'entered into with the purchasers of Standard Preferred Stock, with '\n",
            " 'appropriate variations for the Safe Preferred Stock if applicable, and '\n",
            " 'provided further, that such documents have customary exceptions to any '\n",
            " 'drag-along applicable to the Investor, including, without limitation, '\n",
            " 'limited representations and warranties and limited liability and '\n",
            " 'indemnification obligations on the part of the Investor.\\n'\n",
            " '\\n'\n",
            " '(b)Liquidity Event. If there is a Liquidity Event before the termination of '\n",
            " 'this Safe, this Safe will automatically be entitled to receive a portion of '\n",
            " 'Proceeds, due and payable to the Investor immediately prior to, or '\n",
            " 'concurrent with, the consummation of such Liquidity Event, equal to the '\n",
            " 'greater of (i) the Purchase Amount (the “Cash-Out Amount”) or (ii) the '\n",
            " 'amount payable on the number of shares of Common Stock equal to the Purchase '\n",
            " 'Amount divided by the Liquidity Price (the “Conversion Amount”).If any of '\n",
            " 'the Company’s securityholders are given a choice as to the form and amount '\n",
            " 'of Proceeds to be received in a Liquidity Event, the Investor will be given '\n",
            " 'the same choice, provided that the Investor may not choose to receive a form '\n",
            " 'of consideration that the Investor would be ineligible to receive as a '\n",
            " 'result of the Investor’s failure to satisfy any requirement or limitation '\n",
            " 'generally applicable to the Company’s securityholders, or under any '\n",
            " 'applicable laws.\\n',\n",
            " 'Notwithstanding the foregoing, in connection with a Change of Control '\n",
            " 'intended to qualify as a tax-free reorganization, the Company may reduce the '\n",
            " 'cash portion of Proceeds payable to the Investor by the amount determined by '\n",
            " 'its board of directors in good faith for such Change of Control to qualify '\n",
            " 'as a tax-free reorganization for U.S. federal income tax purposes, provided '\n",
            " 'that such reduction (A) does not reduce the total Proceeds payable to such '\n",
            " 'Investor and (B) is applied in the same manner and on a pro rata basis to '\n",
            " 'all securityholders who have equal priority to the Investor under Section '\n",
            " '1(d).\\n'\n",
            " '\\n'\n",
            " '(c)Dissolution Event. If there is a Dissolution Event before the termination '\n",
            " 'of this Safe, the Investor will automatically be entitled to receive a '\n",
            " 'portion of Proceeds equal to the Cash-Out Amount, due and payable to the '\n",
            " 'Investor immediately prior to the consummation of the Dissolution Event.\\n'\n",
            " '\\n'\n",
            " '(d)Liquidation Priority. In a Liquidity Event or Dissolution Event, this '\n",
            " 'Safe is intended to operate like standard non-participating Preferred Stock. '\n",
            " 'The Investor’s right to receive its Cash-Out Amount is:\\n'\n",
            " '\\n'\n",
            " '(i)Junior to payment of outstanding indebtedness and creditor claims, '\n",
            " 'including contractual claims for payment and convertible promissory notes '\n",
            " '(to the extent such convertible promissory notes are not actually or '\n",
            " 'notionally converted into Capital Stock);\\n'\n",
            " '\\n'\n",
            " '(ii)On par with payments for other Safes and/or Preferred Stock, and if the '\n",
            " 'applicable Proceeds are insufficient to permit full payments to the Investor '\n",
            " 'and such other Safes and/or Preferred Stock, the applicable Proceeds will be '\n",
            " 'distributed pro rata to the Investor and such other Safes and/or Preferred '\n",
            " 'Stock in proportion to the full payments that would otherwise be due; and\\n'\n",
            " '\\n'\n",
            " '(iii)Senior to payments for Common Stock.\\n'\n",
            " '\\n'\n",
            " 'The Investor’s right to receive its Conversion Amount is (A) on par with '\n",
            " 'payments for Common Stock and other Safes and/or Preferred Stock who are '\n",
            " 'also receiving Conversion Amounts or Proceeds on a similar as-converted to '\n",
            " 'Common Stock basis, and (B) junior to payments described in clauses (i) and '\n",
            " '(ii) above (in the latter case, to the extent such payments are Cash-Out '\n",
            " 'Amounts or similar liquidation preferences).\\n',\n",
            " '(e)Termination. This Safe will automatically terminate (without relieving '\n",
            " 'the Company of any obligations arising from a prior breach of or '\n",
            " 'non-compliance with this Safe) immediately following the earliest to occur '\n",
            " 'of: (i) the issuance of Capital Stock to the Investor pursuant to the '\n",
            " 'automatic conversion of this Safe under Section 1(a); or (ii) the payment, '\n",
            " 'or setting aside for payment, of amounts due the Investor pursuant to '\n",
            " 'Section 1(b) or Section 1(c).\\n',\n",
            " '2.Definitions\\n'\n",
            " '\\n'\n",
            " '“Capital Stock” means the capital stock of the Company, including, without '\n",
            " 'limitation, the “Common Stock” and the “Preferred Stock.”\\n'\n",
            " '\\n'\n",
            " '“Change of Control” means (i)\\xa0a transaction or series of related '\n",
            " 'transactions in which any “person” or “group” (within the meaning of Section '\n",
            " '13(d) and 14(d) of the Securities Exchange Act of 1934, as amended), becomes '\n",
            " 'the “beneficial owner” (as defined in Rule 13d-3 under the Securities '\n",
            " 'Exchange Act of 1934, as amended), directly or indirectly, of more than 50% '\n",
            " 'of the outstanding voting securities of the Company having the right to vote '\n",
            " 'for the election of members of the Company’s board of directors, (ii)\\xa0any '\n",
            " 'reorganization, merger or consolidation of the Company, other than a '\n",
            " 'transaction or series of related transactions in which the holders of the '\n",
            " 'voting securities of the Company outstanding immediately prior to such '\n",
            " 'transaction or series of related transactions retain, immediately after such '\n",
            " 'transaction or series of related transactions, at least a majority of the '\n",
            " 'total voting power represented by the outstanding voting securities of the '\n",
            " 'Company or such other surviving or resulting entity or (iii)\\xa0a sale, '\n",
            " 'lease or other disposition of all or substantially all of the assets of the '\n",
            " 'Company.\\n'\n",
            " '\\n'\n",
            " '“Company Capitalization” is calculated as of immediately prior to the Equity '\n",
            " 'Financing and (without double-counting):\\n'\n",
            " '\\n'\n",
            " 'Includes all shares of Capital Stock issued and outstanding;\\n'\n",
            " '\\n'\n",
            " 'Includes all Converting Securities;\\n'\n",
            " '\\n'\n",
            " 'Includes all (i) issued and outstanding Options and (ii) Promised Options;\\n'\n",
            " '\\n'\n",
            " 'Includes the Unissued Option Pool; and\\n'\n",
            " '\\n'\n",
            " 'Excludes, notwithstanding the foregoing, any increases to the Unissued '\n",
            " 'Option Pool (except to the extent necessary to cover Promised Options that '\n",
            " 'exceed the Unissued Option Pool) in connection with the Equity Financing.\\n'\n",
            " '\\n'\n",
            " '“Converting Securities” includes this Safe and other convertible securities '\n",
            " 'issued by the Company, including but not limited to: (i) other Safes; (ii) '\n",
            " 'convertible promissory notes and other convertible debt instruments; and '\n",
            " '(iii) convertible securities that have the right to convert into shares of '\n",
            " 'Capital Stock.\\n'\n",
            " '\\n'\n",
            " '“Dissolution Event” means (i) a voluntary termination of operations, (ii) a '\n",
            " 'general assignment for the benefit of the Company’s creditors or (iii) any '\n",
            " 'other liquidation, dissolution or winding up of the Company (excluding a '\n",
            " 'Liquidity Event), whether voluntary or involuntary.\\n'\n",
            " '\\n'\n",
            " '“Dividend Amount” means, with respect to any date on which the Company pays '\n",
            " 'a dividend on its outstanding Common Stock, the amount of such dividend that '\n",
            " 'is paid per share of Common Stock multiplied by (x) the Purchase Amount '\n",
            " 'divided by (y) the Liquidity Price (treating the dividend date as a '\n",
            " 'Liquidity Event solely for purposes of calculating such Liquidity Price).\\n'\n",
            " '\\n'\n",
            " '“Equity Financing” means a bona fide transaction or series of transactions '\n",
            " 'with the principal purpose of raising capital, pursuant to which the Company '\n",
            " 'issues and sells Preferred Stock at a fixed valuation, including but not '\n",
            " 'limited to, a pre-money or post-money valuation.\\n'\n",
            " '\\n'\n",
            " '“Initial Public Offering” means the closing of the Company’s first firm '\n",
            " 'commitment underwritten initial public offering of Common Stock pursuant to '\n",
            " 'a registration statement filed under the Securities Act.\\n'\n",
            " '\\n'\n",
            " '“Liquidity Capitalization” is calculated as of immediately prior to the '\n",
            " 'Liquidity Event, and (without double- counting):\\n'\n",
            " '\\n'\n",
            " 'Includes all shares of Capital Stock issued and outstanding;\\n'\n",
            " '\\n'\n",
            " 'Includes all (i) issued and outstanding Options and (ii) to the extent '\n",
            " 'receiving Proceeds, Promised Options;\\n'\n",
            " '\\n'\n",
            " 'Includes all Converting Securities, other than any Safes and other '\n",
            " 'convertible securities (including without limitation shares of Preferred '\n",
            " 'Stock) where the holders of such securities are receiving Cash-Out Amounts '\n",
            " 'or similar liquidation preference payments in lieu of Conversion Amounts or '\n",
            " 'similar “as-converted” payments; and\\n'\n",
            " '\\n'\n",
            " 'Excludes the Unissued Option Pool.\\n'\n",
            " '\\n'\n",
            " '\\n'\n",
            " '\\n'\n",
            " '“Liquidity Event” means a Change of Control or an Initial Public Offering.\\n'\n",
            " '\\n'\n",
            " '“Liquidity Price” means the price per share equal to the Post-Money '\n",
            " 'Valuation Cap divided bythe Liquidity Capitalization.\\n'\n",
            " '\\n'\n",
            " '“Options” includes options, restricted stock awards or purchases, RSUs, '\n",
            " 'SARs, warrants or similar securities, vested or unvested.\\n'\n",
            " '\\n'\n",
            " '“Proceeds” means cash and other assets (including without limitation stock '\n",
            " 'consideration) that are proceeds from the Liquidity Event or the Dissolution '\n",
            " 'Event, as applicable, and legally available for distribution.\\n'\n",
            " '\\n'\n",
            " '“Promised Options” means promised but ungranted Options that are the greater '\n",
            " 'of those (i) promised pursuant to agreements or understandings made prior to '\n",
            " 'the execution of, or in connection with, the term sheet for the Equity '\n",
            " 'Financing (or the initial closing of the Equity Financing, if there is no '\n",
            " 'term sheet), or (ii) treated as outstanding Options in the calculation of '\n",
            " 'the Standard Preferred Stock’s price per share.\\n'\n",
            " '\\n'\n",
            " '“Safe” means an instrument containing a future right to shares of Capital '\n",
            " 'Stock, similar in form and content to this instrument, purchased by '\n",
            " 'investors for the purpose of funding the Company’s business operations. '\n",
            " 'References to “this Safe” mean this specific instrument.\\n'\n",
            " '\\n'\n",
            " '“SafePreferred Stock” means the shares of the series of Preferred Stock '\n",
            " 'issued to the Investor in an Equity Financing, having the identical rights, '\n",
            " 'privileges, preferences and restrictions as the shares of Standard Preferred '\n",
            " 'Stock, other than with respect to: (i) the per share liquidation preference '\n",
            " 'and the initial conversion price for purposes of price-based anti-dilution '\n",
            " 'protection, which will equal the Safe Price; and (ii) the basis for any '\n",
            " 'dividend rights, which will be based on the Safe Price.\\n'\n",
            " '\\n'\n",
            " '“Safe Price” means the price per share equal to the Post-Money Valuation Cap '\n",
            " 'divided by the Company Capitalization.\\n'\n",
            " '\\n'\n",
            " '“Standard Preferred Stock” means the shares of the series of Preferred Stock '\n",
            " 'issued to the investors investing new money in the Company in connection '\n",
            " 'with the initial closing of the Equity Financing.\\n'\n",
            " '\\n'\n",
            " '“Unissued Option Pool” means all shares of Capital Stock that are reserved, '\n",
            " 'available for future grant and not subject to any outstanding Options or '\n",
            " 'Promised Options (but in the case of a Liquidity Event, only to the extent '\n",
            " 'Proceeds are payable on such Promised Options) under any equity incentive or '\n",
            " 'similar Company plan.\\n',\n",
            " '3.Company Representations\\n'\n",
            " '\\n'\n",
            " '(a)The Company is a corporation duly organized, validly existing and in good '\n",
            " 'standing under the laws of its state of incorporation, and has the power and '\n",
            " 'authority to own, lease and operate its properties and carry on its business '\n",
            " 'as now conducted.\\n',\n",
            " '(b)The execution, delivery and performance by the Company of this Safe is '\n",
            " 'within the power of the Company and has been duly authorized by all '\n",
            " 'necessary actions on the part of the Company (subject to section 3(d)). This '\n",
            " 'Safe constitutes a legal, valid and binding obligation of the Company, '\n",
            " 'enforceable against the Company in accordance with its terms, except as '\n",
            " 'limited by bankruptcy, insolvency or other laws of general application '\n",
            " 'relating to or affecting the enforcement of creditors’ rights generally and '\n",
            " 'general principles of equity. To its knowledge, the Company is not in '\n",
            " 'violation of (i) its current certificate of incorporation or bylaws, (ii) '\n",
            " 'any material statute, rule or regulation applicable to the Company or (iii) '\n",
            " 'any material debt or contract to which the Company is a party or by which it '\n",
            " 'is bound, where, in each case, such violation or default, individually, or '\n",
            " 'together with all such violations or defaults, could reasonably be expected '\n",
            " 'to have a material adverse effect on the Company.\\n'\n",
            " '\\n'\n",
            " '(c)The performance and consummation of the transactions contemplated by this '\n",
            " 'Safe do not and will not: (i)\\xa0violate any material judgment, statute, '\n",
            " 'rule or regulation applicable to the Company; (ii)\\xa0result in the '\n",
            " 'acceleration of any material debt or contract to which the Company is a '\n",
            " 'party or by which it is bound; or (iii)\\xa0result in the creation or '\n",
            " 'imposition of any lien on any property, asset or revenue of the Company or '\n",
            " 'the suspension, forfeiture, or nonrenewal of any material permit, license or '\n",
            " 'authorization applicable to the Company, its business or operations.\\n',\n",
            " '(d)No consents or approvals are required in connection with the performance '\n",
            " 'of this Safe, other than: (i) the Company’s corporate approvals; (ii) any '\n",
            " 'qualifications or filings under applicable securities laws; and (iii) '\n",
            " 'necessary corporate approvals for the authorization of Capital Stock '\n",
            " 'issuable pursuant to Section 1.\\n'\n",
            " '\\n'\n",
            " '(e)To its knowledge, the Company owns or possesses (or can obtain on '\n",
            " 'commercially reasonable terms) sufficient legal rights to all patents, '\n",
            " 'trademarks, service marks, trade names, copyrights, trade secrets, licenses, '\n",
            " 'information, processes and other intellectual property rights necessary for '\n",
            " 'its business as now conducted and as currently proposed to be conducted, '\n",
            " 'without any conflict with, or infringement of the rights of, others.\\n',\n",
            " '4.Investor Representations\\n'\n",
            " '\\n'\n",
            " '(a)The Investor has full legal capacity, power and authority to execute and '\n",
            " 'deliver this Safe and to perform its obligations hereunder. This Safe '\n",
            " 'constitutes valid and binding obligation of the Investor, enforceable in '\n",
            " 'accordance with its terms, except as limited by bankruptcy, insolvency or '\n",
            " 'other laws of general application relating to or affecting the enforcement '\n",
            " 'of creditors’ rights generally and general principles of equity.\\n'\n",
            " '\\n'\n",
            " '(b)The Investor is an accredited investor as such term is defined in Rule\\xa0'\n",
            " '501 of Regulation\\xa0D under the Securities Act, and acknowledges and agrees '\n",
            " 'that if not an accredited investor at the time of an Equity Financing, the '\n",
            " 'Company may void this Safe and return the Purchase Amount. The Investor has '\n",
            " 'been advised that this Safe and the underlying securities have not been '\n",
            " 'registered under the Securities Act, or any state securities laws and, '\n",
            " 'therefore, cannot be resold unless they are registered under the Securities '\n",
            " 'Act and applicable state securities laws or unless an exemption from such '\n",
            " 'registration requirements is available. The Investor is purchasing this Safe '\n",
            " 'and the securities to be acquired by the Investor hereunder for its own '\n",
            " 'account for investment, not as a nominee or agent, and not with a view to, '\n",
            " 'or for resale in connection with, the distribution thereof, and the Investor '\n",
            " 'has no present intention of selling, granting any participation in, or '\n",
            " 'otherwise distributing the same. The Investor has such knowledge and '\n",
            " 'experience in financial and business matters that the Investor is capable of '\n",
            " 'evaluating the merits and risks of such investment, is able to incur a '\n",
            " 'complete loss of such investment without impairing the Investor’s financial '\n",
            " 'condition and is able to bear the economic risk of such investment for an '\n",
            " 'indefinite period of time.\\n',\n",
            " '5.Miscellaneous\\n',\n",
            " '(a)Any provision of this Safe may be amended, waived or modified by written '\n",
            " 'consent of the Company and either (i) the Investor or (ii) the '\n",
            " 'majority-in-interest of all then-outstanding Safes with the same “Post-Money '\n",
            " 'Valuation Cap” and “Discount Rate” as this Safe (and Safes lacking one or '\n",
            " 'both of such terms will be considered to be the same with respect to such '\n",
            " 'term(s)),provided that with respect to clause (ii): (A) the Purchase Amount '\n",
            " 'may not be amended, waived or modified in this manner, (B) the consent of '\n",
            " 'the Investor and each holder of such Safes must be solicited (even if not '\n",
            " 'obtained), and (C) such amendment, waiver or modification treats all such '\n",
            " 'holders in the same manner. “Majority-in-interest” refers to the holders of '\n",
            " 'the applicable group of Safes whose Safes have a total Purchase Amount '\n",
            " 'greater than 50% of the total Purchase Amount of all of such applicable '\n",
            " 'group of Safes.\\n',\n",
            " '(b)Any notice required or permitted by this Safe will be deemed sufficient '\n",
            " 'when delivered personally or by overnight courier or sent by email to the '\n",
            " 'relevant address listed on the signature page, or 48 hours after being '\n",
            " 'deposited in the U.S. mail as certified or registered mail with postage '\n",
            " 'prepaid, addressed to the party to be notified at such party’s address '\n",
            " 'listed on the signature page, as subsequently modified by written notice.\\n',\n",
            " '(c)The Investor is not entitled, as a holder of this Safe, to vote or be '\n",
            " 'deemed a holder of Capital Stock for any purpose other than tax purposes, '\n",
            " 'nor will anything in this Safe be construed to confer on the Investor, as '\n",
            " 'such, any rights of a Company stockholder or rights to vote for the election '\n",
            " 'of directors or on any matter submitted to Company stockholders, or to give '\n",
            " 'or withhold consent to any corporate action or to receive notice of '\n",
            " 'meetings, until shares have been issued on the terms described in Section '\n",
            " '1.However, if the Company pays a dividend on outstanding shares of Common '\n",
            " 'Stock (that is not payable in shares of Common Stock) while this Safe is '\n",
            " 'outstanding, the Company will pay the Dividend Amount to the Investor at the '\n",
            " 'same time.\\n'\n",
            " '\\n'\n",
            " '(d)Neither this Safe nor the rights in this Safe are transferable or '\n",
            " 'assignable, by operation of law or otherwise, by either party without the '\n",
            " 'prior written consent of the other;provided, however, that this Safe and/or '\n",
            " 'its rights may be assigned without the Company’s consent by the Investor to '\n",
            " 'any other entity who directly or indirectly, controls, is controlled by or '\n",
            " 'is under common control with the Investor, including, without limitation, '\n",
            " 'any general partner, managing member, officer or director of the Investor, '\n",
            " 'or any venture capital fund now or hereafter existing which is controlled by '\n",
            " 'one or more general partners or managing members of, or shares the same '\n",
            " 'management company with, the Investor; andprovided, further, that the '\n",
            " 'Company may assign this Safe in whole, without the consent of the Investor, '\n",
            " 'in connection with a reincorporation to change the Company’s domicile.\\n'\n",
            " '\\n'\n",
            " '(e)In the event any one or more of the provisions of this Safe is for any '\n",
            " 'reason held to be invalid, illegal or unenforceable, in whole or in part or '\n",
            " 'in any respect, or in the event that any one or more of the provisions of '\n",
            " 'this Safe operate or would prospectively operate to invalidate this Safe, '\n",
            " 'then and in any such event, such provision(s) only will be deemed null and '\n",
            " 'void and will not affect any other provision of this Safe and the remaining '\n",
            " 'provisions of this Safe will remain operative and in full force and effect '\n",
            " 'and will not be affected, prejudiced, or disturbed thereby.\\n'\n",
            " '\\n'\n",
            " '(f)All rights and obligations hereunder will be governed by the laws of the '\n",
            " 'State of [Governing Law Jurisdiction], without regard to the conflicts of '\n",
            " 'law provisions of such jurisdiction.\\n',\n",
            " '(g)The parties acknowledge and agree that for United States federal and '\n",
            " 'state income tax purposes this Safe is, and at all times has been, intended '\n",
            " 'to be characterized as stock, and more particularly as common stock for '\n",
            " 'purposes of Sections 304, 305, 306, 354, 368, 1036 and 1202 of the Internal '\n",
            " 'Revenue Code of 1986, as amended.Accordingly, the parties agree to treat '\n",
            " 'this Safe consistent with the foregoing intent for all United States federal '\n",
            " 'and state income tax purposes (including, without limitation, on their '\n",
            " 'respective tax returns or other informational statements).\\n'\n",
            " '\\n'\n",
            " '(Signature page follows)\\n'\n",
            " '\\n'\n",
            " 'IN WITNESS WHEREOF, the undersigned have caused this Safe to be duly '\n",
            " 'executed and delivered.\\n'\n",
            " '\\n'\n",
            " '\\n'\n",
            " '\\n'\n",
            " 'Anaxia\\n'\n",
            " '\\n'\n",
            " '\\n'\n",
            " '\\n'\n",
            " 'By: Psiayn\\n'\n",
            " '\\n'\n",
            " 'CEO of Anaxia\\n'\n",
            " '\\n'\n",
            " '\\n'\n",
            " '\\n'\n",
            " 'Address:reddit\\n'\n",
            " '\\n'\n",
            " 'Email:reddit@reddif.com\\n'\n",
            " '\\n'\n",
            " 'INVESTOR:\\n'\n",
            " '\\n'\n",
            " 'By:vegito blue\\n'\n",
            " '\\n'\n",
            " 'Name: Bob Marley\\n'\n",
            " '\\n'\n",
            " 'Title: Star Platinum \\n'\n",
            " '\\n'\n",
            " '\\n'\n",
            " '\\n'\n",
            " 'Address: Old Minasoda town\\n'\n",
            " '\\n'\n",
            " 'Email: dio@xyz.com']\n"
          ],
          "name": "stdout"
        }
      ]
    },
    {
      "cell_type": "code",
      "metadata": {
        "id": "hnk-c2Z4mTk3",
        "colab_type": "code",
        "outputId": "b47bc2aa-3132-4ecb-9e2f-4b56cd38c095",
        "colab": {
          "base_uri": "https://localhost:8080/",
          "height": 53
        }
      },
      "source": [
        "import lexnlp.nlp.en.transforms.tokens\n",
        "# print(dir(lexnlp.nlp.en.transforms.tokens))\n",
        "\n",
        "print(dict(lexnlp.nlp.en.transforms.tokens.get_bigram_distribution(text)))\n"
      ],
      "execution_count": 43,
      "outputs": [
        {
          "output_type": "stream",
          "text": [
            "{('THIS', 'INSTRUMENT'): 1, ('INSTRUMENT', 'AND'): 1, ('AND', 'ANY'): 1, ('ANY', 'SECURITIES'): 1, ('SECURITIES', 'ISSUABLE'): 1, ('ISSUABLE', 'PURSUANT'): 1, ('PURSUANT', 'HERETO'): 1, ('HERETO', 'HAVE'): 1, ('HAVE', 'NOT'): 1, ('NOT', 'BEEN'): 1, ('BEEN', 'REGISTERED'): 1, ('REGISTERED', 'UNDER'): 1, ('UNDER', 'THE'): 3, ('THE', 'SECURITIES'): 2, ('SECURITIES', 'ACT'): 2, ('ACT', 'OF'): 1, ('OF', '1933'): 1, ('1933', ','): 1, (',', 'AS'): 1, ('AS', 'AMENDED'): 1, ('AMENDED', '('): 1, ('(', 'THE'): 1, ('THE', '“'): 1, ('“', 'SECURITIES'): 1, ('ACT', '”'): 1, ('”', ')'): 5, (')', ','): 7, (',', 'OR'): 1, ('OR', 'UNDER'): 1, ('SECURITIES', 'LAWS'): 2, ('LAWS', 'OF'): 1, ('OF', 'CERTAIN'): 1, ('CERTAIN', 'STATES.THESE'): 1, ('STATES.THESE', 'SECURITIES'): 1, ('SECURITIES', 'MAY'): 1, ('MAY', 'NOT'): 1, ('NOT', 'BE'): 1, ('BE', 'OFFERED'): 1, ('OFFERED', ','): 1, (',', 'SOLD'): 1, ('SOLD', 'OR'): 1, ('OR', 'OTHERWISE'): 1, ('OTHERWISE', 'TRANSFERRED'): 1, ('TRANSFERRED', ','): 1, (',', 'PLEDGED'): 1, ('PLEDGED', 'OR'): 1, ('OR', 'HYPOTHECATED'): 1, ('HYPOTHECATED', 'EXCEPT'): 1, ('EXCEPT', 'AS'): 1, ('AS', 'PERMITTED'): 1, ('PERMITTED', 'IN'): 1, ('IN', 'THIS'): 1, ('THIS', 'SAFE'): 1, ('SAFE', 'AND'): 1, ('AND', 'UNDER'): 1, ('THE', 'ACT'): 1, ('ACT', 'AND'): 1, ('AND', 'APPLICABLE'): 1, ('APPLICABLE', 'STATE'): 1, ('STATE', 'SECURITIES'): 1, ('LAWS', 'PURSUANT'): 1, ('PURSUANT', 'TO'): 1, ('TO', 'AN'): 1, ('AN', 'EFFECTIVE'): 1, ('EFFECTIVE', 'REGISTRATION'): 1, ('REGISTRATION', 'STATEMENT'): 1, ('STATEMENT', 'OR'): 1, ('OR', 'AN'): 1, ('AN', 'EXEMPTION'): 1, ('EXEMPTION', 'THEREFROM.'): 1, ('THEREFROM.', '['): 1, ('[', 'Company'): 1, ('Company', 'Name'): 1, ('Name', ']'): 1, (']', 'SAFE'): 1, ('SAFE', '('): 1, ('(', 'Simple'): 1, ('Simple', 'Agreement'): 1, ('Agreement', 'for'): 1, ('for', 'Future'): 1, ('Future', 'Equity'): 1, ('Equity', ')'): 1, (')', 'THIS'): 1, ('THIS', 'CERTIFIES'): 1, ('CERTIFIES', 'THAT'): 1, ('THAT', 'in'): 1, ('in', 'exchange'): 1, ('exchange', 'for'): 1, ('for', 'the'): 8, ('the', 'payment'): 2, ('payment', 'by'): 1, ('by', 'Bob'): 1, ('Bob', 'Marley'): 2, ('Marley', '('): 1, ('(', 'the'): 4, ('the', '“'): 7, ('“', 'Investor'): 1, ('Investor', '”'): 1, (')', 'of'): 2, ('of', '$'): 1, ('$', '1000000'): 1, ('1000000', '('): 1, ('“', 'Purchase'): 1, ('Purchase', 'Amount'): 9, ('Amount', '”'): 4, (')', 'on'): 2, ('on', 'or'): 1, ('or', 'about'): 1, ('about', '19-02-2022'): 1, ('19-02-2022', ','): 1, (',', 'Anaxia'): 1, ('Anaxia', ','): 1, (',', 'a'): 2, ('a', 'space'): 1, ('space', 'corporation'): 1, ('corporation', 'tesla'): 1, ('tesla', ','): 1, (',', 'issues'): 1, ('issues', 'to'): 1, ('to', 'the'): 43, ('the', 'Investor'): 32, ('Investor', 'the'): 1, ('the', 'right'): 3, ('right', 'to'): 6, ('to', 'certain'): 1, ('certain', 'shares'): 1, ('shares', 'of'): 16, ('of', 'the'): 46, ('the', 'Company'): 43, ('Company', '’'): 10, ('’', 's'): 16, ('s', 'Capital'): 1, ('Capital', 'Stock'): 10, ('Stock', ','): 8, (',', 'subject'): 1, ('subject', 'to'): 3, ('the', 'terms'): 2, ('terms', 'described'): 2, ('described', 'below.'): 1, ('below.', 'This'): 1, ('This', 'Safe'): 4, ('Safe', 'is'): 6, ('is', 'one'): 1, ('one', 'of'): 1, ('the', 'forms'): 1, ('forms', 'available'): 1, ('available', 'at'): 1, ('at', 'http'): 1, ('http', ':'): 1, (':', '//ycombinator.com/documents'): 1, ('//ycombinator.com/documents', 'and'): 1, ('and', 'the'): 8, ('Company', 'and'): 3, ('Investor', 'agree'): 1, ('agree', 'that'): 2, ('that', 'neither'): 1, ('neither', 'one'): 1, ('one', 'has'): 1, ('has', 'modified'): 1, ('modified', 'the'): 1, ('the', 'form'): 2, ('form', ','): 1, (',', 'except'): 3, ('except', 'to'): 2, ('to', 'fill'): 1, ('fill', 'in'): 1, ('in', 'blanks'): 1, ('blanks', 'and'): 1, ('and', 'bracketed'): 1, ('bracketed', 'terms.'): 1, ('terms.', 'The'): 1, ('The', '“'): 1, ('“', 'Post-Money'): 2, ('Post-Money', 'Valuation'): 4, ('Valuation', 'Cap'): 4, ('Cap', '”'): 2, ('”', 'is'): 3, ('is', '$'): 1, ('$', '100000.'): 1, ('100000.', 'See'): 1, ('See', 'Section'): 1, ('Section', '2for'): 1, ('2for', 'certain'): 1, ('certain', 'additional'): 1, ('additional', 'defined'): 1, ('defined', 'terms.'): 1, ('terms.', '1.Events'): 1, ('1.Events', '('): 1, ('(', 'a'): 5, ('a', ')'): 5, (')', 'Equity'): 1, ('Equity', 'Financing.'): 3, ('Financing.', 'If'): 1, ('If', 'there'): 3, ('there', 'is'): 4, ('is', 'an'): 2, ('an', 'Equity'): 3, ('Equity', 'Financing'): 9, ('Financing', 'before'): 1, ('before', 'the'): 3, ('the', 'termination'): 3, ('termination', 'of'): 4, ('of', 'this'): 13, ('this', 'Safe'): 36, ('Safe', ','): 6, (',', 'on'): 2, ('on', 'the'): 10, ('the', 'initial'): 4, ('initial', 'closing'): 3, ('closing', 'of'): 4, ('of', 'such'): 11, ('such', 'Equity'): 1, ('Financing', ','): 4, (',', 'this'): 3, ('Safe', 'will'): 5, ('will', 'automatically'): 4, ('automatically', 'convert'): 1, ('convert', 'into'): 2, ('into', 'the'): 1, ('the', 'greater'): 3, ('greater', 'of'): 3, ('of', ':'): 2, (':', '('): 8, ('(', '1'): 1, ('1', ')'): 1, (')', 'the'): 15, ('the', 'number'): 3, ('number', 'of'): 3, ('of', 'shares'): 3, ('of', 'Standard'): 4, ('Standard', 'Preferred'): 7, ('Preferred', 'Stock'): 18, ('Stock', 'equal'): 3, ('equal', 'to'): 7, ('the', 'Purchase'): 7, ('Amount', 'divided'): 4, ('divided', 'by'): 5, ('by', 'the'): 11, ('the', 'lowest'): 1, ('lowest', 'price'): 1, ('price', 'per'): 4, ('per', 'share'): 5, ('share', 'of'): 2, ('the', 'Standard'): 2, ('Stock', ';'): 1, (';', 'or'): 3, ('or', '('): 9, ('(', '2'): 1, ('2', ')'): 1, ('of', 'Safe'): 1, ('Safe', 'Preferred'): 3, ('the', 'Safe'): 4, ('Safe', 'Price.'): 2, ('Price.', 'In'): 1, ('In', 'connection'): 1, ('connection', 'with'): 8, ('with', 'the'): 9, ('the', 'automatic'): 2, ('automatic', 'conversion'): 2, ('conversion', 'of'): 2, ('Safe', 'into'): 1, ('into', 'shares'): 2, ('Stock', 'or'): 1, ('or', 'Safe'): 1, (',', 'the'): 17, ('Investor', 'will'): 3, ('will', 'execute'): 1, ('execute', 'and'): 2, ('and', 'deliver'): 2, ('deliver', 'to'): 1, ('Company', 'all'): 1, ('all', 'of'): 3, ('the', 'transaction'): 1, ('transaction', 'documents'): 1, ('documents', 'related'): 1, ('related', 'to'): 1, ('the', 'Equity'): 6, ('Financing', ';'): 1, (';', 'provided'): 2, ('provided', ','): 2, (',', 'that'): 4, ('that', 'such'): 3, ('such', 'documents'): 2, ('documents', 'are'): 1, ('are', 'the'): 2, ('the', 'same'): 8, ('same', 'documents'): 1, ('documents', 'to'): 1, ('to', 'be'): 9, ('be', 'entered'): 1, ('entered', 'into'): 1, ('into', 'with'): 1, ('the', 'purchasers'): 1, ('purchasers', 'of'): 1, (',', 'with'): 2, ('with', 'appropriate'): 1, ('appropriate', 'variations'): 1, ('variations', 'for'): 1, ('Stock', 'if'): 1, ('if', 'applicable'): 1, ('applicable', ','): 2, (',', 'and'): 12, ('and', 'provided'): 1, ('provided', 'further'): 1, ('further', ','): 2, ('documents', 'have'): 1, ('have', 'customary'): 1, ('customary', 'exceptions'): 1, ('exceptions', 'to'): 1, ('to', 'any'): 5, ('any', 'drag-along'): 1, ('drag-along', 'applicable'): 1, ('applicable', 'to'): 5, ('Investor', ','): 6, (',', 'including'): 6, ('including', ','): 4, (',', 'without'): 7, ('without', 'limitation'): 6, ('limitation', ','): 4, (',', 'limited'): 1, ('limited', 'representations'): 1, ('representations', 'and'): 1, ('and', 'warranties'): 1, ('warranties', 'and'): 1, ('and', 'limited'): 1, ('limited', 'liability'): 1, ('liability', 'and'): 1, ('and', 'indemnification'): 1, ('indemnification', 'obligations'): 1, ('obligations', 'on'): 1, ('the', 'part'): 2, ('part', 'of'): 2, ('the', 'Investor.'): 1, ('Investor.', '('): 1, ('(', 'b'): 5, ('b', ')'): 5, (')', 'Liquidity'): 1, ('Liquidity', 'Event.'): 1, ('Event.', 'If'): 2, ('is', 'a'): 5, ('a', 'Liquidity'): 6, ('Liquidity', 'Event'): 10, ('Event', 'before'): 2, ('automatically', 'be'): 2, ('be', 'entitled'): 2, ('entitled', 'to'): 2, ('to', 'receive'): 7, ('receive', 'a'): 3, ('a', 'portion'): 2, ('portion', 'of'): 3, ('of', 'Proceeds'): 4, ('Proceeds', ','): 2, (',', 'due'): 2, ('due', 'and'): 2, ('and', 'payable'): 2, ('payable', 'to'): 4, ('Investor', 'immediately'): 2, ('immediately', 'prior'): 5, ('prior', 'to'): 6, ('to', ','): 3, (',', 'or'): 17, ('or', 'concurrent'): 1, ('concurrent', 'with'): 1, ('with', ','): 5, ('the', 'consummation'): 2, ('consummation', 'of'): 3, ('such', 'Liquidity'): 2, ('Event', ','): 6, (',', 'equal'): 1, ('of', '('): 2, ('(', 'i'): 15, ('i', ')'): 15, ('Amount', '('): 1, ('“', 'Cash-Out'): 1, ('Cash-Out', 'Amount'): 3, (')', 'or'): 2, ('(', 'ii'): 16, ('ii', ')'): 16, ('the', 'amount'): 3, ('amount', 'payable'): 1, ('payable', 'on'): 2, ('of', 'Common'): 5, ('Common', 'Stock'): 9, ('the', 'Liquidity'): 4, ('Liquidity', 'Price'): 4, ('Price', '('): 2, ('“', 'Conversion'): 1, ('Conversion', 'Amount'): 2, (')', '.If'): 1, ('.If', 'any'): 1, ('any', 'of'): 1, ('s', 'securityholders'): 2, ('securityholders', 'are'): 1, ('are', 'given'): 1, ('given', 'a'): 1, ('a', 'choice'): 1, ('choice', 'as'): 1, ('as', 'to'): 1, ('form', 'and'): 2, ('and', 'amount'): 1, ('amount', 'of'): 2, ('Proceeds', 'to'): 1, ('be', 'received'): 1, ('received', 'in'): 1, ('in', 'a'): 1, ('will', 'be'): 7, ('be', 'given'): 1, ('given', 'the'): 1, ('same', 'choice'): 1, ('choice', ','): 1, (',', 'provided'): 3, ('provided', 'that'): 3, ('that', 'the'): 4, ('Investor', 'may'): 1, ('may', 'not'): 2, ('not', 'choose'): 1, ('choose', 'to'): 1, ('a', 'form'): 1, ('form', 'of'): 1, ('of', 'consideration'): 1, ('consideration', 'that'): 1, ('Investor', 'would'): 1, ('would', 'be'): 1, ('be', 'ineligible'): 1, ('ineligible', 'to'): 1, ('receive', 'as'): 1, ('as', 'a'): 6, ('a', 'result'): 1, ('result', 'of'): 1, ('Investor', '’'): 4, ('s', 'failure'): 1, ('failure', 'to'): 1, ('to', 'satisfy'): 1, ('satisfy', 'any'): 1, ('any', 'requirement'): 1, ('requirement', 'or'): 1, ('or', 'limitation'): 1, ('limitation', 'generally'): 1, ('generally', 'applicable'): 1, ('securityholders', ','): 1, ('or', 'under'): 1, ('under', 'any'): 2, ('any', 'applicable'): 1, ('applicable', 'laws.'): 1, ('laws.', 'Notwithstanding'): 1, ('Notwithstanding', 'the'): 1, ('the', 'foregoing'): 3, ('foregoing', ','): 2, (',', 'in'): 4, ('in', 'connection'): 7, ('with', 'a'): 3, ('a', 'Change'): 2, ('Change', 'of'): 4, ('of', 'Control'): 4, ('Control', 'intended'): 1, ('intended', 'to'): 3, ('to', 'qualify'): 2, ('qualify', 'as'): 2, ('a', 'tax-free'): 2, ('tax-free', 'reorganization'): 2, ('reorganization', ','): 2, ('Company', 'may'): 3, ('may', 'reduce'): 1, ('reduce', 'the'): 2, ('the', 'cash'): 1, ('cash', 'portion'): 1, ('Proceeds', 'payable'): 2, ('Investor', 'by'): 1, ('amount', 'determined'): 1, ('determined', 'by'): 1, ('by', 'its'): 1, ('its', 'board'): 1, ('board', 'of'): 2, ('of', 'directors'): 3, ('directors', 'in'): 1, ('in', 'good'): 2, ('good', 'faith'): 1, ('faith', 'for'): 1, ('for', 'such'): 1, ('such', 'Change'): 1, ('Control', 'to'): 1, ('reorganization', 'for'): 1, ('for', 'U.S.'): 1, ('U.S.', 'federal'): 1, ('federal', 'income'): 1, ('income', 'tax'): 3, ('tax', 'purposes'): 4, ('purposes', ','): 2, ('such', 'reduction'): 1, ('reduction', '('): 1, ('(', 'A'): 3, ('A', ')'): 3, (')', 'does'): 1, ('does', 'not'): 1, ('not', 'reduce'): 1, ('the', 'total'): 3, ('total', 'Proceeds'): 1, ('to', 'such'): 3, ('such', 'Investor'): 1, ('Investor', 'and'): 4, ('and', '('): 12, ('(', 'B'): 3, ('B', ')'): 3, (')', 'is'): 1, ('is', 'applied'): 1, ('applied', 'in'): 1, ('in', 'the'): 10, ('same', 'manner'): 1, ('manner', 'and'): 1, ('and', 'on'): 1, ('on', 'a'): 2, ('a', 'pro'): 1, ('pro', 'rata'): 2, ('rata', 'basis'): 1, ('basis', 'to'): 1, ('to', 'all'): 2, ('all', 'securityholders'): 1, ('securityholders', 'who'): 1, ('who', 'have'): 1, ('have', 'equal'): 1, ('equal', 'priority'): 1, ('priority', 'to'): 1, ('Investor', 'under'): 1, ('under', 'Section'): 2, ('Section', '1'): 4, ('1', '('): 4, ('(', 'd'): 7, ('d', ')'): 7, (')', '.'): 6, ('.', '('): 3, ('(', 'c'): 4, ('c', ')'): 4, (')', 'Dissolution'): 1, ('Dissolution', 'Event.'): 2, ('a', 'Dissolution'): 1, ('Dissolution', 'Event'): 4, ('Proceeds', 'equal'): 1, ('the', 'Cash-Out'): 1, ('Amount', ','): 1, ('the', 'Dissolution'): 2, ('Event.', '('): 1, (')', 'Liquidation'): 1, ('Liquidation', 'Priority.'): 1, ('Priority.', 'In'): 1, ('In', 'a'): 1, ('Event', 'or'): 2, ('or', 'Dissolution'): 1, ('is', 'intended'): 1, ('to', 'operate'): 1, ('operate', 'like'): 1, ('like', 'standard'): 1, ('standard', 'non-participating'): 1, ('non-participating', 'Preferred'): 1, ('Preferred', 'Stock.'): 2, ('Stock.', 'The'): 2, ('The', 'Investor'): 8, ('s', 'right'): 2, ('receive', 'its'): 2, ('its', 'Cash-Out'): 1, ('Amount', 'is'): 2, ('is', ':'): 1, (')', 'Junior'): 1, ('Junior', 'to'): 1, ('to', 'payment'): 1, ('payment', 'of'): 1, ('of', 'outstanding'): 1, ('outstanding', 'indebtedness'): 1, ('indebtedness', 'and'): 1, ('and', 'creditor'): 1, ('creditor', 'claims'): 1, ('claims', ','): 1, ('including', 'contractual'): 1, ('contractual', 'claims'): 1, ('claims', 'for'): 1, ('for', 'payment'): 2, ('payment', 'and'): 1, ('and', 'convertible'): 1, ('convertible', 'promissory'): 3, ('promissory', 'notes'): 3, ('notes', '('): 1, ('(', 'to'): 1, ('the', 'extent'): 5, ('extent', 'such'): 2, ('such', 'convertible'): 1, ('notes', 'are'): 1, ('are', 'not'): 1, ('not', 'actually'): 1, ('actually', 'or'): 1, ('or', 'notionally'): 1, ('notionally', 'converted'): 1, ('converted', 'into'): 1, ('into', 'Capital'): 1, ('Stock', ')'): 3, (')', ';'): 2, (';', '('): 4, (')', 'On'): 1, ('On', 'par'): 1, ('par', 'with'): 2, ('with', 'payments'): 2, ('payments', 'for'): 3, ('for', 'other'): 1, ('other', 'Safes'): 5, ('Safes', 'and/or'): 4, ('and/or', 'Preferred'): 4, ('and', 'if'): 1, ('if', 'the'): 2, ('the', 'applicable'): 3, ('applicable', 'Proceeds'): 2, ('Proceeds', 'are'): 2, ('are', 'insufficient'): 1, ('insufficient', 'to'): 1, ('to', 'permit'): 1, ('permit', 'full'): 1, ('full', 'payments'): 2, ('payments', 'to'): 1, ('and', 'such'): 2, ('such', 'other'): 3, ('Proceeds', 'will'): 1, ('be', 'distributed'): 1, ('distributed', 'pro'): 1, ('rata', 'to'): 1, ('Stock', 'in'): 1, ('in', 'proportion'): 1, ('proportion', 'to'): 1, ('the', 'full'): 1, ('payments', 'that'): 1, ('that', 'would'): 1, ('would', 'otherwise'): 1, ('otherwise', 'be'): 1, ('be', 'due'): 1, ('due', ';'): 1, (';', 'and'): 6, ('(', 'iii'): 7, ('iii', ')'): 7, (')', 'Senior'): 1, ('Senior', 'to'): 1, ('to', 'payments'): 2, ('for', 'Common'): 2, ('Common', 'Stock.'): 1, ('its', 'Conversion'): 1, ('is', '('): 1, ('on', 'par'): 1, ('Stock', 'and'): 1, ('and', 'other'): 6, ('Stock', 'who'): 1, ('who', 'are'): 1, ('are', 'also'): 1, ('also', 'receiving'): 1, ('receiving', 'Conversion'): 1, ('Conversion', 'Amounts'): 2, ('Amounts', 'or'): 4, ('or', 'Proceeds'): 1, ('Proceeds', 'on'): 1, ('a', 'similar'): 1, ('similar', 'as-converted'): 1, ('as-converted', 'to'): 1, ('to', 'Common'): 1, ('Stock', 'basis'): 1, ('basis', ','): 1, (')', 'junior'): 1, ('junior', 'to'): 1, ('payments', 'described'): 1, ('described', 'in'): 2, ('in', 'clauses'): 1, ('clauses', '('): 1, (')', 'and'): 2, (')', 'above'): 1, ('above', '('): 1, ('(', 'in'): 1, ('the', 'latter'): 1, ('latter', 'case'): 1, ('case', ','): 2, (',', 'to'): 2, ('such', 'payments'): 1, ('payments', 'are'): 1, ('are', 'Cash-Out'): 1, ('Cash-Out', 'Amounts'): 2, ('or', 'similar'): 5, ('similar', 'liquidation'): 2, ('liquidation', 'preferences'): 1, ('preferences', ')'): 1, ('(', 'e'): 3, ('e', ')'): 3, (')', 'Termination.'): 1, ('Termination.', 'This'): 1, ('automatically', 'terminate'): 1, ('terminate', '('): 1, ('(', 'without'): 3, ('without', 'relieving'): 1, ('relieving', 'the'): 1, ('Company', 'of'): 2, ('of', 'any'): 4, ('any', 'obligations'): 1, ('obligations', 'arising'): 1, ('arising', 'from'): 1, ('from', 'a'): 1, ('a', 'prior'): 1, ('prior', 'breach'): 1, ('breach', 'of'): 1, ('of', 'or'): 1, ('or', 'non-compliance'): 1, ('non-compliance', 'with'): 1, ('with', 'this'): 1, ('Safe', ')'): 1, (')', 'immediately'): 1, ('immediately', 'following'): 1, ('following', 'the'): 1, ('the', 'earliest'): 1, ('earliest', 'to'): 1, ('to', 'occur'): 1, ('occur', 'of'): 1, ('the', 'issuance'): 1, ('issuance', 'of'): 1, ('of', 'Capital'): 8, ('Stock', 'to'): 1, ('Investor', 'pursuant'): 2, ('pursuant', 'to'): 6, ('Safe', 'under'): 1, ('payment', ','): 2, ('or', 'setting'): 1, ('setting', 'aside'): 1, ('aside', 'for'): 1, (',', 'of'): 2, ('of', 'amounts'): 1, ('amounts', 'due'): 1, ('due', 'the'): 1, ('to', 'Section'): 2, ('or', 'Section'): 1, ('.', '2.Definitions'): 1, ('2.Definitions', '“'): 1, ('“', 'Capital'): 1, ('Stock', '”'): 4, ('”', 'means'): 15, ('means', 'the'): 6, ('the', 'capital'): 1, ('capital', 'stock'): 1, ('stock', 'of'): 1, ('Company', ','): 5, ('“', 'Common'): 1, ('”', 'and'): 2, ('“', 'Preferred'): 1, ('Stock.', '”'): 1, ('”', '“'): 1, ('“', 'Change'): 1, ('Control', '”'): 1, ('means', '('): 2, (')', 'a'): 4, ('a', 'transaction'): 2, ('transaction', 'or'): 5, ('or', 'series'): 5, ('series', 'of'): 7, ('of', 'related'): 4, ('related', 'transactions'): 4, ('transactions', 'in'): 2, ('in', 'which'): 2, ('which', 'any'): 1, ('any', '“'): 1, ('“', 'person'): 1, ('person', '”'): 1, ('”', 'or'): 1, ('or', '“'): 1, ('“', 'group'): 1, ('group', '”'): 1, ('”', '('): 2, ('(', 'within'): 1, ('within', 'the'): 2, ('the', 'meaning'): 1, ('meaning', 'of'): 1, ('of', 'Section'): 1, ('Section', '13'): 1, ('13', '('): 1, ('and', '14'): 1, ('14', '('): 1, ('the', 'Securities'): 6, ('Securities', 'Exchange'): 2, ('Exchange', 'Act'): 2, ('Act', 'of'): 2, ('of', '1934'): 2, ('1934', ','): 2, (',', 'as'): 7, ('as', 'amended'): 2, ('amended', ')'): 2, (',', 'becomes'): 1, ('becomes', 'the'): 1, ('“', 'beneficial'): 1, ('beneficial', 'owner'): 1, ('owner', '”'): 1, ('(', 'as'): 1, ('as', 'defined'): 1, ('defined', 'in'): 2, ('in', 'Rule'): 2, ('Rule', '13d-3'): 1, ('13d-3', 'under'): 1, ('under', 'the'): 6, (',', 'directly'): 1, ('directly', 'or'): 2, ('or', 'indirectly'): 2, ('indirectly', ','): 2, ('of', 'more'): 1, ('more', 'than'): 1, ('than', '50'): 2, ('50', '%'): 2, ('%', 'of'): 2, ('the', 'outstanding'): 2, ('outstanding', 'voting'): 2, ('voting', 'securities'): 3, ('securities', 'of'): 3, ('Company', 'having'): 1, ('having', 'the'): 2, ('to', 'vote'): 3, ('vote', 'for'): 2, ('the', 'election'): 2, ('election', 'of'): 2, ('of', 'members'): 1, ('members', 'of'): 2, ('s', 'board'): 1, ('directors', ','): 1, (',', '('): 4, (')', 'any'): 5, ('any', 'reorganization'): 1, (',', 'merger'): 1, ('merger', 'or'): 1, ('or', 'consolidation'): 1, ('consolidation', 'of'): 1, (',', 'other'): 4, ('other', 'than'): 5, ('than', 'a'): 1, ('which', 'the'): 5, ('the', 'holders'): 3, ('holders', 'of'): 3, ('the', 'voting'): 1, ('Company', 'outstanding'): 1, ('outstanding', 'immediately'): 1, ('such', 'transaction'): 2, ('transactions', 'retain'): 1, ('retain', ','): 1, (',', 'immediately'): 1, ('immediately', 'after'): 1, ('after', 'such'): 1, ('transactions', ','): 1, (',', 'at'): 1, ('at', 'least'): 1, ('least', 'a'): 1, ('a', 'majority'): 1, ('majority', 'of'): 1, ('total', 'voting'): 1, ('voting', 'power'): 1, ('power', 'represented'): 1, ('represented', 'by'): 1, ('Company', 'or'): 3, ('or', 'such'): 1, ('other', 'surviving'): 1, ('surviving', 'or'): 1, ('or', 'resulting'): 1, ('resulting', 'entity'): 1, ('entity', 'or'): 1, ('a', 'sale'): 1, ('sale', ','): 1, (',', 'lease'): 2, ('lease', 'or'): 1, ('or', 'other'): 4, ('other', 'disposition'): 1, ('disposition', 'of'): 1, ('of', 'all'): 3, ('all', 'or'): 1, ('or', 'substantially'): 1, ('substantially', 'all'): 1, ('the', 'assets'): 1, ('assets', 'of'): 1, ('the', 'Company.'): 2, ('Company.', '“'): 1, ('“', 'Company'): 1, ('Company', 'Capitalization'): 1, ('Capitalization', '”'): 2, ('is', 'calculated'): 2, ('calculated', 'as'): 2, ('as', 'of'): 2, ('of', 'immediately'): 2, ('Financing', 'and'): 1, ('without', 'double-counting'): 1, ('double-counting', ')'): 1, (')', ':'): 3, (':', 'Includes'): 2, ('Includes', 'all'): 6, ('all', 'shares'): 3, ('Stock', 'issued'): 4, ('issued', 'and'): 4, ('and', 'outstanding'): 4, ('outstanding', ';'): 2, (';', 'Includes'): 5, ('all', 'Converting'): 2, ('Converting', 'Securities'): 3, ('Securities', ';'): 1, ('all', '('): 2, (')', 'issued'): 2, ('outstanding', 'Options'): 4, ('Options', 'and'): 2, (')', 'Promised'): 1, ('Promised', 'Options'): 6, ('Options', ';'): 2, ('Includes', 'the'): 1, ('the', 'Unissued'): 4, ('Unissued', 'Option'): 5, ('Option', 'Pool'): 4, ('Pool', ';'): 1, ('and', 'Excludes'): 2, ('Excludes', ','): 1, (',', 'notwithstanding'): 1, ('notwithstanding', 'the'): 1, (',', 'any'): 3, ('any', 'increases'): 1, ('increases', 'to'): 1, ('Pool', '('): 1, ('(', 'except'): 1, ('extent', 'necessary'): 1, ('necessary', 'to'): 1, ('to', 'cover'): 1, ('cover', 'Promised'): 1, ('Options', 'that'): 2, ('that', 'exceed'): 1, ('exceed', 'the'): 1, ('Pool', ')'): 1, (')', 'in'): 1, ('Financing.', '“'): 2, ('“', 'Converting'): 1, ('Securities', '”'): 1, ('”', 'includes'): 2, ('includes', 'this'): 1, ('Safe', 'and'): 6, ('other', 'convertible'): 3, ('convertible', 'securities'): 3, ('securities', 'issued'): 1, ('issued', 'by'): 1, ('including', 'but'): 2, ('but', 'not'): 2, ('not', 'limited'): 2, ('limited', 'to'): 2, ('to', ':'): 2, (')', 'other'): 1, ('Safes', ';'): 1, (')', 'convertible'): 2, ('notes', 'and'): 1, ('convertible', 'debt'): 1, ('debt', 'instruments'): 1, ('instruments', ';'): 1, ('securities', 'that'): 1, ('that', 'have'): 1, ('have', 'the'): 1, ('to', 'convert'): 1, ('Capital', 'Stock.'): 1, ('Stock.', '“'): 1, ('“', 'Dissolution'): 1, ('Event', '”'): 2, ('a', 'voluntary'): 1, ('voluntary', 'termination'): 1, ('of', 'operations'): 1, ('operations', ','): 1, ('a', 'general'): 1, ('general', 'assignment'): 1, ('assignment', 'for'): 1, ('the', 'benefit'): 1, ('benefit', 'of'): 1, ('s', 'creditors'): 1, ('creditors', 'or'): 1, ('any', 'other'): 3, ('other', 'liquidation'): 1, ('liquidation', ','): 1, (',', 'dissolution'): 1, ('dissolution', 'or'): 1, ('or', 'winding'): 1, ('winding', 'up'): 1, ('up', 'of'): 1, ('Company', '('): 2, ('(', 'excluding'): 1, ('excluding', 'a'): 1, ('Event', ')'): 1, (',', 'whether'): 1, ('whether', 'voluntary'): 1, ('voluntary', 'or'): 1, ('or', 'involuntary.'): 1, ('involuntary.', '“'): 1, ('“', 'Dividend'): 1, ('Dividend', 'Amount'): 2, ('means', ','): 1, ('with', 'respect'): 4, ('respect', 'to'): 4, ('any', 'date'): 1, ('date', 'on'): 1, ('on', 'which'): 1, ('Company', 'pays'): 2, ('pays', 'a'): 2, ('a', 'dividend'): 2, ('dividend', 'on'): 2, ('on', 'its'): 2, ('its', 'outstanding'): 1, ('outstanding', 'Common'): 1, ('such', 'dividend'): 1, ('dividend', 'that'): 1, ('that', 'is'): 2, ('is', 'paid'): 1, ('paid', 'per'): 1, ('Stock', 'multiplied'): 1, ('multiplied', 'by'): 1, ('by', '('): 2, ('(', 'x'): 1, ('x', ')'): 1, ('(', 'y'): 1, ('y', ')'): 1, ('(', 'treating'): 1, ('treating', 'the'): 1, ('the', 'dividend'): 1, ('dividend', 'date'): 1, ('date', 'as'): 1, ('Event', 'solely'): 1, ('solely', 'for'): 1, ('for', 'purposes'): 3, ('purposes', 'of'): 3, ('of', 'calculating'): 1, ('calculating', 'such'): 1, ('Price', ')'): 1, ('.', '“'): 1, ('“', 'Equity'): 1, ('Financing', '”'): 1, ('means', 'a'): 2, ('a', 'bona'): 1, ('bona', 'fide'): 1, ('fide', 'transaction'): 1, ('of', 'transactions'): 1, ('transactions', 'with'): 1, ('the', 'principal'): 1, ('principal', 'purpose'): 1, ('purpose', 'of'): 2, ('of', 'raising'): 1, ('raising', 'capital'): 1, ('capital', ','): 1, (',', 'pursuant'): 1, ('to', 'which'): 3, ('Company', 'issues'): 1, ('issues', 'and'): 1, ('and', 'sells'): 1, ('sells', 'Preferred'): 1, ('Stock', 'at'): 1, ('at', 'a'): 1, ('a', 'fixed'): 1, ('fixed', 'valuation'): 1, ('valuation', ','): 1, ('a', 'pre-money'): 1, ('pre-money', 'or'): 1, ('or', 'post-money'): 1, ('post-money', 'valuation.'): 1, ('valuation.', '“'): 1, ('“', 'Initial'): 1, ('Initial', 'Public'): 2, ('Public', 'Offering'): 1, ('Offering', '”'): 1, ('the', 'closing'): 1, ('s', 'first'): 1, ('first', 'firm'): 1, ('firm', 'commitment'): 1, ('commitment', 'underwritten'): 1, ('underwritten', 'initial'): 1, ('initial', 'public'): 1, ('public', 'offering'): 1, ('offering', 'of'): 1, ('Stock', 'pursuant'): 1, ('to', 'a'): 1, ('a', 'registration'): 1, ('registration', 'statement'): 1, ('statement', 'filed'): 1, ('filed', 'under'): 1, ('Securities', 'Act.'): 1, ('Act.', '“'): 1, ('“', 'Liquidity'): 3, ('Liquidity', 'Capitalization'): 1, ('without', 'double-'): 1, ('double-', 'counting'): 1, ('counting', ')'): 1, (')', 'to'): 1, ('extent', 'receiving'): 1, ('receiving', 'Proceeds'): 1, (',', 'Promised'): 1, ('Securities', ','): 1, ('than', 'any'): 1, ('any', 'Safes'): 1, ('Safes', 'and'): 1, ('securities', '('): 1, ('(', 'including'): 3, ('including', 'without'): 2, ('limitation', 'shares'): 1, ('of', 'Preferred'): 3, (')', 'where'): 1, ('where', 'the'): 1, ('such', 'securities'): 1, ('securities', 'are'): 1, ('are', 'receiving'): 1, ('receiving', 'Cash-Out'): 1, ('liquidation', 'preference'): 2, ('preference', 'payments'): 1, ('payments', 'in'): 1, ('in', 'lieu'): 1, ('lieu', 'of'): 1, ('of', 'Conversion'): 1, ('similar', '“'): 1, ('“', 'as-converted'): 1, ('as-converted', '”'): 1, ('”', 'payments'): 1, ('payments', ';'): 1, ('Excludes', 'the'): 1, ('Option', 'Pool.'): 1, ('Pool.', '“'): 1, ('Control', 'or'): 1, ('or', 'an'): 1, ('an', 'Initial'): 1, ('Public', 'Offering.'): 1, ('Offering.', '“'): 1, ('Price', '”'): 2, ('the', 'price'): 2, ('share', 'equal'): 2, ('the', 'Post-Money'): 2, ('Cap', 'divided'): 2, ('divided', 'bythe'): 1, ('bythe', 'Liquidity'): 1, ('Liquidity', 'Capitalization.'): 1, ('Capitalization.', '“'): 2, ('“', 'Options'): 1, ('Options', '”'): 2, ('includes', 'options'): 1, ('options', ','): 1, (',', 'restricted'): 1, ('restricted', 'stock'): 1, ('stock', 'awards'): 1, ('awards', 'or'): 1, ('or', 'purchases'): 1, ('purchases', ','): 1, (',', 'RSUs'): 1, ('RSUs', ','): 1, (',', 'SARs'): 1, ('SARs', ','): 1, (',', 'warrants'): 1, ('warrants', 'or'): 1, ('similar', 'securities'): 1, ('securities', ','): 1, (',', 'vested'): 1, ('vested', 'or'): 1, ('or', 'unvested.'): 1, ('unvested.', '“'): 1, ('“', 'Proceeds'): 1, ('Proceeds', '”'): 1, ('means', 'cash'): 1, ('cash', 'and'): 1, ('other', 'assets'): 1, ('assets', '('): 1, ('limitation', 'stock'): 1, ('stock', 'consideration'): 1, ('consideration', ')'): 1, (')', 'that'): 1, ('that', 'are'): 3, ('are', 'proceeds'): 1, ('proceeds', 'from'): 1, ('from', 'the'): 1, ('or', 'the'): 3, ('as', 'applicable'): 1, ('and', 'legally'): 1, ('legally', 'available'): 1, ('available', 'for'): 2, ('for', 'distribution.'): 1, ('distribution.', '“'): 1, ('“', 'Promised'): 1, ('means', 'promised'): 1, ('promised', 'but'): 1, ('but', 'ungranted'): 1, ('ungranted', 'Options'): 1, ('of', 'those'): 1, ('those', '('): 1, (')', 'promised'): 1, ('promised', 'pursuant'): 1, ('to', 'agreements'): 1, ('agreements', 'or'): 1, ('or', 'understandings'): 1, ('understandings', 'made'): 1, ('made', 'prior'): 1, ('the', 'execution'): 1, ('execution', 'of'): 1, ('of', ','): 3, ('or', 'in'): 4, ('the', 'term'): 1, ('term', 'sheet'): 2, ('sheet', 'for'): 1, ('Financing', '('): 1, ('(', 'or'): 2, (',', 'if'): 2, ('if', 'there'): 1, ('is', 'no'): 1, ('no', 'term'): 1, ('sheet', ')'): 1, (')', 'treated'): 1, ('treated', 'as'): 1, ('as', 'outstanding'): 1, ('Options', 'in'): 1, ('the', 'calculation'): 1, ('calculation', 'of'): 1, ('Stock', '’'): 1, ('s', 'price'): 1, ('per', 'share.'): 1, ('share.', '“'): 1, ('“', 'Safe'): 2, ('Safe', '”'): 2, ('means', 'an'): 1, ('an', 'instrument'): 1, ('instrument', 'containing'): 1, ('containing', 'a'): 1, ('a', 'future'): 1, ('future', 'right'): 1, ('to', 'shares'): 1, (',', 'similar'): 1, ('similar', 'in'): 1, ('in', 'form'): 1, ('and', 'content'): 1, ('content', 'to'): 1, ('to', 'this'): 1, ('this', 'instrument'): 1, ('instrument', ','): 1, (',', 'purchased'): 1, ('purchased', 'by'): 1, ('by', 'investors'): 1, ('investors', 'for'): 1, ('the', 'purpose'): 1, ('of', 'funding'): 1, ('funding', 'the'): 1, ('s', 'business'): 1, ('business', 'operations.'): 1, ('operations.', 'References'): 1, ('References', 'to'): 1, ('to', '“'): 1, ('“', 'this'): 1, ('”', 'mean'): 1, ('mean', 'this'): 1, ('this', 'specific'): 1, ('specific', 'instrument.'): 1, ('instrument.', '“'): 1, ('“', 'SafePreferred'): 1, ('SafePreferred', 'Stock'): 1, ('the', 'shares'): 3, ('the', 'series'): 2, ('issued', 'to'): 2, ('Investor', 'in'): 1, ('in', 'an'): 1, (',', 'having'): 1, ('the', 'identical'): 1, ('identical', 'rights'): 1, ('rights', ','): 2, (',', 'privileges'): 1, ('privileges', ','): 1, (',', 'preferences'): 1, ('preferences', 'and'): 1, ('and', 'restrictions'): 1, ('restrictions', 'as'): 1, ('as', 'the'): 1, ('than', 'with'): 1, ('the', 'per'): 1, ('share', 'liquidation'): 1, ('preference', 'and'): 1, ('initial', 'conversion'): 1, ('conversion', 'price'): 1, ('price', 'for'): 1, ('of', 'price-based'): 1, ('price-based', 'anti-dilution'): 1, ('anti-dilution', 'protection'): 1, ('protection', ','): 1, (',', 'which'): 2, ('which', 'will'): 2, ('will', 'equal'): 1, ('equal', 'the'): 1, ('Safe', 'Price'): 2, ('Price', ';'): 1, ('the', 'basis'): 1, ('basis', 'for'): 1, ('for', 'any'): 3, ('any', 'dividend'): 1, ('dividend', 'rights'): 1, ('be', 'based'): 1, ('based', 'on'): 1, ('Price.', '“'): 1, ('Company', 'Capitalization.'): 1, ('“', 'Standard'): 1, ('the', 'investors'): 1, ('investors', 'investing'): 1, ('investing', 'new'): 1, ('new', 'money'): 1, ('money', 'in'): 1, ('Company', 'in'): 2, ('“', 'Unissued'): 1, ('Pool', '”'): 1, ('means', 'all'): 1, ('Stock', 'that'): 1, ('are', 'reserved'): 1, ('reserved', ','): 1, (',', 'available'): 1, ('for', 'future'): 1, ('future', 'grant'): 1, ('grant', 'and'): 1, ('and', 'not'): 2, ('not', 'subject'): 1, ('any', 'outstanding'): 1, ('Options', 'or'): 1, ('or', 'Promised'): 1, ('Options', '('): 1, ('(', 'but'): 1, ('but', 'in'): 1, ('the', 'case'): 1, ('case', 'of'): 1, ('of', 'a'): 2, (',', 'only'): 1, ('only', 'to'): 1, ('extent', 'Proceeds'): 1, ('are', 'payable'): 1, ('on', 'such'): 1, ('such', 'Promised'): 1, ('Options', ')'): 1, (')', 'under'): 1, ('any', 'equity'): 1, ('equity', 'incentive'): 1, ('incentive', 'or'): 1, ('similar', 'Company'): 1, ('Company', 'plan.'): 1, ('plan.', '3.Company'): 1, ('3.Company', 'Representations'): 1, ('Representations', '('): 2, (')', 'The'): 7, ('The', 'Company'): 1, ('Company', 'is'): 4, ('a', 'corporation'): 1, ('corporation', 'duly'): 1, ('duly', 'organized'): 1, ('organized', ','): 1, (',', 'validly'): 1, ('validly', 'existing'): 1, ('existing', 'and'): 1, ('and', 'in'): 3, ('good', 'standing'): 1, ('standing', 'under'): 1, ('the', 'laws'): 2, ('laws', 'of'): 4, ('of', 'its'): 1, ('its', 'state'): 1, ('state', 'of'): 1, ('of', 'incorporation'): 2, ('incorporation', ','): 1, ('and', 'has'): 2, ('has', 'the'): 1, ('the', 'power'): 2, ('power', 'and'): 2, ('and', 'authority'): 2, ('authority', 'to'): 2, ('to', 'own'): 1, ('own', ','): 1, ('lease', 'and'): 1, ('and', 'operate'): 1, ('operate', 'its'): 1, ('its', 'properties'): 1, ('properties', 'and'): 1, ('and', 'carry'): 1, ('carry', 'on'): 1, ('its', 'business'): 3, ('business', 'as'): 2, ('as', 'now'): 2, ('now', 'conducted.'): 1, ('conducted.', '('): 1, ('The', 'execution'): 1, ('execution', ','): 1, (',', 'delivery'): 1, ('delivery', 'and'): 1, ('and', 'performance'): 1, ('performance', 'by'): 1, ('is', 'within'): 1, ('power', 'of'): 1, ('has', 'been'): 3, ('been', 'duly'): 1, ('duly', 'authorized'): 1, ('authorized', 'by'): 1, ('by', 'all'): 1, ('all', 'necessary'): 1, ('necessary', 'actions'): 1, ('actions', 'on'): 1, ('(', 'subject'): 1, ('to', 'section'): 1, ('section', '3'): 1, ('3', '('): 1, (')', ')'): 2, ('.', 'This'): 1, ('Safe', 'constitutes'): 2, ('constitutes', 'a'): 1, ('a', 'legal'): 1, ('legal', ','): 1, (',', 'valid'): 1, ('valid', 'and'): 2, ('and', 'binding'): 2, ('binding', 'obligation'): 2, ('obligation', 'of'): 2, (',', 'enforceable'): 2, ('enforceable', 'against'): 1, ('against', 'the'): 1, ('in', 'accordance'): 2, ('accordance', 'with'): 2, ('with', 'its'): 2, ('its', 'terms'): 2, ('terms', ','): 2, ('except', 'as'): 2, ('as', 'limited'): 2, ('limited', 'by'): 2, ('by', 'bankruptcy'): 2, ('bankruptcy', ','): 2, (',', 'insolvency'): 2, ('insolvency', 'or'): 2, ('other', 'laws'): 2, ('of', 'general'): 2, ('general', 'application'): 2, ('application', 'relating'): 2, ('relating', 'to'): 2, ('to', 'or'): 2, ('or', 'affecting'): 2, ('affecting', 'the'): 2, ('the', 'enforcement'): 2, ('enforcement', 'of'): 2, ('of', 'creditors'): 2, ('creditors', '’'): 2, ('’', 'rights'): 2, ('rights', 'generally'): 2, ('generally', 'and'): 2, ('and', 'general'): 2, ('general', 'principles'): 2, ('principles', 'of'): 2, ('of', 'equity.'): 2, ('equity.', 'To'): 1, ('To', 'its'): 2, ('its', 'knowledge'): 2, ('knowledge', ','): 2, ('is', 'not'): 3, ('not', 'in'): 1, ('in', 'violation'): 1, ('violation', 'of'): 1, (')', 'its'): 1, ('its', 'current'): 1, ('current', 'certificate'): 1, ('certificate', 'of'): 1, ('incorporation', 'or'): 1, ('or', 'bylaws'): 1, ('bylaws', ','): 1, ('any', 'material'): 5, ('material', 'statute'): 1, ('statute', ','): 2, (',', 'rule'): 2, ('rule', 'or'): 2, ('or', 'regulation'): 2, ('regulation', 'applicable'): 2, ('material', 'debt'): 2, ('debt', 'or'): 2, ('or', 'contract'): 2, ('contract', 'to'): 2, ('a', 'party'): 2, ('party', 'or'): 2, ('or', 'by'): 3, ('by', 'which'): 2, ('which', 'it'): 2, ('it', 'is'): 2, ('is', 'bound'): 2, ('bound', ','): 1, (',', 'where'): 1, ('where', ','): 1, ('in', 'each'): 1, ('each', 'case'): 1, (',', 'such'): 2, ('such', 'violation'): 1, ('violation', 'or'): 1, ('or', 'default'): 1, ('default', ','): 1, (',', 'individually'): 1, ('individually', ','): 1, ('or', 'together'): 1, ('together', 'with'): 1, ('with', 'all'): 1, ('all', 'such'): 2, ('such', 'violations'): 1, ('violations', 'or'): 1, ('or', 'defaults'): 1, ('defaults', ','): 1, (',', 'could'): 1, ('could', 'reasonably'): 1, ('reasonably', 'be'): 1, ('be', 'expected'): 1, ('expected', 'to'): 1, ('to', 'have'): 1, ('have', 'a'): 2, ('a', 'material'): 1, ('material', 'adverse'): 1, ('adverse', 'effect'): 1, ('effect', 'on'): 1, ('Company.', '('): 1, ('The', 'performance'): 1, ('performance', 'and'): 1, ('and', 'consummation'): 1, ('the', 'transactions'): 1, ('transactions', 'contemplated'): 1, ('contemplated', 'by'): 1, ('by', 'this'): 2, ('Safe', 'do'): 1, ('do', 'not'): 1, ('not', 'and'): 1, ('and', 'will'): 3, ('will', 'not'): 3, ('not', ':'): 1, (')', 'violate'): 1, ('violate', 'any'): 1, ('material', 'judgment'): 1, ('judgment', ','): 1, (',', 'statute'): 1, ('Company', ';'): 1, (')', 'result'): 2, ('result', 'in'): 2, ('the', 'acceleration'): 1, ('acceleration', 'of'): 1, ('bound', ';'): 1, ('the', 'creation'): 1, ('creation', 'or'): 1, ('or', 'imposition'): 1, ('imposition', 'of'): 1, ('any', 'lien'): 1, ('lien', 'on'): 1, ('on', 'any'): 2, ('any', 'property'): 1, ('property', ','): 1, (',', 'asset'): 1, ('asset', 'or'): 1, ('or', 'revenue'): 1, ('revenue', 'of'): 1, ('the', 'suspension'): 1, ('suspension', ','): 1, (',', 'forfeiture'): 1, ('forfeiture', ','): 1, ('or', 'nonrenewal'): 1, ('nonrenewal', 'of'): 1, ('material', 'permit'): 1, ('permit', ','): 1, (',', 'license'): 1, ('license', 'or'): 1, ('or', 'authorization'): 1, ('authorization', 'applicable'): 1, (',', 'its'): 1, ('business', 'or'): 1, ('or', 'operations.'): 1, ('operations.', '('): 1, (')', 'No'): 1, ('No', 'consents'): 1, ('consents', 'or'): 1, ('or', 'approvals'): 1, ('approvals', 'are'): 1, ('are', 'required'): 1, ('required', 'in'): 1, ('the', 'performance'): 1, ('performance', 'of'): 1, ('than', ':'): 1, ('s', 'corporate'): 1, ('corporate', 'approvals'): 2, ('approvals', ';'): 1, ('any', 'qualifications'): 1, ('qualifications', 'or'): 1, ('or', 'filings'): 1, ('filings', 'under'): 1, ('under', 'applicable'): 1, ('applicable', 'securities'): 1, ('securities', 'laws'): 3, ('laws', ';'): 1, (')', 'necessary'): 1, ('necessary', 'corporate'): 1, ('approvals', 'for'): 1, ('the', 'authorization'): 1, ('authorization', 'of'): 1, ('Stock', 'issuable'): 1, ('issuable', 'pursuant'): 1, ('Section', '1.'): 1, ('1.', '('): 1, (')', 'To'): 1, ('Company', 'owns'): 1, ('owns', 'or'): 1, ('or', 'possesses'): 1, ('possesses', '('): 1, ('or', 'can'): 1, ('can', 'obtain'): 1, ('obtain', 'on'): 1, ('on', 'commercially'): 1, ('commercially', 'reasonable'): 1, ('reasonable', 'terms'): 1, ('terms', ')'): 1, (')', 'sufficient'): 1, ('sufficient', 'legal'): 1, ('legal', 'rights'): 1, ('rights', 'to'): 2, ('all', 'patents'): 1, ('patents', ','): 1, (',', 'trademarks'): 1, ('trademarks', ','): 1, (',', 'service'): 1, ('service', 'marks'): 1, ('marks', ','): 1, (',', 'trade'): 2, ('trade', 'names'): 1, ('names', ','): 1, (',', 'copyrights'): 1, ('copyrights', ','): 1, ('trade', 'secrets'): 1, ('secrets', ','): 1, (',', 'licenses'): 1, ('licenses', ','): 1, (',', 'information'): 1, ('information', ','): 1, (',', 'processes'): 1, ('processes', 'and'): 1, ('other', 'intellectual'): 1, ('intellectual', 'property'): 1, ('property', 'rights'): 1, ('rights', 'necessary'): 1, ('necessary', 'for'): 1, ('for', 'its'): 2, ('now', 'conducted'): 1, ('conducted', 'and'): 1, ('and', 'as'): 1, ('as', 'currently'): 1, ('currently', 'proposed'): 1, ('proposed', 'to'): 1, ('be', 'conducted'): 1, ('conducted', ','): 1, ('without', 'any'): 1, ('any', 'conflict'): 1, ('conflict', 'with'): 1, ('or', 'infringement'): 1, ('infringement', 'of'): 1, ('the', 'rights'): 2, ('rights', 'of'): 2, (',', 'others.'): 1, ('others.', '4.Investor'): 1, ('4.Investor', 'Representations'): 1, ('Investor', 'has'): 4, ('has', 'full'): 1, ('full', 'legal'): 1, ('legal', 'capacity'): 1, ('capacity', ','): 1, (',', 'power'): 1, ('to', 'execute'): 1, ('deliver', 'this'): 1, ('and', 'to'): 1, ('to', 'perform'): 1, ('perform', 'its'): 1, ('its', 'obligations'): 1, ('obligations', 'hereunder.'): 1, ('hereunder.', 'This'): 1, ('constitutes', 'valid'): 1, ('enforceable', 'in'): 1, ('equity.', '('): 1, ('Investor', 'is'): 4, ('an', 'accredited'): 2, ('accredited', 'investor'): 2, ('investor', 'as'): 1, ('as', 'such'): 2, ('such', 'term'): 2, ('term', 'is'): 1, ('is', 'defined'): 1, ('Rule', '501'): 1, ('501', 'of'): 1, ('of', 'Regulation'): 1, ('Regulation', 'D'): 1, ('D', 'under'): 1, ('Securities', 'Act'): 3, ('Act', ','): 2, ('and', 'acknowledges'): 1, ('acknowledges', 'and'): 1, ('and', 'agrees'): 1, ('agrees', 'that'): 1, ('that', 'if'): 1, ('if', 'not'): 2, ('not', 'an'): 1, ('investor', 'at'): 1, ('at', 'the'): 2, ('the', 'time'): 1, ('time', 'of'): 1, ('of', 'an'): 1, ('may', 'void'): 1, ('void', 'this'): 1, ('and', 'return'): 1, ('return', 'the'): 1, ('Purchase', 'Amount.'): 1, ('Amount.', 'The'): 1, ('been', 'advised'): 1, ('advised', 'that'): 1, ('that', 'this'): 2, ('the', 'underlying'): 1, ('underlying', 'securities'): 1, ('securities', 'have'): 1, ('have', 'not'): 1, ('not', 'been'): 1, ('been', 'registered'): 1, ('registered', 'under'): 2, ('or', 'any'): 2, ('any', 'state'): 1, ('state', 'securities'): 2, ('laws', 'and'): 1, ('and', ','): 1, (',', 'therefore'): 1, ('therefore', ','): 1, (',', 'can'): 1, ('can', 'not'): 1, ('not', 'be'): 3, ('be', 'resold'): 1, ('resold', 'unless'): 1, ('unless', 'they'): 1, ('they', 'are'): 1, ('are', 'registered'): 1, ('Act', 'and'): 1, ('and', 'applicable'): 1, ('applicable', 'state'): 1, ('laws', 'or'): 1, ('or', 'unless'): 1, ('unless', 'an'): 1, ('an', 'exemption'): 1, ('exemption', 'from'): 1, ('from', 'such'): 1, ('such', 'registration'): 1, ('registration', 'requirements'): 1, ('requirements', 'is'): 1, ('is', 'available.'): 1, ('available.', 'The'): 1, ('is', 'purchasing'): 1, ('purchasing', 'this'): 1, ('the', 'securities'): 1, ('securities', 'to'): 1, ('be', 'acquired'): 1, ('acquired', 'by'): 1, ('Investor', 'hereunder'): 1, ('hereunder', 'for'): 1, ('its', 'own'): 1, ('own', 'account'): 1, ('account', 'for'): 1, ('for', 'investment'): 1, ('investment', ','): 2, (',', 'not'): 1, ('not', 'as'): 1, ('a', 'nominee'): 1, ('nominee', 'or'): 1, ('or', 'agent'): 1, ('agent', ','): 1, ('not', 'with'): 1, ('a', 'view'): 1, ('view', 'to'): 1, ('or', 'for'): 1, ('for', 'resale'): 1, ('resale', 'in'): 1, ('the', 'distribution'): 1, ('distribution', 'thereof'): 1, ('thereof', ','): 1, ('has', 'no'): 1, ('no', 'present'): 1, ('present', 'intention'): 1, ('intention', 'of'): 1, ('of', 'selling'): 1, ('selling', ','): 1, (',', 'granting'): 1, ('granting', 'any'): 1, ('any', 'participation'): 1, ('participation', 'in'): 1, ('in', ','): 1, ('or', 'otherwise'): 2, ('otherwise', 'distributing'): 1, ('distributing', 'the'): 1, ('the', 'same.'): 1, ('same.', 'The'): 1, ('has', 'such'): 1, ('such', 'knowledge'): 1, ('knowledge', 'and'): 1, ('and', 'experience'): 1, ('experience', 'in'): 1, ('in', 'financial'): 1, ('financial', 'and'): 1, ('and', 'business'): 1, ('business', 'matters'): 1, ('matters', 'that'): 1, ('is', 'capable'): 1, ('capable', 'of'): 1, ('of', 'evaluating'): 1, ('evaluating', 'the'): 1, ('the', 'merits'): 1, ('merits', 'and'): 1, ('and', 'risks'): 1, ('risks', 'of'): 1, ('such', 'investment'): 3, (',', 'is'): 2, ('is', 'able'): 2, ('able', 'to'): 2, ('to', 'incur'): 1, ('incur', 'a'): 1, ('a', 'complete'): 1, ('complete', 'loss'): 1, ('loss', 'of'): 1, ('investment', 'without'): 1, ('without', 'impairing'): 1, ('impairing', 'the'): 1, ('s', 'financial'): 1, ('financial', 'condition'): 1, ('condition', 'and'): 1, ('and', 'is'): 1, ('to', 'bear'): 1, ('bear', 'the'): 1, ('the', 'economic'): 1, ('economic', 'risk'): 1, ('risk', 'of'): 1, ('investment', 'for'): 1, ('for', 'an'): 1, ('an', 'indefinite'): 1, ('indefinite', 'period'): 1, ('period', 'of'): 1, ('of', 'time.'): 1, ('time.', '5.Miscellaneous'): 1, ('5.Miscellaneous', '('): 1, (')', 'Any'): 2, ('Any', 'provision'): 1, ('provision', 'of'): 2, ('Safe', 'may'): 1, ('may', 'be'): 2, ('be', 'amended'): 2, ('amended', ','): 2, (',', 'waived'): 2, ('waived', 'or'): 2, ('or', 'modified'): 2, ('modified', 'by'): 2, ('by', 'written'): 2, ('written', 'consent'): 2, ('consent', 'of'): 4, ('and', 'either'): 1, ('either', '('): 1, ('Investor', 'or'): 1, ('the', 'majority-in-interest'): 1, ('majority-in-interest', 'of'): 1, ('all', 'then-outstanding'): 1, ('then-outstanding', 'Safes'): 1, ('Safes', 'with'): 1, ('same', '“'): 1, ('and', '“'): 1, ('“', 'Discount'): 1, ('Discount', 'Rate'): 1, ('Rate', '”'): 1, ('”', 'as'): 1, ('as', 'this'): 1, ('Safe', '('): 1, ('(', 'and'): 1, ('and', 'Safes'): 1, ('Safes', 'lacking'): 1, ('lacking', 'one'): 1, ('one', 'or'): 4, ('or', 'both'): 1, ('both', 'of'): 1, ('such', 'terms'): 1, ('terms', 'will'): 1, ('be', 'considered'): 1, ('considered', 'to'): 1, ('be', 'the'): 1, ('same', 'with'): 1, ('term', '('): 1, ('(', 's'): 2, ('s', ')'): 2, ('that', 'with'): 1, ('to', 'clause'): 1, ('clause', '('): 1, ('Amount', 'may'): 1, ('modified', 'in'): 1, ('in', 'this'): 3, ('this', 'manner'): 1, ('manner', ','): 1, ('the', 'consent'): 2, ('and', 'each'): 1, ('each', 'holder'): 1, ('holder', 'of'): 3, ('such', 'Safes'): 1, ('Safes', 'must'): 1, ('must', 'be'): 1, ('be', 'solicited'): 1, ('solicited', '('): 1, ('(', 'even'): 1, ('even', 'if'): 1, ('not', 'obtained'): 1, ('obtained', ')'): 1, ('(', 'C'): 1, ('C', ')'): 1, (')', 'such'): 1, ('such', 'amendment'): 1, ('amendment', ','): 1, (',', 'waiver'): 1, ('waiver', 'or'): 1, ('or', 'modification'): 1, ('modification', 'treats'): 1, ('treats', 'all'): 1, ('such', 'holders'): 1, ('holders', 'in'): 1, ('same', 'manner.'): 1, ('manner.', '“'): 1, ('“', 'Majority-in-interest'): 1, ('Majority-in-interest', '”'): 1, ('”', 'refers'): 1, ('refers', 'to'): 1, ('applicable', 'group'): 2, ('group', 'of'): 2, ('of', 'Safes'): 1, ('Safes', 'whose'): 1, ('whose', 'Safes'): 1, ('Safes', 'have'): 1, ('a', 'total'): 1, ('total', 'Purchase'): 2, ('Amount', 'greater'): 1, ('greater', 'than'): 1, ('Amount', 'of'): 1, ('such', 'applicable'): 1, ('of', 'Safes.'): 1, ('Safes.', '('): 1, ('Any', 'notice'): 1, ('notice', 'required'): 1, ('required', 'or'): 1, ('or', 'permitted'): 1, ('permitted', 'by'): 1, ('be', 'deemed'): 3, ('deemed', 'sufficient'): 1, ('sufficient', 'when'): 1, ('when', 'delivered'): 1, ('delivered', 'personally'): 1, ('personally', 'or'): 1, ('by', 'overnight'): 1, ('overnight', 'courier'): 1, ('courier', 'or'): 1, ('or', 'sent'): 1, ('sent', 'by'): 1, ('by', 'email'): 1, ('email', 'to'): 1, ('the', 'relevant'): 1, ('relevant', 'address'): 1, ('address', 'listed'): 2, ('listed', 'on'): 2, ('the', 'signature'): 2, ('signature', 'page'): 2, ('page', ','): 2, ('or', '48'): 1, ('48', 'hours'): 1, ('hours', 'after'): 1, ('after', 'being'): 1, ('being', 'deposited'): 1, ('deposited', 'in'): 1, ('the', 'U.S.'): 1, ('U.S.', 'mail'): 1, ('mail', 'as'): 1, ('as', 'certified'): 1, ('certified', 'or'): 1, ('or', 'registered'): 1, ('registered', 'mail'): 1, ('mail', 'with'): 1, ('with', 'postage'): 1, ('postage', 'prepaid'): 1, ('prepaid', ','): 1, (',', 'addressed'): 1, ('addressed', 'to'): 1, ('the', 'party'): 1, ('party', 'to'): 1, ('be', 'notified'): 1, ('notified', 'at'): 1, ('at', 'such'): 1, ('such', 'party'): 1, ('party', '’'): 1, ('s', 'address'): 1, ('as', 'subsequently'): 1, ('subsequently', 'modified'): 1, ('written', 'notice.'): 1, ('notice.', '('): 1, ('not', 'entitled'): 1, ('entitled', ','): 1, ('a', 'holder'): 2, ('vote', 'or'): 1, ('or', 'be'): 1, ('deemed', 'a'): 1, ('Stock', 'for'): 1, ('any', 'purpose'): 1, ('purpose', 'other'): 1, ('than', 'tax'): 1, (',', 'nor'): 1, ('nor', 'will'): 1, ('will', 'anything'): 1, ('anything', 'in'): 1, ('Safe', 'be'): 1, ('be', 'construed'): 1, ('construed', 'to'): 1, ('to', 'confer'): 1, ('confer', 'on'): 1, ('such', ','): 1, ('any', 'rights'): 1, ('a', 'Company'): 1, ('Company', 'stockholder'): 1, ('stockholder', 'or'): 1, ('or', 'rights'): 1, ('directors', 'or'): 1, ('or', 'on'): 1, ('any', 'matter'): 1, ('matter', 'submitted'): 1, ('submitted', 'to'): 1, ('to', 'Company'): 1, ('Company', 'stockholders'): 1, ('stockholders', ','): 1, ('or', 'to'): 2, ('to', 'give'): 1, ('give', 'or'): 1, ('or', 'withhold'): 1, ('withhold', 'consent'): 1, ('consent', 'to'): 1, ('any', 'corporate'): 1, ('corporate', 'action'): 1, ('action', 'or'): 1, ('receive', 'notice'): 1, ('notice', 'of'): 1, ('of', 'meetings'): 1, ('meetings', ','): 1, (',', 'until'): 1, ('until', 'shares'): 1, ('shares', 'have'): 1, ('have', 'been'): 1, ('been', 'issued'): 1, ('issued', 'on'): 1, ('in', 'Section'): 1, ('Section', '1.However'): 1, ('1.However', ','): 1, ('on', 'outstanding'): 1, ('outstanding', 'shares'): 1, ('Stock', '('): 1, ('(', 'that'): 1, ('not', 'payable'): 1, ('payable', 'in'): 1, ('in', 'shares'): 1, (')', 'while'): 1, ('while', 'this'): 1, ('is', 'outstanding'): 1, ('outstanding', ','): 1, ('Company', 'will'): 1, ('will', 'pay'): 1, ('pay', 'the'): 1, ('the', 'Dividend'): 1, ('Amount', 'to'): 1, ('Investor', 'at'): 1, ('same', 'time.'): 1, ('time.', '('): 1, (')', 'Neither'): 1, ('Neither', 'this'): 1, ('Safe', 'nor'): 1, ('nor', 'the'): 1, ('rights', 'in'): 1, ('Safe', 'are'): 1, ('are', 'transferable'): 1, ('transferable', 'or'): 1, ('or', 'assignable'): 1, ('assignable', ','): 1, (',', 'by'): 2, ('by', 'operation'): 1, ('operation', 'of'): 1, ('of', 'law'): 2, ('law', 'or'): 1, ('otherwise', ','): 1, ('by', 'either'): 1, ('either', 'party'): 1, ('party', 'without'): 1, ('without', 'the'): 3, ('the', 'prior'): 1, ('prior', 'written'): 1, ('the', 'other'): 1, ('other', ';'): 1, (',', 'however'): 1, ('however', ','): 1, ('Safe', 'and/or'): 1, ('and/or', 'its'): 1, ('its', 'rights'): 1, ('rights', 'may'): 1, ('be', 'assigned'): 1, ('assigned', 'without'): 1, ('s', 'consent'): 1, ('consent', 'by'): 1, ('Investor', 'to'): 1, ('other', 'entity'): 1, ('entity', 'who'): 1, ('who', 'directly'): 1, (',', 'controls'): 1, ('controls', ','): 1, ('is', 'controlled'): 2, ('controlled', 'by'): 2, ('by', 'or'): 1, ('or', 'is'): 1, ('is', 'under'): 1, ('under', 'common'): 1, ('common', 'control'): 1, ('control', 'with'): 1, ('any', 'general'): 1, ('general', 'partner'): 1, ('partner', ','): 1, (',', 'managing'): 1, ('managing', 'member'): 1, ('member', ','): 1, (',', 'officer'): 1, ('officer', 'or'): 1, ('or', 'director'): 1, ('director', 'of'): 1, ('any', 'venture'): 1, ('venture', 'capital'): 1, ('capital', 'fund'): 1, ('fund', 'now'): 1, ('now', 'or'): 1, ('or', 'hereafter'): 1, ('hereafter', 'existing'): 1, ('existing', 'which'): 1, ('which', 'is'): 1, ('by', 'one'): 1, ('or', 'more'): 3, ('more', 'general'): 1, ('general', 'partners'): 1, ('partners', 'or'): 1, ('or', 'managing'): 1, ('managing', 'members'): 1, ('or', 'shares'): 1, ('shares', 'the'): 1, ('same', 'management'): 1, ('management', 'company'): 1, ('company', 'with'): 1, ('Investor', ';'): 1, (';', 'andprovided'): 1, ('andprovided', ','): 1, (',', 'further'): 1, ('may', 'assign'): 1, ('assign', 'this'): 1, ('Safe', 'in'): 1, ('in', 'whole'): 2, ('whole', ','): 1, ('a', 'reincorporation'): 1, ('reincorporation', 'to'): 1, ('to', 'change'): 1, ('change', 'the'): 1, ('s', 'domicile.'): 1, ('domicile.', '('): 1, (')', 'In'): 1, ('In', 'the'): 1, ('the', 'event'): 2, ('event', 'any'): 1, ('any', 'one'): 2, ('more', 'of'): 2, ('the', 'provisions'): 2, ('provisions', 'of'): 4, ('is', 'for'): 1, ('any', 'reason'): 1, ('reason', 'held'): 1, ('held', 'to'): 1, ('be', 'invalid'): 1, ('invalid', ','): 1, (',', 'illegal'): 1, ('illegal', 'or'): 1, ('or', 'unenforceable'): 1, ('unenforceable', ','): 1, ('whole', 'or'): 1, ('in', 'part'): 1, ('part', 'or'): 1, ('in', 'any'): 2, ('any', 'respect'): 1, ('respect', ','): 1, ('event', 'that'): 1, ('that', 'any'): 1, ('Safe', 'operate'): 1, ('operate', 'or'): 1, ('or', 'would'): 1, ('would', 'prospectively'): 1, ('prospectively', 'operate'): 1, ('operate', 'to'): 1, ('to', 'invalidate'): 1, ('invalidate', 'this'): 1, (',', 'then'): 1, ('then', 'and'): 1, ('any', 'such'): 1, ('such', 'event'): 1, ('event', ','): 1, ('such', 'provision'): 1, ('provision', '('): 1, (')', 'only'): 1, ('only', 'will'): 1, ('deemed', 'null'): 1, ('null', 'and'): 1, ('and', 'void'): 1, ('void', 'and'): 1, ('not', 'affect'): 1, ('affect', 'any'): 1, ('other', 'provision'): 1, ('the', 'remaining'): 1, ('remaining', 'provisions'): 1, ('will', 'remain'): 1, ('remain', 'operative'): 1, ('operative', 'and'): 1, ('in', 'full'): 1, ('full', 'force'): 1, ('force', 'and'): 1, ('and', 'effect'): 1, ('effect', 'and'): 1, ('be', 'affected'): 1, ('affected', ','): 1, (',', 'prejudiced'): 1, ('prejudiced', ','): 1, ('or', 'disturbed'): 1, ('disturbed', 'thereby.'): 1, ('thereby.', '('): 1, ('(', 'f'): 1, ('f', ')'): 1, (')', 'All'): 1, ('All', 'rights'): 1, ('rights', 'and'): 1, ('and', 'obligations'): 1, ('obligations', 'hereunder'): 1, ('hereunder', 'will'): 1, ('be', 'governed'): 1, ('governed', 'by'): 1, ('the', 'State'): 1, ('State', 'of'): 1, ('of', '['): 1, ('[', 'Governing'): 1, ('Governing', 'Law'): 1, ('Law', 'Jurisdiction'): 1, ('Jurisdiction', ']'): 1, (']', ','): 1, ('without', 'regard'): 1, ('regard', 'to'): 1, ('the', 'conflicts'): 1, ('conflicts', 'of'): 1, ('law', 'provisions'): 1, ('such', 'jurisdiction.'): 1, ('jurisdiction.', '('): 1, ('(', 'g'): 1, ('g', ')'): 1, ('The', 'parties'): 1, ('parties', 'acknowledge'): 1, ('acknowledge', 'and'): 1, ('and', 'agree'): 1, ('that', 'for'): 1, ('for', 'United'): 1, ('United', 'States'): 2, ('States', 'federal'): 2, ('federal', 'and'): 2, ('and', 'state'): 2, ('state', 'income'): 2, ('purposes', 'this'): 1, ('is', ','): 1, ('and', 'at'): 1, ('at', 'all'): 1, ('all', 'times'): 1, ('times', 'has'): 1, ('been', ','): 1, (',', 'intended'): 1, ('be', 'characterized'): 1, ('characterized', 'as'): 1, ('as', 'stock'): 1, ('stock', ','): 1, ('and', 'more'): 1, ('more', 'particularly'): 1, ('particularly', 'as'): 1, ('as', 'common'): 1, ('common', 'stock'): 1, ('stock', 'for'): 1, ('of', 'Sections'): 1, ('Sections', '304'): 1, ('304', ','): 1, (',', '305'): 1, ('305', ','): 1, (',', '306'): 1, ('306', ','): 1, (',', '354'): 1, ('354', ','): 1, (',', '368'): 1, ('368', ','): 1, (',', '1036'): 1, ('1036', 'and'): 1, ('and', '1202'): 1, ('1202', 'of'): 1, ('the', 'Internal'): 1, ('Internal', 'Revenue'): 1, ('Revenue', 'Code'): 1, ('Code', 'of'): 1, ('of', '1986'): 1, ('1986', ','): 1, ('as', 'amended.Accordingly'): 1, ('amended.Accordingly', ','): 1, ('the', 'parties'): 1, ('parties', 'agree'): 1, ('agree', 'to'): 1, ('to', 'treat'): 1, ('treat', 'this'): 1, ('Safe', 'consistent'): 1, ('consistent', 'with'): 1, ('foregoing', 'intent'): 1, ('intent', 'for'): 1, ('for', 'all'): 1, ('all', 'United'): 1, ('purposes', '('): 1, ('on', 'their'): 1, ('their', 'respective'): 1, ('respective', 'tax'): 1, ('tax', 'returns'): 1, ('returns', 'or'): 1, ('other', 'informational'): 1, ('informational', 'statements'): 1, ('statements', ')'): 1, ('(', 'Signature'): 1, ('Signature', 'page'): 1, ('page', 'follows'): 1, ('follows', ')'): 1, (')', 'IN'): 1, ('IN', 'WITNESS'): 1, ('WITNESS', 'WHEREOF'): 1, ('WHEREOF', ','): 1, ('the', 'undersigned'): 1, ('undersigned', 'have'): 1, ('have', 'caused'): 1, ('caused', 'this'): 1, ('Safe', 'to'): 1, ('be', 'duly'): 1, ('duly', 'executed'): 1, ('executed', 'and'): 1, ('and', 'delivered.'): 1, ('delivered.', 'Anaxia'): 1, ('Anaxia', 'By'): 1, ('By', ':'): 2, (':', 'Psiayn'): 1, ('Psiayn', 'CEO'): 1, ('CEO', 'of'): 1, ('of', 'Anaxia'): 1, ('Anaxia', 'Address'): 1, ('Address', ':'): 2, (':', 'reddit'): 2, ('reddit', 'Email'): 1, ('Email', ':'): 2, ('reddit', '@'): 1, ('@', 'reddif.com'): 1, ('reddif.com', 'INVESTOR'): 1, ('INVESTOR', ':'): 1, (':', 'By'): 1, (':', 'vegito'): 1, ('vegito', 'blue'): 1, ('blue', 'Name'): 1, ('Name', ':'): 1, (':', 'Bob'): 1, ('Marley', 'Title'): 1, ('Title', ':'): 1, (':', 'Star'): 1, ('Star', 'Platinum'): 1, ('Platinum', 'Address'): 1, (':', 'Old'): 1, ('Old', 'Minasoda'): 1, ('Minasoda', 'town'): 1, ('town', 'Email'): 1, (':', 'dio'): 1, ('dio', '@'): 1, ('@', 'xyz.com'): 1}\n"
          ],
          "name": "stdout"
        }
      ]
    },
    {
      "cell_type": "code",
      "metadata": {
        "id": "RgNP6BMpmx4x",
        "colab_type": "code",
        "colab": {}
      },
      "source": [
        ""
      ],
      "execution_count": 0,
      "outputs": []
    }
  ]
}