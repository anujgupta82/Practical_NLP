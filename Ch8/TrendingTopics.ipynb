{
  "nbformat": 4,
  "nbformat_minor": 0,
  "metadata": {
    "colab": {
      "name": "TrendingTopics.ipynb",
      "provenance": [],
      "collapsed_sections": []
    },
    "kernelspec": {
      "name": "python3",
      "display_name": "Python 3"
    }
  },
  "cells": [
    {
      "cell_type": "markdown",
      "metadata": {
        "id": "6IM1xuTnGlPs",
        "colab_type": "text"
      },
      "source": [
        "#Trending Topics\n",
        "\n",
        "##In this notebook we show you how to access the most trending topics in a particular locatoin. \n",
        "###pre-requisites: Twitter Developer Account. If you dont have one, dont worry it is free to obtain all you need to do is visit this link and follow the setup process explained [here](https://cran.r-project.org/web/packages/rtweet/vignettes/auth.html)."
      ]
    },
    {
      "cell_type": "code",
      "metadata": {
        "id": "SSKP1W_7p7vL",
        "colab_type": "code",
        "colab": {}
      },
      "source": [
        "import tweepy, json"
      ],
      "execution_count": 0,
      "outputs": []
    },
    {
      "cell_type": "code",
      "metadata": {
        "id": "toSpm2I4BeTH",
        "colab_type": "code",
        "colab": {}
      },
      "source": [
        "#setting all the credentials of your twitter developer account\n",
        "CONSUMER_KEY= 'insert your customer key'\n",
        "CONSUMER_SECRET= 'insert your customer secrect key'\n",
        "ACCESS_KEY= 'insert your access key here'\n",
        "ACCESS_SECRET= 'insert your access secret key here'"
      ],
      "execution_count": 0,
      "outputs": []
    },
    {
      "cell_type": "code",
      "metadata": {
        "id": "oiNcCJPiBfDW",
        "colab_type": "code",
        "colab": {}
      },
      "source": [
        "#granting access to your twitter account\n",
        "auth = tweepy.OAuthHandler(CONSUMER_KEY, CONSUMER_SECRET)\n",
        "auth.set_access_token(ACCESS_KEY, ACCESS_SECRET)\n",
        "api = tweepy.API(auth)"
      ],
      "execution_count": 0,
      "outputs": []
    },
    {
      "cell_type": "code",
      "metadata": {
        "id": "wAM5FWYPBix2",
        "colab_type": "code",
        "colab": {
          "base_uri": "https://localhost:8080/",
          "height": 35
        },
        "outputId": "d474a149-e0dc-440f-a723-c273f0a112ae"
      },
      "source": [
        "#A WOEID (Where On Earth IDentifier) is a unique 32-bit reference identifier\n",
        "\n",
        "WORLD_WOE_ID =1\n",
        "BRAZIL_WOE_ID = 23424768\n",
        "\n",
        "#fetching trending topics in brazil \n",
        "brazil_trends = api.trends_place(BRAZIL_WOE_ID)\n",
        "trends = json.loads(json.dumps(brazil_trends, indent=1))\n",
        " \n",
        "brazil_trend_list=[] \n",
        "for trend in trends[0][\"trends\"]:\n",
        "\tbrazil_trend_list.append(trend[\"name\"].strip(\"#\"))\n",
        "\n",
        "#fetching trending topics in the world\n",
        "world_trends = api.trends_place(WORLD_WOE_ID)\n",
        "world_trends_json = json.loads(json.dumps(world_trends, indent=1))\n",
        "\n",
        "world_trend_list=[] \n",
        "for trend in world_trends_json[0][\"trends\"]:\n",
        "\tworld_trend_list.append(trend[\"name\"].strip(\"#\"))\n",
        " \n",
        "#printing the topics which are trending in both WORLD and BRAZIL \n",
        "print(set(world_trend_list).intersection(set(brazil_trend_list)))"
      ],
      "execution_count": 29,
      "outputs": [
        {
          "output_type": "stream",
          "text": [
            "{'PYONGEXPULSO', 'MaiaGolpista', 'FALLINGMUSICVIDEO', 'Normani', 'Monfils', 'WHYRUep6', 'FreeCodeFridayContest', 'YtBring67MBack', 'THELMA MERECE RESPEITO', 'Gare de Lyon'}\n"
          ],
          "name": "stdout"
        }
      ]
    },
    {
      "cell_type": "code",
      "metadata": {
        "id": "CvD89_eKCF7d",
        "colab_type": "code",
        "colab": {}
      },
      "source": [
        ""
      ],
      "execution_count": 0,
      "outputs": []
    },
    {
      "cell_type": "code",
      "metadata": {
        "id": "PPpiCPOwDGLO",
        "colab_type": "code",
        "colab": {}
      },
      "source": [
        ""
      ],
      "execution_count": 0,
      "outputs": []
    }
  ]
}